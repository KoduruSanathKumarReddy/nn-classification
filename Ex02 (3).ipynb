{
  "cells": [
    {
      "cell_type": "code",
      "execution_count": 1,
      "metadata": {
        "id": "bJ3XTElRk8sG"
      },
      "outputs": [],
      "source": [
        "import pandas as pd\n",
        "from sklearn.model_selection import train_test_split\n",
        "from tensorflow.keras.models import Sequential\n",
        "from tensorflow.keras.models import load_model\n",
        "import pickle\n",
        "from tensorflow.keras.layers import Dense\n",
        "from tensorflow.keras.layers import Dropout\n",
        "from tensorflow.keras.layers import BatchNormalization\n",
        "import tensorflow as tf\n",
        "import seaborn as sns\n",
        "from tensorflow.keras.callbacks import EarlyStopping\n",
        "from sklearn.preprocessing import MinMaxScaler\n",
        "from sklearn.preprocessing import LabelEncoder\n",
        "from sklearn.preprocessing import OneHotEncoder\n",
        "from sklearn.preprocessing import OrdinalEncoder\n",
        "from sklearn.metrics import classification_report,confusion_matrix\n",
        "import numpy as np\n",
        "import matplotlib.pylab as plt"
      ]
    },
    {
      "cell_type": "code",
      "execution_count": 11,
      "metadata": {
        "id": "ZNjUGCzqk_XM"
      },
      "outputs": [],
      "source": [
        "customer_df = pd.read_csv('customers.csv')"
      ]
    },
    {
      "cell_type": "markdown",
      "metadata": {
        "id": "bNBGQ7ugpQg6"
      },
      "source": [
        "An automobile company has plans to enter new markets with their existing products. After intensive market research, they’ve decided that the behavior of the new market is similar to their existing market.\n",
        "\n",
        "In their existing market, the sales team has classified all customers into 4 segments (A, B, C, D ). Then, they performed segmented outreach and communication for a different segment of customers. This strategy has work exceptionally well for them. They plan to use the same strategy for the new markets.\n",
        "\n",
        "You are required to help the manager to predict the right group of the new customers."
      ]
    },
    {
      "cell_type": "markdown",
      "metadata": {
        "id": "0yKzMCfonnyH"
      },
      "source": [
        "## Data Exploration"
      ]
    },
    {
      "cell_type": "code",
      "execution_count": 12,
      "metadata": {
        "colab": {
          "base_uri": "https://localhost:8080/"
        },
        "id": "TPZNqbLDl24D",
        "outputId": "4a5c1885-635d-44fe-d10c-f599c55bd21d"
      },
      "outputs": [
        {
          "output_type": "execute_result",
          "data": {
            "text/plain": [
              "Index(['ID', 'Gender', 'Ever_Married', 'Age', 'Graduated', 'Profession',\n",
              "       'Work_Experience', 'Spending_Score', 'Family_Size', 'Var_1',\n",
              "       'Segmentation'],\n",
              "      dtype='object')"
            ]
          },
          "metadata": {},
          "execution_count": 12
        }
      ],
      "source": [
        "customer_df.columns"
      ]
    },
    {
      "cell_type": "code",
      "execution_count": 15,
      "metadata": {
        "colab": {
          "base_uri": "https://localhost:8080/"
        },
        "id": "mjTGOx5xmU2l",
        "outputId": "403ed5b2-ddcf-47d4-d171-8602fa89e88b"
      },
      "outputs": [
        {
          "output_type": "execute_result",
          "data": {
            "text/plain": [
              "ID                   int64\n",
              "Gender              object\n",
              "Ever_Married        object\n",
              "Age                  int64\n",
              "Graduated           object\n",
              "Profession          object\n",
              "Work_Experience    float64\n",
              "Spending_Score      object\n",
              "Family_Size        float64\n",
              "Var_1               object\n",
              "Segmentation        object\n",
              "dtype: object"
            ]
          },
          "metadata": {},
          "execution_count": 15
        }
      ],
      "source": [
        "customer_df.dtypes"
      ]
    },
    {
      "cell_type": "code",
      "execution_count": 14,
      "metadata": {
        "colab": {
          "base_uri": "https://localhost:8080/"
        },
        "id": "9KjcGQXqmxE1",
        "outputId": "e2556280-ad04-4aea-c9dc-8bcadc8dc379"
      },
      "outputs": [
        {
          "output_type": "execute_result",
          "data": {
            "text/plain": [
              "(10695, 11)"
            ]
          },
          "metadata": {},
          "execution_count": 14
        }
      ],
      "source": [
        "customer_df.shape"
      ]
    },
    {
      "cell_type": "code",
      "execution_count": 16,
      "metadata": {
        "colab": {
          "base_uri": "https://localhost:8080/"
        },
        "id": "DJlcuOP5mdkV",
        "outputId": "f43c5c23-e077-4f79-b67d-49c330042845"
      },
      "outputs": [
        {
          "output_type": "execute_result",
          "data": {
            "text/plain": [
              "ID                    0\n",
              "Gender                0\n",
              "Ever_Married        190\n",
              "Age                   0\n",
              "Graduated           102\n",
              "Profession          162\n",
              "Work_Experience    1098\n",
              "Spending_Score        0\n",
              "Family_Size         448\n",
              "Var_1               108\n",
              "Segmentation          0\n",
              "dtype: int64"
            ]
          },
          "metadata": {},
          "execution_count": 16
        }
      ],
      "source": [
        "customer_df.isnull().sum()"
      ]
    },
    {
      "cell_type": "code",
      "execution_count": 17,
      "metadata": {
        "id": "wRXZpLG8oGeE"
      },
      "outputs": [],
      "source": [
        "customer_df_cleaned = customer_df.dropna(axis=0)"
      ]
    },
    {
      "cell_type": "code",
      "execution_count": 18,
      "metadata": {
        "colab": {
          "base_uri": "https://localhost:8080/"
        },
        "id": "2ril3hqdoVvU",
        "outputId": "3e6769fd-4994-4bfd-f26f-5291b107683d"
      },
      "outputs": [
        {
          "output_type": "execute_result",
          "data": {
            "text/plain": [
              "ID                 0\n",
              "Gender             0\n",
              "Ever_Married       0\n",
              "Age                0\n",
              "Graduated          0\n",
              "Profession         0\n",
              "Work_Experience    0\n",
              "Spending_Score     0\n",
              "Family_Size        0\n",
              "Var_1              0\n",
              "Segmentation       0\n",
              "dtype: int64"
            ]
          },
          "metadata": {},
          "execution_count": 18
        }
      ],
      "source": [
        "customer_df_cleaned.isnull().sum()"
      ]
    },
    {
      "cell_type": "code",
      "execution_count": 19,
      "metadata": {
        "colab": {
          "base_uri": "https://localhost:8080/"
        },
        "id": "f91V-qAhobdk",
        "outputId": "17bbe4a9-6033-4fdd-82cf-c9f623c654a3"
      },
      "outputs": [
        {
          "output_type": "execute_result",
          "data": {
            "text/plain": [
              "(8819, 11)"
            ]
          },
          "metadata": {},
          "execution_count": 19
        }
      ],
      "source": [
        "customer_df_cleaned.shape"
      ]
    },
    {
      "cell_type": "code",
      "execution_count": 20,
      "metadata": {
        "colab": {
          "base_uri": "https://localhost:8080/"
        },
        "id": "t8OPwyF_r2d1",
        "outputId": "ba4c68e0-73b8-45a9-b6d1-6c400fb7203d"
      },
      "outputs": [
        {
          "output_type": "execute_result",
          "data": {
            "text/plain": [
              "ID                   int64\n",
              "Gender              object\n",
              "Ever_Married        object\n",
              "Age                  int64\n",
              "Graduated           object\n",
              "Profession          object\n",
              "Work_Experience    float64\n",
              "Spending_Score      object\n",
              "Family_Size        float64\n",
              "Var_1               object\n",
              "Segmentation        object\n",
              "dtype: object"
            ]
          },
          "metadata": {},
          "execution_count": 20
        }
      ],
      "source": [
        "customer_df_cleaned.dtypes"
      ]
    },
    {
      "cell_type": "code",
      "execution_count": 21,
      "metadata": {
        "colab": {
          "base_uri": "https://localhost:8080/"
        },
        "id": "bM6v8-mAzUkr",
        "outputId": "67d8835a-33b1-468d-8146-e128c94badd4"
      },
      "outputs": [
        {
          "output_type": "execute_result",
          "data": {
            "text/plain": [
              "array(['Male', 'Female'], dtype=object)"
            ]
          },
          "metadata": {},
          "execution_count": 21
        }
      ],
      "source": [
        "customer_df_cleaned['Gender'].unique()"
      ]
    },
    {
      "cell_type": "code",
      "execution_count": 22,
      "metadata": {
        "colab": {
          "base_uri": "https://localhost:8080/"
        },
        "id": "YBgUthpJymO0",
        "outputId": "051201f8-ebcd-4bc9-e5bd-44495c260ad6"
      },
      "outputs": [
        {
          "output_type": "execute_result",
          "data": {
            "text/plain": [
              "array(['No', 'Yes'], dtype=object)"
            ]
          },
          "metadata": {},
          "execution_count": 22
        }
      ],
      "source": [
        "customer_df_cleaned['Ever_Married'].unique()"
      ]
    },
    {
      "cell_type": "code",
      "execution_count": 23,
      "metadata": {
        "colab": {
          "base_uri": "https://localhost:8080/"
        },
        "id": "SMHVOK5izC3C",
        "outputId": "389c3ad3-a029-4895-fd4e-bdd6a91b29bb"
      },
      "outputs": [
        {
          "output_type": "execute_result",
          "data": {
            "text/plain": [
              "array(['No', 'Yes'], dtype=object)"
            ]
          },
          "metadata": {},
          "execution_count": 23
        }
      ],
      "source": [
        "customer_df_cleaned['Graduated'].unique()"
      ]
    },
    {
      "cell_type": "code",
      "execution_count": 24,
      "metadata": {
        "colab": {
          "base_uri": "https://localhost:8080/"
        },
        "id": "Heyh0f-8zc1b",
        "outputId": "34590478-0536-4ad1-ce2e-11b46fd16ca5"
      },
      "outputs": [
        {
          "output_type": "execute_result",
          "data": {
            "text/plain": [
              "array(['Healthcare', 'Engineer', 'Lawyer', 'Artist', 'Doctor',\n",
              "       'Homemaker', 'Entertainment', 'Marketing', 'Executive'],\n",
              "      dtype=object)"
            ]
          },
          "metadata": {},
          "execution_count": 24
        }
      ],
      "source": [
        "customer_df_cleaned['Profession'].unique()"
      ]
    },
    {
      "cell_type": "code",
      "execution_count": 26,
      "metadata": {
        "colab": {
          "base_uri": "https://localhost:8080/"
        },
        "id": "jOgI3AvCzxLU",
        "outputId": "10f4f557-3615-444e-c479-eb81b0b1b088"
      },
      "outputs": [
        {
          "output_type": "execute_result",
          "data": {
            "text/plain": [
              "array(['Low', 'High', 'Average'], dtype=object)"
            ]
          },
          "metadata": {},
          "execution_count": 26
        }
      ],
      "source": [
        "customer_df_cleaned['Spending_Score'].unique()"
      ]
    },
    {
      "cell_type": "code",
      "execution_count": null,
      "metadata": {
        "id": "RFXw-Bp30F0j"
      },
      "outputs": [],
      "source": [
        "customer_df_cleaned['Var_1'].unique()"
      ]
    },
    {
      "cell_type": "code",
      "execution_count": 29,
      "metadata": {
        "colab": {
          "base_uri": "https://localhost:8080/"
        },
        "id": "QgyBx2_B0QPb",
        "outputId": "775e0cf0-87e3-4908-ab25-fbf3182cb4b9"
      },
      "outputs": [
        {
          "output_type": "execute_result",
          "data": {
            "text/plain": [
              "array(['D', 'B', 'C', 'A'], dtype=object)"
            ]
          },
          "metadata": {},
          "execution_count": 29
        }
      ],
      "source": [
        "customer_df_cleaned['Segmentation'].unique()"
      ]
    },
    {
      "cell_type": "code",
      "execution_count": 30,
      "metadata": {
        "id": "CxbYbHFj0a0E"
      },
      "outputs": [],
      "source": [
        "categories_list=[['Male', 'Female'],\n",
        "           ['No', 'Yes'],\n",
        "           ['No', 'Yes'],\n",
        "           ['Healthcare', 'Engineer', 'Lawyer', 'Artist', 'Doctor',\n",
        "            'Homemaker', 'Entertainment', 'Marketing', 'Executive'],\n",
        "           ['Low', 'Average', 'High']\n",
        "           ]\n",
        "enc = OrdinalEncoder(categories=categories_list)"
      ]
    },
    {
      "cell_type": "code",
      "execution_count": 31,
      "metadata": {
        "id": "1uNtCwbW2A_s"
      },
      "outputs": [],
      "source": [
        "customers_1 = customer_df_cleaned.copy()"
      ]
    },
    {
      "cell_type": "code",
      "execution_count": 32,
      "metadata": {
        "id": "rS9lezKn1PTk"
      },
      "outputs": [],
      "source": [
        "customers_1[['Gender',\n",
        "             'Ever_Married',\n",
        "              'Graduated','Profession',\n",
        "              'Spending_Score']] = enc.fit_transform(customers_1[['Gender',\n",
        "                                                                 'Ever_Married',\n",
        "                                                                 'Graduated','Profession',\n",
        "                                                                 'Spending_Score']])"
      ]
    },
    {
      "cell_type": "code",
      "execution_count": 33,
      "metadata": {
        "colab": {
          "base_uri": "https://localhost:8080/"
        },
        "id": "YMyqmQXy4dWM",
        "outputId": "af566ec6-ca8c-4332-f54b-05f47dc5c201"
      },
      "outputs": [
        {
          "output_type": "execute_result",
          "data": {
            "text/plain": [
              "ID                   int64\n",
              "Gender             float64\n",
              "Ever_Married       float64\n",
              "Age                  int64\n",
              "Graduated          float64\n",
              "Profession         float64\n",
              "Work_Experience    float64\n",
              "Spending_Score     float64\n",
              "Family_Size        float64\n",
              "Var_1               object\n",
              "Segmentation        object\n",
              "dtype: object"
            ]
          },
          "metadata": {},
          "execution_count": 33
        }
      ],
      "source": [
        "customers_1.dtypes"
      ]
    },
    {
      "cell_type": "code",
      "execution_count": 34,
      "metadata": {
        "id": "8q4w0B--9Hts"
      },
      "outputs": [],
      "source": [
        "le = LabelEncoder()"
      ]
    },
    {
      "cell_type": "code",
      "execution_count": 35,
      "metadata": {
        "id": "jJVTD6pY9PUr"
      },
      "outputs": [],
      "source": [
        "customers_1['Segmentation'] = le.fit_transform(customers_1['Segmentation'])"
      ]
    },
    {
      "cell_type": "code",
      "execution_count": 36,
      "metadata": {
        "colab": {
          "base_uri": "https://localhost:8080/"
        },
        "id": "Uewr-HwX-B0M",
        "outputId": "fcbf9593-b01c-4d27-d50d-69a2ecb7e198"
      },
      "outputs": [
        {
          "output_type": "execute_result",
          "data": {
            "text/plain": [
              "ID                   int64\n",
              "Gender             float64\n",
              "Ever_Married       float64\n",
              "Age                  int64\n",
              "Graduated          float64\n",
              "Profession         float64\n",
              "Work_Experience    float64\n",
              "Spending_Score     float64\n",
              "Family_Size        float64\n",
              "Var_1               object\n",
              "Segmentation         int64\n",
              "dtype: object"
            ]
          },
          "metadata": {},
          "execution_count": 36
        }
      ],
      "source": [
        "customers_1.dtypes"
      ]
    },
    {
      "cell_type": "code",
      "execution_count": 37,
      "metadata": {
        "id": "Lu6OsQLU8zRb"
      },
      "outputs": [],
      "source": [
        "customers_1 = customers_1.drop('ID',axis=1)\n",
        "customers_1 = customers_1.drop('Var_1',axis=1)"
      ]
    },
    {
      "cell_type": "code",
      "execution_count": 38,
      "metadata": {
        "colab": {
          "base_uri": "https://localhost:8080/"
        },
        "id": "dXf-gjsf-ZAk",
        "outputId": "4b0f646d-c72f-45cd-ae14-610471d2c799"
      },
      "outputs": [
        {
          "output_type": "execute_result",
          "data": {
            "text/plain": [
              "Gender             float64\n",
              "Ever_Married       float64\n",
              "Age                  int64\n",
              "Graduated          float64\n",
              "Profession         float64\n",
              "Work_Experience    float64\n",
              "Spending_Score     float64\n",
              "Family_Size        float64\n",
              "Segmentation         int64\n",
              "dtype: object"
            ]
          },
          "metadata": {},
          "execution_count": 38
        }
      ],
      "source": [
        "customers_1.dtypes"
      ]
    },
    {
      "cell_type": "code",
      "execution_count": 39,
      "metadata": {
        "colab": {
          "base_uri": "https://localhost:8080/"
        },
        "id": "QuUeD6ch_Wfs",
        "outputId": "cb157dac-26ce-4298-d653-437709bb9294"
      },
      "outputs": [
        {
          "output_type": "execute_result",
          "data": {
            "text/plain": [
              "array([3, 1, 2, 0])"
            ]
          },
          "metadata": {},
          "execution_count": 39
        }
      ],
      "source": [
        "customers_1['Segmentation'].unique()"
      ]
    },
    {
      "cell_type": "code",
      "execution_count": 40,
      "metadata": {
        "id": "-J_YjTMJvtD8"
      },
      "outputs": [],
      "source": [
        "X=customers_1[['Gender','Ever_Married','Age','Graduated','Profession','Work_Experience','Spending_Score','Family_Size']].values"
      ]
    },
    {
      "cell_type": "code",
      "execution_count": 41,
      "metadata": {
        "id": "ocTtyqEuvvBc"
      },
      "outputs": [],
      "source": [
        "y1 = customers_1[['Segmentation']].values"
      ]
    },
    {
      "cell_type": "code",
      "execution_count": 42,
      "metadata": {
        "id": "pJ3_LQvWtpLV"
      },
      "outputs": [],
      "source": [
        "one_hot_enc = OneHotEncoder()"
      ]
    },
    {
      "cell_type": "code",
      "execution_count": 43,
      "metadata": {
        "colab": {
          "base_uri": "https://localhost:8080/",
          "height": 74
        },
        "id": "g7liKwW6tsaU",
        "outputId": "25f629f3-9ac8-478e-f9ee-31795fcad946"
      },
      "outputs": [
        {
          "output_type": "execute_result",
          "data": {
            "text/plain": [
              "OneHotEncoder()"
            ],
            "text/html": [
              "<style>#sk-container-id-1 {color: black;background-color: white;}#sk-container-id-1 pre{padding: 0;}#sk-container-id-1 div.sk-toggleable {background-color: white;}#sk-container-id-1 label.sk-toggleable__label {cursor: pointer;display: block;width: 100%;margin-bottom: 0;padding: 0.3em;box-sizing: border-box;text-align: center;}#sk-container-id-1 label.sk-toggleable__label-arrow:before {content: \"▸\";float: left;margin-right: 0.25em;color: #696969;}#sk-container-id-1 label.sk-toggleable__label-arrow:hover:before {color: black;}#sk-container-id-1 div.sk-estimator:hover label.sk-toggleable__label-arrow:before {color: black;}#sk-container-id-1 div.sk-toggleable__content {max-height: 0;max-width: 0;overflow: hidden;text-align: left;background-color: #f0f8ff;}#sk-container-id-1 div.sk-toggleable__content pre {margin: 0.2em;color: black;border-radius: 0.25em;background-color: #f0f8ff;}#sk-container-id-1 input.sk-toggleable__control:checked~div.sk-toggleable__content {max-height: 200px;max-width: 100%;overflow: auto;}#sk-container-id-1 input.sk-toggleable__control:checked~label.sk-toggleable__label-arrow:before {content: \"▾\";}#sk-container-id-1 div.sk-estimator input.sk-toggleable__control:checked~label.sk-toggleable__label {background-color: #d4ebff;}#sk-container-id-1 div.sk-label input.sk-toggleable__control:checked~label.sk-toggleable__label {background-color: #d4ebff;}#sk-container-id-1 input.sk-hidden--visually {border: 0;clip: rect(1px 1px 1px 1px);clip: rect(1px, 1px, 1px, 1px);height: 1px;margin: -1px;overflow: hidden;padding: 0;position: absolute;width: 1px;}#sk-container-id-1 div.sk-estimator {font-family: monospace;background-color: #f0f8ff;border: 1px dotted black;border-radius: 0.25em;box-sizing: border-box;margin-bottom: 0.5em;}#sk-container-id-1 div.sk-estimator:hover {background-color: #d4ebff;}#sk-container-id-1 div.sk-parallel-item::after {content: \"\";width: 100%;border-bottom: 1px solid gray;flex-grow: 1;}#sk-container-id-1 div.sk-label:hover label.sk-toggleable__label {background-color: #d4ebff;}#sk-container-id-1 div.sk-serial::before {content: \"\";position: absolute;border-left: 1px solid gray;box-sizing: border-box;top: 0;bottom: 0;left: 50%;z-index: 0;}#sk-container-id-1 div.sk-serial {display: flex;flex-direction: column;align-items: center;background-color: white;padding-right: 0.2em;padding-left: 0.2em;position: relative;}#sk-container-id-1 div.sk-item {position: relative;z-index: 1;}#sk-container-id-1 div.sk-parallel {display: flex;align-items: stretch;justify-content: center;background-color: white;position: relative;}#sk-container-id-1 div.sk-item::before, #sk-container-id-1 div.sk-parallel-item::before {content: \"\";position: absolute;border-left: 1px solid gray;box-sizing: border-box;top: 0;bottom: 0;left: 50%;z-index: -1;}#sk-container-id-1 div.sk-parallel-item {display: flex;flex-direction: column;z-index: 1;position: relative;background-color: white;}#sk-container-id-1 div.sk-parallel-item:first-child::after {align-self: flex-end;width: 50%;}#sk-container-id-1 div.sk-parallel-item:last-child::after {align-self: flex-start;width: 50%;}#sk-container-id-1 div.sk-parallel-item:only-child::after {width: 0;}#sk-container-id-1 div.sk-dashed-wrapped {border: 1px dashed gray;margin: 0 0.4em 0.5em 0.4em;box-sizing: border-box;padding-bottom: 0.4em;background-color: white;}#sk-container-id-1 div.sk-label label {font-family: monospace;font-weight: bold;display: inline-block;line-height: 1.2em;}#sk-container-id-1 div.sk-label-container {text-align: center;}#sk-container-id-1 div.sk-container {/* jupyter's `normalize.less` sets `[hidden] { display: none; }` but bootstrap.min.css set `[hidden] { display: none !important; }` so we also need the `!important` here to be able to override the default hidden behavior on the sphinx rendered scikit-learn.org. See: https://github.com/scikit-learn/scikit-learn/issues/21755 */display: inline-block !important;position: relative;}#sk-container-id-1 div.sk-text-repr-fallback {display: none;}</style><div id=\"sk-container-id-1\" class=\"sk-top-container\"><div class=\"sk-text-repr-fallback\"><pre>OneHotEncoder()</pre><b>In a Jupyter environment, please rerun this cell to show the HTML representation or trust the notebook. <br />On GitHub, the HTML representation is unable to render, please try loading this page with nbviewer.org.</b></div><div class=\"sk-container\" hidden><div class=\"sk-item\"><div class=\"sk-estimator sk-toggleable\"><input class=\"sk-toggleable__control sk-hidden--visually\" id=\"sk-estimator-id-1\" type=\"checkbox\" checked><label for=\"sk-estimator-id-1\" class=\"sk-toggleable__label sk-toggleable__label-arrow\">OneHotEncoder</label><div class=\"sk-toggleable__content\"><pre>OneHotEncoder()</pre></div></div></div></div></div>"
            ]
          },
          "metadata": {},
          "execution_count": 43
        }
      ],
      "source": [
        "one_hot_enc.fit(y1)"
      ]
    },
    {
      "cell_type": "code",
      "execution_count": 44,
      "metadata": {
        "colab": {
          "base_uri": "https://localhost:8080/"
        },
        "id": "e9NIce00wWZ0",
        "outputId": "f8c0e1f4-4580-4151-f4ef-c4cc239095a2"
      },
      "outputs": [
        {
          "output_type": "execute_result",
          "data": {
            "text/plain": [
              "(8819, 1)"
            ]
          },
          "metadata": {},
          "execution_count": 44
        }
      ],
      "source": [
        "y1.shape"
      ]
    },
    {
      "cell_type": "code",
      "execution_count": 45,
      "metadata": {
        "id": "3JZs07XuwJ0E"
      },
      "outputs": [],
      "source": [
        "y = one_hot_enc.transform(y1).toarray()"
      ]
    },
    {
      "cell_type": "code",
      "execution_count": 46,
      "metadata": {
        "colab": {
          "base_uri": "https://localhost:8080/"
        },
        "id": "fXOd9Lw5vPA0",
        "outputId": "96e49275-1c43-4275-85da-f0b78a2dc740"
      },
      "outputs": [
        {
          "output_type": "execute_result",
          "data": {
            "text/plain": [
              "(8819, 4)"
            ]
          },
          "metadata": {},
          "execution_count": 46
        }
      ],
      "source": [
        "y.shape"
      ]
    },
    {
      "cell_type": "code",
      "execution_count": 47,
      "metadata": {
        "colab": {
          "base_uri": "https://localhost:8080/"
        },
        "id": "swTRKef2wkCj",
        "outputId": "958fc0d0-37fc-4a88-a16b-4408f0aad9f0"
      },
      "outputs": [
        {
          "output_type": "execute_result",
          "data": {
            "text/plain": [
              "array([3])"
            ]
          },
          "metadata": {},
          "execution_count": 47
        }
      ],
      "source": [
        "y1[0]"
      ]
    },
    {
      "cell_type": "code",
      "execution_count": 48,
      "metadata": {
        "colab": {
          "base_uri": "https://localhost:8080/"
        },
        "id": "fJp7ZZBjwmZD",
        "outputId": "524d2ba0-23ee-4e64-9a44-54e118ac1e24"
      },
      "outputs": [
        {
          "output_type": "execute_result",
          "data": {
            "text/plain": [
              "array([0., 0., 0., 1.])"
            ]
          },
          "metadata": {},
          "execution_count": 48
        }
      ],
      "source": [
        "y[0]"
      ]
    },
    {
      "cell_type": "code",
      "execution_count": 49,
      "metadata": {
        "colab": {
          "base_uri": "https://localhost:8080/"
        },
        "id": "KahHZCLk9s1T",
        "outputId": "53191b8c-e6c8-4118-9145-3ebcfb2bf22d"
      },
      "outputs": [
        {
          "output_type": "execute_result",
          "data": {
            "text/plain": [
              "(8819, 8)"
            ]
          },
          "metadata": {},
          "execution_count": 49
        }
      ],
      "source": [
        "X.shape"
      ]
    },
    {
      "cell_type": "code",
      "execution_count": 50,
      "metadata": {
        "id": "rbfaV9m5AcFj"
      },
      "outputs": [],
      "source": [
        "X_train,X_test,y_train,y_test=train_test_split(X,y,\n",
        "                                               test_size=0.33,\n",
        "                                               random_state=50)"
      ]
    },
    {
      "cell_type": "code",
      "execution_count": 51,
      "metadata": {
        "colab": {
          "base_uri": "https://localhost:8080/"
        },
        "id": "2_QLZBaIbauo",
        "outputId": "819a4588-3761-4e3e-900d-0a71ab28083d"
      },
      "outputs": [
        {
          "output_type": "execute_result",
          "data": {
            "text/plain": [
              "array([ 1.,  1., 85.,  0.,  2.,  0.,  0.,  1.])"
            ]
          },
          "metadata": {},
          "execution_count": 51
        }
      ],
      "source": [
        "X_train[0]"
      ]
    },
    {
      "cell_type": "code",
      "execution_count": 52,
      "metadata": {
        "colab": {
          "base_uri": "https://localhost:8080/"
        },
        "id": "OIPWUbXvbmwV",
        "outputId": "4bca4e49-8f97-4667-9e91-7b3dfc59b7eb"
      },
      "outputs": [
        {
          "output_type": "execute_result",
          "data": {
            "text/plain": [
              "(5908, 8)"
            ]
          },
          "metadata": {},
          "execution_count": 52
        }
      ],
      "source": [
        "X_train.shape"
      ]
    },
    {
      "cell_type": "code",
      "execution_count": 53,
      "metadata": {
        "id": "Mmjt0F9PaVfg"
      },
      "outputs": [],
      "source": [
        "scaler_age = MinMaxScaler()"
      ]
    },
    {
      "cell_type": "code",
      "execution_count": 54,
      "metadata": {
        "colab": {
          "base_uri": "https://localhost:8080/",
          "height": 74
        },
        "id": "SsN7WvXbafRg",
        "outputId": "50f009b8-5cc9-4d7e-af93-830890a409bf"
      },
      "outputs": [
        {
          "output_type": "execute_result",
          "data": {
            "text/plain": [
              "MinMaxScaler()"
            ],
            "text/html": [
              "<style>#sk-container-id-2 {color: black;background-color: white;}#sk-container-id-2 pre{padding: 0;}#sk-container-id-2 div.sk-toggleable {background-color: white;}#sk-container-id-2 label.sk-toggleable__label {cursor: pointer;display: block;width: 100%;margin-bottom: 0;padding: 0.3em;box-sizing: border-box;text-align: center;}#sk-container-id-2 label.sk-toggleable__label-arrow:before {content: \"▸\";float: left;margin-right: 0.25em;color: #696969;}#sk-container-id-2 label.sk-toggleable__label-arrow:hover:before {color: black;}#sk-container-id-2 div.sk-estimator:hover label.sk-toggleable__label-arrow:before {color: black;}#sk-container-id-2 div.sk-toggleable__content {max-height: 0;max-width: 0;overflow: hidden;text-align: left;background-color: #f0f8ff;}#sk-container-id-2 div.sk-toggleable__content pre {margin: 0.2em;color: black;border-radius: 0.25em;background-color: #f0f8ff;}#sk-container-id-2 input.sk-toggleable__control:checked~div.sk-toggleable__content {max-height: 200px;max-width: 100%;overflow: auto;}#sk-container-id-2 input.sk-toggleable__control:checked~label.sk-toggleable__label-arrow:before {content: \"▾\";}#sk-container-id-2 div.sk-estimator input.sk-toggleable__control:checked~label.sk-toggleable__label {background-color: #d4ebff;}#sk-container-id-2 div.sk-label input.sk-toggleable__control:checked~label.sk-toggleable__label {background-color: #d4ebff;}#sk-container-id-2 input.sk-hidden--visually {border: 0;clip: rect(1px 1px 1px 1px);clip: rect(1px, 1px, 1px, 1px);height: 1px;margin: -1px;overflow: hidden;padding: 0;position: absolute;width: 1px;}#sk-container-id-2 div.sk-estimator {font-family: monospace;background-color: #f0f8ff;border: 1px dotted black;border-radius: 0.25em;box-sizing: border-box;margin-bottom: 0.5em;}#sk-container-id-2 div.sk-estimator:hover {background-color: #d4ebff;}#sk-container-id-2 div.sk-parallel-item::after {content: \"\";width: 100%;border-bottom: 1px solid gray;flex-grow: 1;}#sk-container-id-2 div.sk-label:hover label.sk-toggleable__label {background-color: #d4ebff;}#sk-container-id-2 div.sk-serial::before {content: \"\";position: absolute;border-left: 1px solid gray;box-sizing: border-box;top: 0;bottom: 0;left: 50%;z-index: 0;}#sk-container-id-2 div.sk-serial {display: flex;flex-direction: column;align-items: center;background-color: white;padding-right: 0.2em;padding-left: 0.2em;position: relative;}#sk-container-id-2 div.sk-item {position: relative;z-index: 1;}#sk-container-id-2 div.sk-parallel {display: flex;align-items: stretch;justify-content: center;background-color: white;position: relative;}#sk-container-id-2 div.sk-item::before, #sk-container-id-2 div.sk-parallel-item::before {content: \"\";position: absolute;border-left: 1px solid gray;box-sizing: border-box;top: 0;bottom: 0;left: 50%;z-index: -1;}#sk-container-id-2 div.sk-parallel-item {display: flex;flex-direction: column;z-index: 1;position: relative;background-color: white;}#sk-container-id-2 div.sk-parallel-item:first-child::after {align-self: flex-end;width: 50%;}#sk-container-id-2 div.sk-parallel-item:last-child::after {align-self: flex-start;width: 50%;}#sk-container-id-2 div.sk-parallel-item:only-child::after {width: 0;}#sk-container-id-2 div.sk-dashed-wrapped {border: 1px dashed gray;margin: 0 0.4em 0.5em 0.4em;box-sizing: border-box;padding-bottom: 0.4em;background-color: white;}#sk-container-id-2 div.sk-label label {font-family: monospace;font-weight: bold;display: inline-block;line-height: 1.2em;}#sk-container-id-2 div.sk-label-container {text-align: center;}#sk-container-id-2 div.sk-container {/* jupyter's `normalize.less` sets `[hidden] { display: none; }` but bootstrap.min.css set `[hidden] { display: none !important; }` so we also need the `!important` here to be able to override the default hidden behavior on the sphinx rendered scikit-learn.org. See: https://github.com/scikit-learn/scikit-learn/issues/21755 */display: inline-block !important;position: relative;}#sk-container-id-2 div.sk-text-repr-fallback {display: none;}</style><div id=\"sk-container-id-2\" class=\"sk-top-container\"><div class=\"sk-text-repr-fallback\"><pre>MinMaxScaler()</pre><b>In a Jupyter environment, please rerun this cell to show the HTML representation or trust the notebook. <br />On GitHub, the HTML representation is unable to render, please try loading this page with nbviewer.org.</b></div><div class=\"sk-container\" hidden><div class=\"sk-item\"><div class=\"sk-estimator sk-toggleable\"><input class=\"sk-toggleable__control sk-hidden--visually\" id=\"sk-estimator-id-2\" type=\"checkbox\" checked><label for=\"sk-estimator-id-2\" class=\"sk-toggleable__label sk-toggleable__label-arrow\">MinMaxScaler</label><div class=\"sk-toggleable__content\"><pre>MinMaxScaler()</pre></div></div></div></div></div>"
            ]
          },
          "metadata": {},
          "execution_count": 54
        }
      ],
      "source": [
        "scaler_age.fit(X_train[:,2].reshape(-1,1))"
      ]
    },
    {
      "cell_type": "code",
      "execution_count": 55,
      "metadata": {
        "id": "aKDlVv9td2Pn"
      },
      "outputs": [],
      "source": [
        "X_train_scaled = np.copy(X_train)\n",
        "X_test_scaled = np.copy(X_test)"
      ]
    },
    {
      "cell_type": "code",
      "execution_count": 56,
      "metadata": {
        "id": "_zLQE847alPZ"
      },
      "outputs": [],
      "source": [
        "# To scale the Age column\n",
        "X_train_scaled[:,2] = scaler_age.transform(X_train[:,2].reshape(-1,1)).reshape(-1)\n",
        "X_test_scaled[:,2] = scaler_age.transform(X_test[:,2].reshape(-1,1)).reshape(-1)"
      ]
    },
    {
      "cell_type": "code",
      "execution_count": 57,
      "metadata": {
        "id": "6NKfQhCA9mkr"
      },
      "outputs": [],
      "source": [
        "# Creating the model\n",
        "ai_brain = Sequential([\n",
        "  Dense(units = 8, input_shape=[8]),\n",
        "  Dense(units =16, activation='relu'),\n",
        "\n",
        "  Dense(units =4, activation ='softmax')\n",
        "])"
      ]
    },
    {
      "cell_type": "code",
      "execution_count": 58,
      "metadata": {
        "id": "3s-Vq8CP_0Ub"
      },
      "outputs": [],
      "source": [
        "ai_brain.compile(optimizer='adam',\n",
        "                 loss='categorical_crossentropy',\n",
        "                 metrics=['accuracy'])"
      ]
    },
    {
      "cell_type": "code",
      "execution_count": 59,
      "metadata": {
        "colab": {
          "base_uri": "https://localhost:8080/"
        },
        "id": "jmzdz5JQAYLh",
        "outputId": "2c821378-5e80-4449-a7cd-4d897845ed9b"
      },
      "outputs": [
        {
          "output_type": "stream",
          "name": "stdout",
          "text": [
            "Epoch 1/500\n",
            "24/24 [==============================] - 1s 14ms/step - loss: 1.7535 - accuracy: 0.2603 - val_loss: 1.5392 - val_accuracy: 0.2879\n",
            "Epoch 2/500\n",
            "24/24 [==============================] - 0s 4ms/step - loss: 1.4669 - accuracy: 0.3199 - val_loss: 1.4420 - val_accuracy: 0.3260\n",
            "Epoch 3/500\n",
            "24/24 [==============================] - 0s 4ms/step - loss: 1.3988 - accuracy: 0.3378 - val_loss: 1.3954 - val_accuracy: 0.3322\n",
            "Epoch 4/500\n",
            "24/24 [==============================] - 0s 4ms/step - loss: 1.3612 - accuracy: 0.3505 - val_loss: 1.3652 - val_accuracy: 0.3518\n",
            "Epoch 5/500\n",
            "24/24 [==============================] - 0s 4ms/step - loss: 1.3367 - accuracy: 0.3707 - val_loss: 1.3443 - val_accuracy: 0.3638\n",
            "Epoch 6/500\n",
            "24/24 [==============================] - 0s 4ms/step - loss: 1.3171 - accuracy: 0.3854 - val_loss: 1.3290 - val_accuracy: 0.3734\n",
            "Epoch 7/500\n",
            "24/24 [==============================] - 0s 4ms/step - loss: 1.3026 - accuracy: 0.3940 - val_loss: 1.3165 - val_accuracy: 0.3844\n",
            "Epoch 8/500\n",
            "24/24 [==============================] - 0s 4ms/step - loss: 1.2922 - accuracy: 0.3993 - val_loss: 1.3071 - val_accuracy: 0.3885\n",
            "Epoch 9/500\n",
            "24/24 [==============================] - 0s 6ms/step - loss: 1.2833 - accuracy: 0.4057 - val_loss: 1.2999 - val_accuracy: 0.3882\n",
            "Epoch 10/500\n",
            "24/24 [==============================] - 0s 4ms/step - loss: 1.2755 - accuracy: 0.4067 - val_loss: 1.2936 - val_accuracy: 0.3937\n",
            "Epoch 11/500\n",
            "24/24 [==============================] - 0s 4ms/step - loss: 1.2697 - accuracy: 0.4118 - val_loss: 1.2878 - val_accuracy: 0.3930\n",
            "Epoch 12/500\n",
            "24/24 [==============================] - 0s 4ms/step - loss: 1.2648 - accuracy: 0.4159 - val_loss: 1.2841 - val_accuracy: 0.3995\n",
            "Epoch 13/500\n",
            "24/24 [==============================] - 0s 4ms/step - loss: 1.2608 - accuracy: 0.4164 - val_loss: 1.2814 - val_accuracy: 0.3975\n",
            "Epoch 14/500\n",
            "24/24 [==============================] - 0s 5ms/step - loss: 1.2575 - accuracy: 0.4211 - val_loss: 1.2778 - val_accuracy: 0.4071\n",
            "Epoch 15/500\n",
            "24/24 [==============================] - 0s 4ms/step - loss: 1.2542 - accuracy: 0.4208 - val_loss: 1.2745 - val_accuracy: 0.4043\n",
            "Epoch 16/500\n",
            "24/24 [==============================] - 0s 5ms/step - loss: 1.2517 - accuracy: 0.4223 - val_loss: 1.2711 - val_accuracy: 0.4064\n",
            "Epoch 17/500\n",
            "24/24 [==============================] - 0s 4ms/step - loss: 1.2491 - accuracy: 0.4254 - val_loss: 1.2690 - val_accuracy: 0.4098\n",
            "Epoch 18/500\n",
            "24/24 [==============================] - 0s 5ms/step - loss: 1.2468 - accuracy: 0.4304 - val_loss: 1.2675 - val_accuracy: 0.4112\n",
            "Epoch 19/500\n",
            "24/24 [==============================] - 0s 4ms/step - loss: 1.2456 - accuracy: 0.4335 - val_loss: 1.2646 - val_accuracy: 0.4112\n",
            "Epoch 20/500\n",
            "24/24 [==============================] - 0s 4ms/step - loss: 1.2432 - accuracy: 0.4328 - val_loss: 1.2634 - val_accuracy: 0.4146\n",
            "Epoch 21/500\n",
            "24/24 [==============================] - 0s 4ms/step - loss: 1.2418 - accuracy: 0.4338 - val_loss: 1.2613 - val_accuracy: 0.4143\n",
            "Epoch 22/500\n",
            "24/24 [==============================] - 0s 4ms/step - loss: 1.2399 - accuracy: 0.4330 - val_loss: 1.2599 - val_accuracy: 0.4153\n",
            "Epoch 23/500\n",
            "24/24 [==============================] - 0s 4ms/step - loss: 1.2384 - accuracy: 0.4391 - val_loss: 1.2589 - val_accuracy: 0.4184\n",
            "Epoch 24/500\n",
            "24/24 [==============================] - 0s 5ms/step - loss: 1.2364 - accuracy: 0.4369 - val_loss: 1.2567 - val_accuracy: 0.4225\n",
            "Epoch 25/500\n",
            "24/24 [==============================] - 0s 4ms/step - loss: 1.2354 - accuracy: 0.4382 - val_loss: 1.2550 - val_accuracy: 0.4253\n",
            "Epoch 26/500\n",
            "24/24 [==============================] - 0s 4ms/step - loss: 1.2338 - accuracy: 0.4413 - val_loss: 1.2539 - val_accuracy: 0.4205\n",
            "Epoch 27/500\n",
            "24/24 [==============================] - 0s 5ms/step - loss: 1.2330 - accuracy: 0.4404 - val_loss: 1.2528 - val_accuracy: 0.4256\n",
            "Epoch 28/500\n",
            "24/24 [==============================] - 0s 4ms/step - loss: 1.2317 - accuracy: 0.4430 - val_loss: 1.2511 - val_accuracy: 0.4239\n",
            "Epoch 29/500\n",
            "24/24 [==============================] - 0s 4ms/step - loss: 1.2299 - accuracy: 0.4401 - val_loss: 1.2509 - val_accuracy: 0.4246\n",
            "Epoch 30/500\n",
            "24/24 [==============================] - 0s 4ms/step - loss: 1.2295 - accuracy: 0.4453 - val_loss: 1.2499 - val_accuracy: 0.4301\n",
            "Epoch 31/500\n",
            "24/24 [==============================] - 0s 4ms/step - loss: 1.2278 - accuracy: 0.4418 - val_loss: 1.2487 - val_accuracy: 0.4284\n",
            "Epoch 32/500\n",
            "24/24 [==============================] - 0s 4ms/step - loss: 1.2268 - accuracy: 0.4474 - val_loss: 1.2485 - val_accuracy: 0.4328\n",
            "Epoch 33/500\n",
            "24/24 [==============================] - 0s 4ms/step - loss: 1.2258 - accuracy: 0.4480 - val_loss: 1.2481 - val_accuracy: 0.4349\n",
            "Epoch 34/500\n",
            "24/24 [==============================] - 0s 4ms/step - loss: 1.2249 - accuracy: 0.4457 - val_loss: 1.2472 - val_accuracy: 0.4328\n",
            "Epoch 35/500\n",
            "24/24 [==============================] - 0s 4ms/step - loss: 1.2239 - accuracy: 0.4491 - val_loss: 1.2462 - val_accuracy: 0.4318\n",
            "Epoch 36/500\n",
            "24/24 [==============================] - 0s 4ms/step - loss: 1.2234 - accuracy: 0.4489 - val_loss: 1.2458 - val_accuracy: 0.4322\n",
            "Epoch 37/500\n",
            "24/24 [==============================] - 0s 5ms/step - loss: 1.2226 - accuracy: 0.4485 - val_loss: 1.2455 - val_accuracy: 0.4356\n",
            "Epoch 38/500\n",
            "24/24 [==============================] - 0s 4ms/step - loss: 1.2225 - accuracy: 0.4489 - val_loss: 1.2440 - val_accuracy: 0.4366\n",
            "Epoch 39/500\n",
            "24/24 [==============================] - 0s 4ms/step - loss: 1.2209 - accuracy: 0.4465 - val_loss: 1.2449 - val_accuracy: 0.4346\n",
            "Epoch 40/500\n",
            "24/24 [==============================] - 0s 4ms/step - loss: 1.2202 - accuracy: 0.4507 - val_loss: 1.2432 - val_accuracy: 0.4390\n",
            "Epoch 41/500\n",
            "24/24 [==============================] - 0s 5ms/step - loss: 1.2191 - accuracy: 0.4511 - val_loss: 1.2426 - val_accuracy: 0.4387\n",
            "Epoch 42/500\n",
            "24/24 [==============================] - 0s 4ms/step - loss: 1.2187 - accuracy: 0.4528 - val_loss: 1.2418 - val_accuracy: 0.4394\n",
            "Epoch 43/500\n",
            "24/24 [==============================] - 0s 4ms/step - loss: 1.2177 - accuracy: 0.4499 - val_loss: 1.2415 - val_accuracy: 0.4383\n",
            "Epoch 44/500\n",
            "24/24 [==============================] - 0s 5ms/step - loss: 1.2174 - accuracy: 0.4507 - val_loss: 1.2414 - val_accuracy: 0.4342\n",
            "Epoch 45/500\n",
            "24/24 [==============================] - 0s 4ms/step - loss: 1.2164 - accuracy: 0.4513 - val_loss: 1.2404 - val_accuracy: 0.4425\n",
            "Epoch 46/500\n",
            "24/24 [==============================] - 0s 5ms/step - loss: 1.2153 - accuracy: 0.4543 - val_loss: 1.2403 - val_accuracy: 0.4387\n",
            "Epoch 47/500\n",
            "24/24 [==============================] - 0s 6ms/step - loss: 1.2153 - accuracy: 0.4516 - val_loss: 1.2397 - val_accuracy: 0.4356\n",
            "Epoch 48/500\n",
            "24/24 [==============================] - 0s 14ms/step - loss: 1.2149 - accuracy: 0.4519 - val_loss: 1.2400 - val_accuracy: 0.4428\n",
            "Epoch 49/500\n",
            "24/24 [==============================] - 0s 4ms/step - loss: 1.2138 - accuracy: 0.4509 - val_loss: 1.2391 - val_accuracy: 0.4380\n",
            "Epoch 50/500\n",
            "24/24 [==============================] - 0s 4ms/step - loss: 1.2133 - accuracy: 0.4529 - val_loss: 1.2386 - val_accuracy: 0.4394\n",
            "Epoch 51/500\n",
            "24/24 [==============================] - 0s 5ms/step - loss: 1.2124 - accuracy: 0.4523 - val_loss: 1.2381 - val_accuracy: 0.4442\n",
            "Epoch 52/500\n",
            "24/24 [==============================] - 0s 5ms/step - loss: 1.2123 - accuracy: 0.4538 - val_loss: 1.2379 - val_accuracy: 0.4459\n",
            "Epoch 53/500\n",
            "24/24 [==============================] - 0s 5ms/step - loss: 1.2111 - accuracy: 0.4563 - val_loss: 1.2370 - val_accuracy: 0.4411\n",
            "Epoch 54/500\n",
            "24/24 [==============================] - 0s 4ms/step - loss: 1.2107 - accuracy: 0.4567 - val_loss: 1.2376 - val_accuracy: 0.4431\n",
            "Epoch 55/500\n",
            "24/24 [==============================] - 0s 5ms/step - loss: 1.2107 - accuracy: 0.4582 - val_loss: 1.2362 - val_accuracy: 0.4452\n",
            "Epoch 56/500\n",
            "24/24 [==============================] - 0s 4ms/step - loss: 1.2097 - accuracy: 0.4557 - val_loss: 1.2366 - val_accuracy: 0.4414\n",
            "Epoch 57/500\n",
            "24/24 [==============================] - 0s 5ms/step - loss: 1.2090 - accuracy: 0.4602 - val_loss: 1.2363 - val_accuracy: 0.4459\n",
            "Epoch 58/500\n",
            "24/24 [==============================] - 0s 4ms/step - loss: 1.2086 - accuracy: 0.4567 - val_loss: 1.2354 - val_accuracy: 0.4414\n",
            "Epoch 59/500\n",
            "24/24 [==============================] - 0s 4ms/step - loss: 1.2090 - accuracy: 0.4601 - val_loss: 1.2353 - val_accuracy: 0.4473\n",
            "Epoch 60/500\n",
            "24/24 [==============================] - 0s 4ms/step - loss: 1.2082 - accuracy: 0.4560 - val_loss: 1.2352 - val_accuracy: 0.4411\n",
            "Epoch 61/500\n",
            "24/24 [==============================] - 0s 4ms/step - loss: 1.2091 - accuracy: 0.4568 - val_loss: 1.2344 - val_accuracy: 0.4421\n",
            "Epoch 62/500\n",
            "24/24 [==============================] - 0s 5ms/step - loss: 1.2068 - accuracy: 0.4582 - val_loss: 1.2339 - val_accuracy: 0.4421\n",
            "Epoch 63/500\n",
            "24/24 [==============================] - 0s 4ms/step - loss: 1.2067 - accuracy: 0.4607 - val_loss: 1.2342 - val_accuracy: 0.4394\n",
            "Epoch 64/500\n",
            "24/24 [==============================] - 0s 4ms/step - loss: 1.2060 - accuracy: 0.4619 - val_loss: 1.2340 - val_accuracy: 0.4421\n",
            "Epoch 65/500\n",
            "24/24 [==============================] - 0s 5ms/step - loss: 1.2080 - accuracy: 0.4589 - val_loss: 1.2341 - val_accuracy: 0.4397\n",
            "Epoch 66/500\n",
            "24/24 [==============================] - 0s 4ms/step - loss: 1.2061 - accuracy: 0.4614 - val_loss: 1.2329 - val_accuracy: 0.4445\n",
            "Epoch 67/500\n",
            "24/24 [==============================] - 0s 4ms/step - loss: 1.2046 - accuracy: 0.4616 - val_loss: 1.2328 - val_accuracy: 0.4418\n",
            "Epoch 68/500\n",
            "24/24 [==============================] - 0s 7ms/step - loss: 1.2047 - accuracy: 0.4594 - val_loss: 1.2328 - val_accuracy: 0.4394\n",
            "Epoch 69/500\n",
            "24/24 [==============================] - 0s 6ms/step - loss: 1.2044 - accuracy: 0.4611 - val_loss: 1.2323 - val_accuracy: 0.4383\n",
            "Epoch 70/500\n",
            "24/24 [==============================] - 0s 9ms/step - loss: 1.2046 - accuracy: 0.4563 - val_loss: 1.2319 - val_accuracy: 0.4418\n",
            "Epoch 71/500\n",
            "24/24 [==============================] - 0s 9ms/step - loss: 1.2038 - accuracy: 0.4633 - val_loss: 1.2311 - val_accuracy: 0.4404\n",
            "Epoch 72/500\n",
            "24/24 [==============================] - 0s 8ms/step - loss: 1.2031 - accuracy: 0.4633 - val_loss: 1.2310 - val_accuracy: 0.4407\n",
            "Epoch 73/500\n",
            "24/24 [==============================] - 0s 6ms/step - loss: 1.2037 - accuracy: 0.4614 - val_loss: 1.2310 - val_accuracy: 0.4397\n",
            "Epoch 74/500\n",
            "24/24 [==============================] - 0s 6ms/step - loss: 1.2029 - accuracy: 0.4611 - val_loss: 1.2314 - val_accuracy: 0.4411\n",
            "Epoch 75/500\n",
            "24/24 [==============================] - 0s 8ms/step - loss: 1.2028 - accuracy: 0.4579 - val_loss: 1.2309 - val_accuracy: 0.4394\n",
            "Epoch 76/500\n",
            "24/24 [==============================] - 0s 6ms/step - loss: 1.2025 - accuracy: 0.4626 - val_loss: 1.2303 - val_accuracy: 0.4390\n",
            "Epoch 77/500\n",
            "24/24 [==============================] - 0s 8ms/step - loss: 1.2023 - accuracy: 0.4643 - val_loss: 1.2298 - val_accuracy: 0.4401\n",
            "Epoch 78/500\n",
            "24/24 [==============================] - 0s 7ms/step - loss: 1.2012 - accuracy: 0.4651 - val_loss: 1.2301 - val_accuracy: 0.4401\n",
            "Epoch 79/500\n",
            "24/24 [==============================] - 0s 6ms/step - loss: 1.2009 - accuracy: 0.4655 - val_loss: 1.2297 - val_accuracy: 0.4421\n",
            "Epoch 80/500\n",
            "24/24 [==============================] - 0s 6ms/step - loss: 1.2005 - accuracy: 0.4634 - val_loss: 1.2292 - val_accuracy: 0.4428\n",
            "Epoch 81/500\n",
            "24/24 [==============================] - 0s 8ms/step - loss: 1.2005 - accuracy: 0.4658 - val_loss: 1.2288 - val_accuracy: 0.4442\n",
            "Epoch 82/500\n",
            "24/24 [==============================] - 0s 8ms/step - loss: 1.2003 - accuracy: 0.4685 - val_loss: 1.2292 - val_accuracy: 0.4431\n",
            "Epoch 83/500\n",
            "24/24 [==============================] - 0s 9ms/step - loss: 1.1999 - accuracy: 0.4678 - val_loss: 1.2287 - val_accuracy: 0.4438\n",
            "Epoch 84/500\n",
            "24/24 [==============================] - 0s 4ms/step - loss: 1.1998 - accuracy: 0.4727 - val_loss: 1.2280 - val_accuracy: 0.4473\n",
            "Epoch 85/500\n",
            "24/24 [==============================] - 0s 4ms/step - loss: 1.1989 - accuracy: 0.4663 - val_loss: 1.2291 - val_accuracy: 0.4418\n",
            "Epoch 86/500\n",
            "24/24 [==============================] - 0s 4ms/step - loss: 1.1983 - accuracy: 0.4675 - val_loss: 1.2274 - val_accuracy: 0.4452\n",
            "Epoch 87/500\n",
            "24/24 [==============================] - 0s 4ms/step - loss: 1.1982 - accuracy: 0.4672 - val_loss: 1.2278 - val_accuracy: 0.4431\n",
            "Epoch 88/500\n",
            "24/24 [==============================] - 0s 5ms/step - loss: 1.1980 - accuracy: 0.4709 - val_loss: 1.2277 - val_accuracy: 0.4445\n",
            "Epoch 89/500\n",
            "24/24 [==============================] - 0s 4ms/step - loss: 1.1980 - accuracy: 0.4672 - val_loss: 1.2269 - val_accuracy: 0.4425\n",
            "Epoch 90/500\n",
            "24/24 [==============================] - 0s 5ms/step - loss: 1.1978 - accuracy: 0.4675 - val_loss: 1.2279 - val_accuracy: 0.4418\n",
            "Epoch 91/500\n",
            "24/24 [==============================] - 0s 4ms/step - loss: 1.1980 - accuracy: 0.4692 - val_loss: 1.2268 - val_accuracy: 0.4452\n",
            "Epoch 92/500\n",
            "24/24 [==============================] - 0s 4ms/step - loss: 1.1969 - accuracy: 0.4678 - val_loss: 1.2265 - val_accuracy: 0.4442\n",
            "Epoch 93/500\n",
            "24/24 [==============================] - 0s 4ms/step - loss: 1.1958 - accuracy: 0.4709 - val_loss: 1.2261 - val_accuracy: 0.4462\n",
            "Epoch 94/500\n",
            "24/24 [==============================] - 0s 4ms/step - loss: 1.1965 - accuracy: 0.4683 - val_loss: 1.2264 - val_accuracy: 0.4445\n",
            "Epoch 95/500\n",
            "24/24 [==============================] - 0s 6ms/step - loss: 1.1957 - accuracy: 0.4675 - val_loss: 1.2250 - val_accuracy: 0.4449\n",
            "Epoch 96/500\n",
            "24/24 [==============================] - 0s 4ms/step - loss: 1.1954 - accuracy: 0.4646 - val_loss: 1.2254 - val_accuracy: 0.4431\n",
            "Epoch 97/500\n",
            "24/24 [==============================] - 0s 4ms/step - loss: 1.1961 - accuracy: 0.4675 - val_loss: 1.2257 - val_accuracy: 0.4442\n",
            "Epoch 98/500\n",
            "24/24 [==============================] - 0s 5ms/step - loss: 1.1949 - accuracy: 0.4689 - val_loss: 1.2254 - val_accuracy: 0.4483\n",
            "Epoch 99/500\n",
            "24/24 [==============================] - 0s 5ms/step - loss: 1.1941 - accuracy: 0.4695 - val_loss: 1.2251 - val_accuracy: 0.4456\n",
            "Epoch 100/500\n",
            "24/24 [==============================] - 0s 4ms/step - loss: 1.1935 - accuracy: 0.4685 - val_loss: 1.2249 - val_accuracy: 0.4452\n",
            "Epoch 101/500\n",
            "24/24 [==============================] - 0s 4ms/step - loss: 1.1936 - accuracy: 0.4663 - val_loss: 1.2245 - val_accuracy: 0.4459\n",
            "Epoch 102/500\n",
            "24/24 [==============================] - 0s 4ms/step - loss: 1.1940 - accuracy: 0.4653 - val_loss: 1.2242 - val_accuracy: 0.4428\n",
            "Epoch 103/500\n",
            "24/24 [==============================] - 0s 4ms/step - loss: 1.1937 - accuracy: 0.4733 - val_loss: 1.2250 - val_accuracy: 0.4442\n",
            "Epoch 104/500\n",
            "24/24 [==============================] - 0s 4ms/step - loss: 1.1926 - accuracy: 0.4661 - val_loss: 1.2239 - val_accuracy: 0.4445\n",
            "Epoch 105/500\n",
            "24/24 [==============================] - 0s 4ms/step - loss: 1.1929 - accuracy: 0.4694 - val_loss: 1.2227 - val_accuracy: 0.4431\n",
            "Epoch 106/500\n",
            "24/24 [==============================] - 0s 4ms/step - loss: 1.1921 - accuracy: 0.4705 - val_loss: 1.2229 - val_accuracy: 0.4452\n",
            "Epoch 107/500\n",
            "24/24 [==============================] - 0s 4ms/step - loss: 1.1925 - accuracy: 0.4748 - val_loss: 1.2236 - val_accuracy: 0.4469\n",
            "Epoch 108/500\n",
            "24/24 [==============================] - 0s 4ms/step - loss: 1.1922 - accuracy: 0.4709 - val_loss: 1.2234 - val_accuracy: 0.4449\n",
            "Epoch 109/500\n",
            "24/24 [==============================] - 0s 4ms/step - loss: 1.1913 - accuracy: 0.4736 - val_loss: 1.2248 - val_accuracy: 0.4452\n",
            "Epoch 110/500\n",
            "24/24 [==============================] - 0s 4ms/step - loss: 1.1923 - accuracy: 0.4702 - val_loss: 1.2231 - val_accuracy: 0.4476\n",
            "Epoch 111/500\n",
            "24/24 [==============================] - 0s 4ms/step - loss: 1.1914 - accuracy: 0.4687 - val_loss: 1.2226 - val_accuracy: 0.4459\n",
            "Epoch 112/500\n",
            "24/24 [==============================] - 0s 4ms/step - loss: 1.1906 - accuracy: 0.4682 - val_loss: 1.2237 - val_accuracy: 0.4459\n",
            "Epoch 113/500\n",
            "24/24 [==============================] - 0s 4ms/step - loss: 1.1904 - accuracy: 0.4694 - val_loss: 1.2232 - val_accuracy: 0.4449\n",
            "Epoch 114/500\n",
            "24/24 [==============================] - 0s 5ms/step - loss: 1.1904 - accuracy: 0.4704 - val_loss: 1.2223 - val_accuracy: 0.4425\n",
            "Epoch 115/500\n",
            "24/24 [==============================] - 0s 4ms/step - loss: 1.1901 - accuracy: 0.4717 - val_loss: 1.2223 - val_accuracy: 0.4466\n",
            "Epoch 116/500\n",
            "24/24 [==============================] - 0s 5ms/step - loss: 1.1916 - accuracy: 0.4709 - val_loss: 1.2222 - val_accuracy: 0.4456\n",
            "Epoch 117/500\n",
            "24/24 [==============================] - 0s 5ms/step - loss: 1.1903 - accuracy: 0.4695 - val_loss: 1.2220 - val_accuracy: 0.4462\n",
            "Epoch 118/500\n",
            "24/24 [==============================] - 0s 5ms/step - loss: 1.1903 - accuracy: 0.4709 - val_loss: 1.2210 - val_accuracy: 0.4466\n",
            "Epoch 119/500\n",
            "24/24 [==============================] - 0s 5ms/step - loss: 1.1889 - accuracy: 0.4699 - val_loss: 1.2213 - val_accuracy: 0.4486\n",
            "Epoch 120/500\n",
            "24/24 [==============================] - 0s 4ms/step - loss: 1.1886 - accuracy: 0.4733 - val_loss: 1.2215 - val_accuracy: 0.4438\n",
            "Epoch 121/500\n",
            "24/24 [==============================] - 0s 4ms/step - loss: 1.1898 - accuracy: 0.4711 - val_loss: 1.2196 - val_accuracy: 0.4483\n",
            "Epoch 122/500\n",
            "24/24 [==============================] - 0s 4ms/step - loss: 1.1889 - accuracy: 0.4714 - val_loss: 1.2213 - val_accuracy: 0.4493\n",
            "Epoch 123/500\n",
            "24/24 [==============================] - 0s 5ms/step - loss: 1.1882 - accuracy: 0.4741 - val_loss: 1.2199 - val_accuracy: 0.4483\n",
            "Epoch 124/500\n",
            "24/24 [==============================] - 0s 4ms/step - loss: 1.1880 - accuracy: 0.4755 - val_loss: 1.2212 - val_accuracy: 0.4462\n",
            "Epoch 125/500\n",
            "24/24 [==============================] - 0s 4ms/step - loss: 1.1883 - accuracy: 0.4709 - val_loss: 1.2208 - val_accuracy: 0.4483\n",
            "Epoch 126/500\n",
            "24/24 [==============================] - 0s 4ms/step - loss: 1.1873 - accuracy: 0.4744 - val_loss: 1.2202 - val_accuracy: 0.4514\n",
            "Epoch 127/500\n",
            "24/24 [==============================] - 0s 4ms/step - loss: 1.1867 - accuracy: 0.4716 - val_loss: 1.2208 - val_accuracy: 0.4445\n",
            "Epoch 128/500\n",
            "24/24 [==============================] - 0s 4ms/step - loss: 1.1874 - accuracy: 0.4699 - val_loss: 1.2195 - val_accuracy: 0.4483\n",
            "Epoch 129/500\n",
            "24/24 [==============================] - 0s 4ms/step - loss: 1.1873 - accuracy: 0.4763 - val_loss: 1.2200 - val_accuracy: 0.4480\n",
            "Epoch 130/500\n",
            "24/24 [==============================] - 0s 4ms/step - loss: 1.1869 - accuracy: 0.4714 - val_loss: 1.2201 - val_accuracy: 0.4486\n",
            "Epoch 131/500\n",
            "24/24 [==============================] - 0s 4ms/step - loss: 1.1877 - accuracy: 0.4695 - val_loss: 1.2215 - val_accuracy: 0.4421\n",
            "Epoch 132/500\n",
            "24/24 [==============================] - 0s 4ms/step - loss: 1.1873 - accuracy: 0.4709 - val_loss: 1.2197 - val_accuracy: 0.4521\n",
            "Epoch 133/500\n",
            "24/24 [==============================] - 0s 4ms/step - loss: 1.1856 - accuracy: 0.4746 - val_loss: 1.2217 - val_accuracy: 0.4497\n",
            "Epoch 134/500\n",
            "24/24 [==============================] - 0s 7ms/step - loss: 1.1864 - accuracy: 0.4739 - val_loss: 1.2182 - val_accuracy: 0.4490\n",
            "Epoch 135/500\n",
            "24/24 [==============================] - 0s 4ms/step - loss: 1.1868 - accuracy: 0.4736 - val_loss: 1.2178 - val_accuracy: 0.4480\n",
            "Epoch 136/500\n",
            "24/24 [==============================] - 0s 4ms/step - loss: 1.1867 - accuracy: 0.4731 - val_loss: 1.2191 - val_accuracy: 0.4456\n",
            "Epoch 137/500\n",
            "24/24 [==============================] - 0s 5ms/step - loss: 1.1857 - accuracy: 0.4731 - val_loss: 1.2184 - val_accuracy: 0.4510\n",
            "Epoch 138/500\n",
            "24/24 [==============================] - 0s 4ms/step - loss: 1.1861 - accuracy: 0.4744 - val_loss: 1.2200 - val_accuracy: 0.4483\n",
            "Epoch 139/500\n",
            "24/24 [==============================] - 0s 4ms/step - loss: 1.1858 - accuracy: 0.4755 - val_loss: 1.2180 - val_accuracy: 0.4490\n",
            "Epoch 140/500\n",
            "24/24 [==============================] - 0s 4ms/step - loss: 1.1849 - accuracy: 0.4763 - val_loss: 1.2188 - val_accuracy: 0.4486\n",
            "Epoch 141/500\n",
            "24/24 [==============================] - 0s 4ms/step - loss: 1.1856 - accuracy: 0.4753 - val_loss: 1.2177 - val_accuracy: 0.4521\n",
            "Epoch 142/500\n",
            "24/24 [==============================] - 0s 4ms/step - loss: 1.1845 - accuracy: 0.4753 - val_loss: 1.2189 - val_accuracy: 0.4462\n",
            "Epoch 143/500\n",
            "24/24 [==============================] - 0s 4ms/step - loss: 1.1838 - accuracy: 0.4758 - val_loss: 1.2175 - val_accuracy: 0.4504\n",
            "Epoch 144/500\n",
            "24/24 [==============================] - 0s 4ms/step - loss: 1.1848 - accuracy: 0.4770 - val_loss: 1.2193 - val_accuracy: 0.4462\n",
            "Epoch 145/500\n",
            "24/24 [==============================] - 0s 5ms/step - loss: 1.1841 - accuracy: 0.4733 - val_loss: 1.2183 - val_accuracy: 0.4510\n",
            "Epoch 146/500\n",
            "24/24 [==============================] - 0s 5ms/step - loss: 1.1844 - accuracy: 0.4760 - val_loss: 1.2179 - val_accuracy: 0.4486\n",
            "Epoch 147/500\n",
            "24/24 [==============================] - 0s 4ms/step - loss: 1.1840 - accuracy: 0.4773 - val_loss: 1.2175 - val_accuracy: 0.4517\n",
            "Epoch 148/500\n",
            "24/24 [==============================] - 0s 5ms/step - loss: 1.1851 - accuracy: 0.4727 - val_loss: 1.2167 - val_accuracy: 0.4545\n",
            "Epoch 149/500\n",
            "24/24 [==============================] - 0s 4ms/step - loss: 1.1832 - accuracy: 0.4775 - val_loss: 1.2176 - val_accuracy: 0.4538\n",
            "Epoch 150/500\n",
            "24/24 [==============================] - 0s 4ms/step - loss: 1.1837 - accuracy: 0.4766 - val_loss: 1.2168 - val_accuracy: 0.4531\n",
            "Epoch 151/500\n",
            "24/24 [==============================] - 0s 4ms/step - loss: 1.1844 - accuracy: 0.4768 - val_loss: 1.2177 - val_accuracy: 0.4480\n",
            "Epoch 152/500\n",
            "24/24 [==============================] - 0s 6ms/step - loss: 1.1834 - accuracy: 0.4758 - val_loss: 1.2157 - val_accuracy: 0.4517\n",
            "Epoch 153/500\n",
            "24/24 [==============================] - 0s 4ms/step - loss: 1.1834 - accuracy: 0.4739 - val_loss: 1.2166 - val_accuracy: 0.4528\n",
            "Epoch 154/500\n",
            "24/24 [==============================] - 0s 4ms/step - loss: 1.1828 - accuracy: 0.4790 - val_loss: 1.2158 - val_accuracy: 0.4531\n",
            "Epoch 155/500\n",
            "24/24 [==============================] - 0s 4ms/step - loss: 1.1834 - accuracy: 0.4788 - val_loss: 1.2166 - val_accuracy: 0.4493\n",
            "Epoch 156/500\n",
            "24/24 [==============================] - 0s 4ms/step - loss: 1.1827 - accuracy: 0.4792 - val_loss: 1.2155 - val_accuracy: 0.4476\n",
            "Epoch 157/500\n",
            "24/24 [==============================] - 0s 4ms/step - loss: 1.1827 - accuracy: 0.4785 - val_loss: 1.2158 - val_accuracy: 0.4493\n",
            "Epoch 158/500\n",
            "24/24 [==============================] - 0s 4ms/step - loss: 1.1820 - accuracy: 0.4773 - val_loss: 1.2161 - val_accuracy: 0.4493\n",
            "Epoch 159/500\n",
            "24/24 [==============================] - 0s 4ms/step - loss: 1.1828 - accuracy: 0.4799 - val_loss: 1.2155 - val_accuracy: 0.4514\n",
            "Epoch 160/500\n",
            "24/24 [==============================] - 0s 4ms/step - loss: 1.1820 - accuracy: 0.4788 - val_loss: 1.2161 - val_accuracy: 0.4486\n",
            "Epoch 161/500\n",
            "24/24 [==============================] - 0s 4ms/step - loss: 1.1825 - accuracy: 0.4782 - val_loss: 1.2158 - val_accuracy: 0.4497\n",
            "Epoch 162/500\n",
            "24/24 [==============================] - 0s 5ms/step - loss: 1.1829 - accuracy: 0.4783 - val_loss: 1.2155 - val_accuracy: 0.4535\n",
            "Epoch 163/500\n",
            "24/24 [==============================] - 0s 4ms/step - loss: 1.1820 - accuracy: 0.4795 - val_loss: 1.2154 - val_accuracy: 0.4497\n",
            "Epoch 164/500\n",
            "24/24 [==============================] - 0s 4ms/step - loss: 1.1821 - accuracy: 0.4768 - val_loss: 1.2159 - val_accuracy: 0.4524\n",
            "Epoch 165/500\n",
            "24/24 [==============================] - 0s 5ms/step - loss: 1.1814 - accuracy: 0.4766 - val_loss: 1.2152 - val_accuracy: 0.4517\n",
            "Epoch 166/500\n",
            "24/24 [==============================] - 0s 4ms/step - loss: 1.1829 - accuracy: 0.4775 - val_loss: 1.2145 - val_accuracy: 0.4555\n",
            "Epoch 167/500\n",
            "24/24 [==============================] - 0s 4ms/step - loss: 1.1819 - accuracy: 0.4800 - val_loss: 1.2149 - val_accuracy: 0.4507\n",
            "Epoch 168/500\n",
            "24/24 [==============================] - 0s 4ms/step - loss: 1.1808 - accuracy: 0.4775 - val_loss: 1.2151 - val_accuracy: 0.4469\n",
            "Epoch 169/500\n",
            "24/24 [==============================] - 0s 4ms/step - loss: 1.1811 - accuracy: 0.4795 - val_loss: 1.2149 - val_accuracy: 0.4524\n",
            "Epoch 170/500\n",
            "24/24 [==============================] - 0s 4ms/step - loss: 1.1807 - accuracy: 0.4778 - val_loss: 1.2139 - val_accuracy: 0.4521\n",
            "Epoch 171/500\n",
            "24/24 [==============================] - 0s 4ms/step - loss: 1.1802 - accuracy: 0.4800 - val_loss: 1.2140 - val_accuracy: 0.4545\n",
            "Epoch 172/500\n",
            "24/24 [==============================] - 0s 4ms/step - loss: 1.1802 - accuracy: 0.4822 - val_loss: 1.2141 - val_accuracy: 0.4531\n",
            "Epoch 173/500\n",
            "24/24 [==============================] - 0s 4ms/step - loss: 1.1810 - accuracy: 0.4809 - val_loss: 1.2141 - val_accuracy: 0.4552\n",
            "Epoch 174/500\n",
            "24/24 [==============================] - 0s 4ms/step - loss: 1.1814 - accuracy: 0.4765 - val_loss: 1.2133 - val_accuracy: 0.4510\n",
            "Epoch 175/500\n",
            "24/24 [==============================] - 0s 6ms/step - loss: 1.1815 - accuracy: 0.4807 - val_loss: 1.2134 - val_accuracy: 0.4541\n",
            "Epoch 176/500\n",
            "24/24 [==============================] - 0s 6ms/step - loss: 1.1806 - accuracy: 0.4787 - val_loss: 1.2134 - val_accuracy: 0.4535\n",
            "Epoch 177/500\n",
            "24/24 [==============================] - 0s 6ms/step - loss: 1.1817 - accuracy: 0.4790 - val_loss: 1.2145 - val_accuracy: 0.4538\n",
            "Epoch 178/500\n",
            "24/24 [==============================] - 0s 6ms/step - loss: 1.1810 - accuracy: 0.4763 - val_loss: 1.2130 - val_accuracy: 0.4524\n",
            "Epoch 179/500\n",
            "24/24 [==============================] - 0s 6ms/step - loss: 1.1803 - accuracy: 0.4800 - val_loss: 1.2136 - val_accuracy: 0.4555\n",
            "Epoch 180/500\n",
            "24/24 [==============================] - 0s 7ms/step - loss: 1.1796 - accuracy: 0.4797 - val_loss: 1.2141 - val_accuracy: 0.4552\n",
            "Epoch 181/500\n",
            "24/24 [==============================] - 0s 6ms/step - loss: 1.1794 - accuracy: 0.4814 - val_loss: 1.2132 - val_accuracy: 0.4545\n",
            "Epoch 182/500\n",
            "24/24 [==============================] - 0s 6ms/step - loss: 1.1796 - accuracy: 0.4829 - val_loss: 1.2123 - val_accuracy: 0.4607\n",
            "Epoch 183/500\n",
            "24/24 [==============================] - 0s 6ms/step - loss: 1.1796 - accuracy: 0.4824 - val_loss: 1.2131 - val_accuracy: 0.4572\n",
            "Epoch 184/500\n",
            "24/24 [==============================] - 0s 8ms/step - loss: 1.1800 - accuracy: 0.4799 - val_loss: 1.2134 - val_accuracy: 0.4538\n",
            "Epoch 185/500\n",
            "24/24 [==============================] - 0s 8ms/step - loss: 1.1798 - accuracy: 0.4804 - val_loss: 1.2138 - val_accuracy: 0.4562\n",
            "Epoch 186/500\n",
            "24/24 [==============================] - 0s 7ms/step - loss: 1.1795 - accuracy: 0.4805 - val_loss: 1.2123 - val_accuracy: 0.4586\n",
            "Epoch 187/500\n",
            "24/24 [==============================] - 0s 7ms/step - loss: 1.1803 - accuracy: 0.4797 - val_loss: 1.2142 - val_accuracy: 0.4562\n",
            "Epoch 188/500\n",
            "24/24 [==============================] - 0s 8ms/step - loss: 1.1808 - accuracy: 0.4777 - val_loss: 1.2132 - val_accuracy: 0.4548\n",
            "Epoch 189/500\n",
            "24/24 [==============================] - 0s 6ms/step - loss: 1.1790 - accuracy: 0.4809 - val_loss: 1.2133 - val_accuracy: 0.4572\n",
            "Epoch 190/500\n",
            "24/24 [==============================] - 0s 6ms/step - loss: 1.1789 - accuracy: 0.4814 - val_loss: 1.2117 - val_accuracy: 0.4593\n",
            "Epoch 191/500\n",
            "24/24 [==============================] - 0s 8ms/step - loss: 1.1790 - accuracy: 0.4814 - val_loss: 1.2126 - val_accuracy: 0.4548\n",
            "Epoch 192/500\n",
            "24/24 [==============================] - 0s 5ms/step - loss: 1.1797 - accuracy: 0.4797 - val_loss: 1.2120 - val_accuracy: 0.4545\n",
            "Epoch 193/500\n",
            "24/24 [==============================] - 0s 4ms/step - loss: 1.1788 - accuracy: 0.4805 - val_loss: 1.2120 - val_accuracy: 0.4552\n",
            "Epoch 194/500\n",
            "24/24 [==============================] - 0s 4ms/step - loss: 1.1781 - accuracy: 0.4836 - val_loss: 1.2121 - val_accuracy: 0.4545\n",
            "Epoch 195/500\n",
            "24/24 [==============================] - 0s 5ms/step - loss: 1.1788 - accuracy: 0.4814 - val_loss: 1.2115 - val_accuracy: 0.4572\n",
            "Epoch 196/500\n",
            "24/24 [==============================] - 0s 4ms/step - loss: 1.1787 - accuracy: 0.4804 - val_loss: 1.2142 - val_accuracy: 0.4541\n",
            "Epoch 197/500\n",
            "24/24 [==============================] - 0s 4ms/step - loss: 1.1784 - accuracy: 0.4794 - val_loss: 1.2121 - val_accuracy: 0.4497\n",
            "Epoch 198/500\n",
            "24/24 [==============================] - 0s 4ms/step - loss: 1.1787 - accuracy: 0.4802 - val_loss: 1.2117 - val_accuracy: 0.4572\n",
            "Epoch 199/500\n",
            "24/24 [==============================] - 0s 4ms/step - loss: 1.1775 - accuracy: 0.4838 - val_loss: 1.2119 - val_accuracy: 0.4541\n",
            "Epoch 200/500\n",
            "24/24 [==============================] - 0s 4ms/step - loss: 1.1780 - accuracy: 0.4817 - val_loss: 1.2114 - val_accuracy: 0.4555\n",
            "Epoch 201/500\n",
            "24/24 [==============================] - 0s 4ms/step - loss: 1.1785 - accuracy: 0.4802 - val_loss: 1.2119 - val_accuracy: 0.4565\n",
            "Epoch 202/500\n",
            "24/24 [==============================] - 0s 4ms/step - loss: 1.1784 - accuracy: 0.4821 - val_loss: 1.2129 - val_accuracy: 0.4562\n",
            "Epoch 203/500\n",
            "24/24 [==============================] - 0s 6ms/step - loss: 1.1777 - accuracy: 0.4814 - val_loss: 1.2107 - val_accuracy: 0.4600\n",
            "Epoch 204/500\n",
            "24/24 [==============================] - 0s 5ms/step - loss: 1.1780 - accuracy: 0.4826 - val_loss: 1.2121 - val_accuracy: 0.4583\n",
            "Epoch 205/500\n",
            "24/24 [==============================] - 0s 4ms/step - loss: 1.1781 - accuracy: 0.4822 - val_loss: 1.2114 - val_accuracy: 0.4548\n",
            "Epoch 206/500\n",
            "24/24 [==============================] - 0s 4ms/step - loss: 1.1774 - accuracy: 0.4834 - val_loss: 1.2116 - val_accuracy: 0.4607\n",
            "Epoch 207/500\n",
            "24/24 [==============================] - 0s 4ms/step - loss: 1.1778 - accuracy: 0.4807 - val_loss: 1.2134 - val_accuracy: 0.4583\n",
            "Epoch 208/500\n",
            "24/24 [==============================] - 0s 4ms/step - loss: 1.1798 - accuracy: 0.4797 - val_loss: 1.2115 - val_accuracy: 0.4600\n",
            "Epoch 209/500\n",
            "24/24 [==============================] - 0s 6ms/step - loss: 1.1780 - accuracy: 0.4838 - val_loss: 1.2114 - val_accuracy: 0.4589\n",
            "Epoch 210/500\n",
            "24/24 [==============================] - 0s 4ms/step - loss: 1.1777 - accuracy: 0.4805 - val_loss: 1.2111 - val_accuracy: 0.4620\n",
            "Epoch 211/500\n",
            "24/24 [==============================] - 0s 4ms/step - loss: 1.1808 - accuracy: 0.4790 - val_loss: 1.2128 - val_accuracy: 0.4565\n",
            "Epoch 212/500\n",
            "24/24 [==============================] - 0s 4ms/step - loss: 1.1771 - accuracy: 0.4839 - val_loss: 1.2108 - val_accuracy: 0.4600\n",
            "Epoch 213/500\n",
            "24/24 [==============================] - 0s 4ms/step - loss: 1.1776 - accuracy: 0.4827 - val_loss: 1.2119 - val_accuracy: 0.4610\n",
            "Epoch 214/500\n",
            "24/24 [==============================] - 0s 5ms/step - loss: 1.1771 - accuracy: 0.4831 - val_loss: 1.2102 - val_accuracy: 0.4624\n",
            "Epoch 215/500\n",
            "24/24 [==============================] - 0s 4ms/step - loss: 1.1773 - accuracy: 0.4826 - val_loss: 1.2114 - val_accuracy: 0.4583\n",
            "Epoch 216/500\n",
            "24/24 [==============================] - 0s 4ms/step - loss: 1.1774 - accuracy: 0.4794 - val_loss: 1.2112 - val_accuracy: 0.4576\n",
            "Epoch 217/500\n",
            "24/24 [==============================] - 0s 4ms/step - loss: 1.1765 - accuracy: 0.4824 - val_loss: 1.2111 - val_accuracy: 0.4589\n",
            "Epoch 218/500\n",
            "24/24 [==============================] - 0s 4ms/step - loss: 1.1776 - accuracy: 0.4783 - val_loss: 1.2121 - val_accuracy: 0.4555\n",
            "Epoch 219/500\n",
            "24/24 [==============================] - 0s 5ms/step - loss: 1.1772 - accuracy: 0.4838 - val_loss: 1.2096 - val_accuracy: 0.4579\n",
            "Epoch 220/500\n",
            "24/24 [==============================] - 0s 5ms/step - loss: 1.1793 - accuracy: 0.4819 - val_loss: 1.2121 - val_accuracy: 0.4596\n",
            "Epoch 221/500\n",
            "24/24 [==============================] - 0s 5ms/step - loss: 1.1771 - accuracy: 0.4799 - val_loss: 1.2118 - val_accuracy: 0.4528\n",
            "Epoch 222/500\n",
            "24/24 [==============================] - 0s 5ms/step - loss: 1.1783 - accuracy: 0.4836 - val_loss: 1.2101 - val_accuracy: 0.4572\n",
            "Epoch 223/500\n",
            "24/24 [==============================] - 0s 5ms/step - loss: 1.1765 - accuracy: 0.4854 - val_loss: 1.2109 - val_accuracy: 0.4586\n",
            "Epoch 224/500\n",
            "24/24 [==============================] - 0s 4ms/step - loss: 1.1765 - accuracy: 0.4834 - val_loss: 1.2104 - val_accuracy: 0.4586\n",
            "Epoch 225/500\n",
            "24/24 [==============================] - 0s 4ms/step - loss: 1.1767 - accuracy: 0.4848 - val_loss: 1.2106 - val_accuracy: 0.4589\n",
            "Epoch 226/500\n",
            "24/24 [==============================] - 0s 4ms/step - loss: 1.1770 - accuracy: 0.4841 - val_loss: 1.2108 - val_accuracy: 0.4555\n",
            "Epoch 227/500\n",
            "24/24 [==============================] - 0s 4ms/step - loss: 1.1770 - accuracy: 0.4824 - val_loss: 1.2099 - val_accuracy: 0.4596\n",
            "Epoch 228/500\n",
            "24/24 [==============================] - 0s 4ms/step - loss: 1.1770 - accuracy: 0.4834 - val_loss: 1.2126 - val_accuracy: 0.4562\n",
            "Epoch 229/500\n",
            "24/24 [==============================] - 0s 4ms/step - loss: 1.1772 - accuracy: 0.4831 - val_loss: 1.2115 - val_accuracy: 0.4586\n",
            "Epoch 230/500\n",
            "24/24 [==============================] - 0s 5ms/step - loss: 1.1770 - accuracy: 0.4848 - val_loss: 1.2109 - val_accuracy: 0.4552\n",
            "Epoch 231/500\n",
            "24/24 [==============================] - 0s 5ms/step - loss: 1.1776 - accuracy: 0.4844 - val_loss: 1.2102 - val_accuracy: 0.4610\n",
            "Epoch 232/500\n",
            "24/24 [==============================] - 0s 5ms/step - loss: 1.1761 - accuracy: 0.4834 - val_loss: 1.2111 - val_accuracy: 0.4596\n",
            "Epoch 233/500\n",
            "24/24 [==============================] - 0s 4ms/step - loss: 1.1767 - accuracy: 0.4841 - val_loss: 1.2102 - val_accuracy: 0.4576\n",
            "Epoch 234/500\n",
            "24/24 [==============================] - 0s 4ms/step - loss: 1.1766 - accuracy: 0.4832 - val_loss: 1.2099 - val_accuracy: 0.4589\n",
            "Epoch 235/500\n",
            "24/24 [==============================] - 0s 4ms/step - loss: 1.1765 - accuracy: 0.4839 - val_loss: 1.2107 - val_accuracy: 0.4614\n",
            "Epoch 236/500\n",
            "24/24 [==============================] - 0s 4ms/step - loss: 1.1762 - accuracy: 0.4861 - val_loss: 1.2094 - val_accuracy: 0.4589\n",
            "Epoch 237/500\n",
            "24/24 [==============================] - 0s 4ms/step - loss: 1.1763 - accuracy: 0.4829 - val_loss: 1.2098 - val_accuracy: 0.4593\n",
            "Epoch 238/500\n",
            "24/24 [==============================] - 0s 4ms/step - loss: 1.1760 - accuracy: 0.4831 - val_loss: 1.2098 - val_accuracy: 0.4589\n",
            "Epoch 239/500\n",
            "24/24 [==============================] - 0s 5ms/step - loss: 1.1757 - accuracy: 0.4839 - val_loss: 1.2097 - val_accuracy: 0.4607\n",
            "Epoch 240/500\n",
            "24/24 [==============================] - 0s 5ms/step - loss: 1.1757 - accuracy: 0.4841 - val_loss: 1.2102 - val_accuracy: 0.4586\n",
            "Epoch 241/500\n",
            "24/24 [==============================] - 0s 5ms/step - loss: 1.1762 - accuracy: 0.4838 - val_loss: 1.2095 - val_accuracy: 0.4548\n",
            "Epoch 242/500\n",
            "24/24 [==============================] - 0s 4ms/step - loss: 1.1765 - accuracy: 0.4817 - val_loss: 1.2092 - val_accuracy: 0.4572\n",
            "Epoch 243/500\n",
            "24/24 [==============================] - 0s 4ms/step - loss: 1.1762 - accuracy: 0.4849 - val_loss: 1.2091 - val_accuracy: 0.4579\n",
            "Epoch 244/500\n",
            "24/24 [==============================] - 0s 5ms/step - loss: 1.1760 - accuracy: 0.4856 - val_loss: 1.2102 - val_accuracy: 0.4589\n",
            "Epoch 245/500\n",
            "24/24 [==============================] - 0s 4ms/step - loss: 1.1757 - accuracy: 0.4844 - val_loss: 1.2091 - val_accuracy: 0.4627\n",
            "Epoch 246/500\n",
            "24/24 [==============================] - 0s 4ms/step - loss: 1.1764 - accuracy: 0.4822 - val_loss: 1.2094 - val_accuracy: 0.4620\n",
            "Epoch 247/500\n",
            "24/24 [==============================] - 0s 4ms/step - loss: 1.1765 - accuracy: 0.4856 - val_loss: 1.2108 - val_accuracy: 0.4586\n",
            "Epoch 248/500\n",
            "24/24 [==============================] - 0s 4ms/step - loss: 1.1760 - accuracy: 0.4831 - val_loss: 1.2090 - val_accuracy: 0.4603\n",
            "Epoch 249/500\n",
            "24/24 [==============================] - 0s 4ms/step - loss: 1.1759 - accuracy: 0.4856 - val_loss: 1.2097 - val_accuracy: 0.4617\n",
            "Epoch 250/500\n",
            "24/24 [==============================] - 0s 5ms/step - loss: 1.1757 - accuracy: 0.4810 - val_loss: 1.2095 - val_accuracy: 0.4589\n",
            "Epoch 251/500\n",
            "24/24 [==============================] - 0s 5ms/step - loss: 1.1762 - accuracy: 0.4800 - val_loss: 1.2100 - val_accuracy: 0.4559\n",
            "Epoch 252/500\n",
            "24/24 [==============================] - 0s 4ms/step - loss: 1.1755 - accuracy: 0.4838 - val_loss: 1.2097 - val_accuracy: 0.4600\n",
            "Epoch 253/500\n",
            "24/24 [==============================] - 0s 4ms/step - loss: 1.1754 - accuracy: 0.4858 - val_loss: 1.2089 - val_accuracy: 0.4641\n",
            "Epoch 254/500\n",
            "24/24 [==============================] - 0s 5ms/step - loss: 1.1759 - accuracy: 0.4848 - val_loss: 1.2098 - val_accuracy: 0.4627\n",
            "Epoch 255/500\n",
            "24/24 [==============================] - 0s 4ms/step - loss: 1.1761 - accuracy: 0.4821 - val_loss: 1.2115 - val_accuracy: 0.4569\n",
            "Epoch 256/500\n",
            "24/24 [==============================] - 0s 7ms/step - loss: 1.1769 - accuracy: 0.4834 - val_loss: 1.2097 - val_accuracy: 0.4627\n",
            "Epoch 257/500\n",
            "24/24 [==============================] - 0s 5ms/step - loss: 1.1763 - accuracy: 0.4858 - val_loss: 1.2084 - val_accuracy: 0.4600\n",
            "Epoch 258/500\n",
            "24/24 [==============================] - 0s 5ms/step - loss: 1.1752 - accuracy: 0.4846 - val_loss: 1.2107 - val_accuracy: 0.4593\n",
            "Epoch 259/500\n",
            "24/24 [==============================] - 0s 5ms/step - loss: 1.1750 - accuracy: 0.4863 - val_loss: 1.2098 - val_accuracy: 0.4600\n",
            "Epoch 260/500\n",
            "24/24 [==============================] - 0s 4ms/step - loss: 1.1753 - accuracy: 0.4827 - val_loss: 1.2099 - val_accuracy: 0.4603\n",
            "Epoch 261/500\n",
            "24/24 [==============================] - 0s 4ms/step - loss: 1.1751 - accuracy: 0.4873 - val_loss: 1.2088 - val_accuracy: 0.4610\n",
            "Epoch 262/500\n",
            "24/24 [==============================] - 0s 4ms/step - loss: 1.1753 - accuracy: 0.4863 - val_loss: 1.2111 - val_accuracy: 0.4586\n",
            "Epoch 263/500\n",
            "24/24 [==============================] - 0s 5ms/step - loss: 1.1754 - accuracy: 0.4858 - val_loss: 1.2095 - val_accuracy: 0.4593\n",
            "Epoch 264/500\n",
            "24/24 [==============================] - 0s 5ms/step - loss: 1.1761 - accuracy: 0.4849 - val_loss: 1.2093 - val_accuracy: 0.4638\n",
            "Epoch 265/500\n",
            "24/24 [==============================] - 0s 5ms/step - loss: 1.1748 - accuracy: 0.4861 - val_loss: 1.2094 - val_accuracy: 0.4583\n",
            "Epoch 266/500\n",
            "24/24 [==============================] - 0s 5ms/step - loss: 1.1742 - accuracy: 0.4854 - val_loss: 1.2095 - val_accuracy: 0.4600\n",
            "Epoch 267/500\n",
            "24/24 [==============================] - 0s 5ms/step - loss: 1.1757 - accuracy: 0.4853 - val_loss: 1.2088 - val_accuracy: 0.4586\n",
            "Epoch 268/500\n",
            "24/24 [==============================] - 0s 5ms/step - loss: 1.1745 - accuracy: 0.4834 - val_loss: 1.2099 - val_accuracy: 0.4634\n",
            "Epoch 269/500\n",
            "24/24 [==============================] - 0s 5ms/step - loss: 1.1745 - accuracy: 0.4851 - val_loss: 1.2091 - val_accuracy: 0.4603\n",
            "Epoch 270/500\n",
            "24/24 [==============================] - 0s 4ms/step - loss: 1.1751 - accuracy: 0.4832 - val_loss: 1.2087 - val_accuracy: 0.4614\n",
            "Epoch 271/500\n",
            "24/24 [==============================] - 0s 4ms/step - loss: 1.1750 - accuracy: 0.4851 - val_loss: 1.2095 - val_accuracy: 0.4627\n",
            "Epoch 272/500\n",
            "24/24 [==============================] - 0s 5ms/step - loss: 1.1752 - accuracy: 0.4882 - val_loss: 1.2090 - val_accuracy: 0.4638\n",
            "Epoch 273/500\n",
            "24/24 [==============================] - 0s 4ms/step - loss: 1.1761 - accuracy: 0.4829 - val_loss: 1.2085 - val_accuracy: 0.4603\n",
            "Epoch 274/500\n",
            "24/24 [==============================] - 0s 5ms/step - loss: 1.1751 - accuracy: 0.4854 - val_loss: 1.2095 - val_accuracy: 0.4634\n",
            "Epoch 275/500\n",
            "24/24 [==============================] - 0s 4ms/step - loss: 1.1752 - accuracy: 0.4838 - val_loss: 1.2088 - val_accuracy: 0.4600\n",
            "Epoch 276/500\n",
            "24/24 [==============================] - 0s 5ms/step - loss: 1.1742 - accuracy: 0.4868 - val_loss: 1.2091 - val_accuracy: 0.4624\n",
            "Epoch 277/500\n",
            "24/24 [==============================] - 0s 4ms/step - loss: 1.1749 - accuracy: 0.4844 - val_loss: 1.2086 - val_accuracy: 0.4620\n",
            "Epoch 278/500\n",
            "24/24 [==============================] - 0s 5ms/step - loss: 1.1742 - accuracy: 0.4856 - val_loss: 1.2093 - val_accuracy: 0.4624\n",
            "Epoch 279/500\n",
            "24/24 [==============================] - 0s 4ms/step - loss: 1.1757 - accuracy: 0.4790 - val_loss: 1.2094 - val_accuracy: 0.4624\n",
            "Epoch 280/500\n",
            "24/24 [==============================] - 0s 8ms/step - loss: 1.1745 - accuracy: 0.4838 - val_loss: 1.2084 - val_accuracy: 0.4617\n",
            "Epoch 281/500\n",
            "24/24 [==============================] - 0s 8ms/step - loss: 1.1742 - accuracy: 0.4843 - val_loss: 1.2096 - val_accuracy: 0.4631\n",
            "Epoch 282/500\n",
            "24/24 [==============================] - 0s 7ms/step - loss: 1.1743 - accuracy: 0.4832 - val_loss: 1.2077 - val_accuracy: 0.4651\n",
            "Epoch 283/500\n",
            "24/24 [==============================] - 0s 7ms/step - loss: 1.1744 - accuracy: 0.4854 - val_loss: 1.2100 - val_accuracy: 0.4617\n",
            "Epoch 284/500\n",
            "24/24 [==============================] - 0s 6ms/step - loss: 1.1751 - accuracy: 0.4865 - val_loss: 1.2097 - val_accuracy: 0.4655\n",
            "Epoch 285/500\n",
            "24/24 [==============================] - 0s 6ms/step - loss: 1.1747 - accuracy: 0.4846 - val_loss: 1.2084 - val_accuracy: 0.4665\n",
            "Epoch 286/500\n",
            "24/24 [==============================] - 0s 8ms/step - loss: 1.1750 - accuracy: 0.4863 - val_loss: 1.2078 - val_accuracy: 0.4668\n",
            "Epoch 287/500\n",
            "24/24 [==============================] - 0s 7ms/step - loss: 1.1755 - accuracy: 0.4819 - val_loss: 1.2092 - val_accuracy: 0.4620\n",
            "Epoch 288/500\n",
            "24/24 [==============================] - 0s 6ms/step - loss: 1.1744 - accuracy: 0.4836 - val_loss: 1.2081 - val_accuracy: 0.4658\n",
            "Epoch 289/500\n",
            "24/24 [==============================] - 0s 7ms/step - loss: 1.1747 - accuracy: 0.4849 - val_loss: 1.2088 - val_accuracy: 0.4648\n",
            "Epoch 290/500\n",
            "24/24 [==============================] - 0s 7ms/step - loss: 1.1748 - accuracy: 0.4841 - val_loss: 1.2094 - val_accuracy: 0.4624\n",
            "Epoch 291/500\n",
            "24/24 [==============================] - 0s 7ms/step - loss: 1.1742 - accuracy: 0.4883 - val_loss: 1.2092 - val_accuracy: 0.4641\n",
            "Epoch 292/500\n",
            "24/24 [==============================] - 0s 8ms/step - loss: 1.1752 - accuracy: 0.4851 - val_loss: 1.2087 - val_accuracy: 0.4665\n",
            "Epoch 293/500\n",
            "24/24 [==============================] - 0s 8ms/step - loss: 1.1746 - accuracy: 0.4834 - val_loss: 1.2083 - val_accuracy: 0.4617\n",
            "Epoch 294/500\n",
            "24/24 [==============================] - 0s 8ms/step - loss: 1.1749 - accuracy: 0.4849 - val_loss: 1.2075 - val_accuracy: 0.4648\n",
            "Epoch 295/500\n",
            "24/24 [==============================] - 0s 10ms/step - loss: 1.1758 - accuracy: 0.4843 - val_loss: 1.2094 - val_accuracy: 0.4648\n",
            "Epoch 296/500\n",
            "24/24 [==============================] - 0s 8ms/step - loss: 1.1744 - accuracy: 0.4836 - val_loss: 1.2103 - val_accuracy: 0.4600\n",
            "Epoch 297/500\n",
            "24/24 [==============================] - 0s 4ms/step - loss: 1.1742 - accuracy: 0.4831 - val_loss: 1.2083 - val_accuracy: 0.4603\n",
            "Epoch 298/500\n",
            "24/24 [==============================] - 0s 4ms/step - loss: 1.1750 - accuracy: 0.4854 - val_loss: 1.2102 - val_accuracy: 0.4586\n",
            "Epoch 299/500\n",
            "24/24 [==============================] - 0s 4ms/step - loss: 1.1749 - accuracy: 0.4863 - val_loss: 1.2077 - val_accuracy: 0.4624\n",
            "Epoch 300/500\n",
            "24/24 [==============================] - 0s 4ms/step - loss: 1.1741 - accuracy: 0.4831 - val_loss: 1.2085 - val_accuracy: 0.4593\n",
            "Epoch 301/500\n",
            "24/24 [==============================] - 0s 5ms/step - loss: 1.1754 - accuracy: 0.4843 - val_loss: 1.2103 - val_accuracy: 0.4600\n",
            "Epoch 302/500\n",
            "24/24 [==============================] - 0s 4ms/step - loss: 1.1742 - accuracy: 0.4851 - val_loss: 1.2082 - val_accuracy: 0.4665\n",
            "Epoch 303/500\n",
            "24/24 [==============================] - 0s 5ms/step - loss: 1.1743 - accuracy: 0.4854 - val_loss: 1.2083 - val_accuracy: 0.4607\n",
            "Epoch 304/500\n",
            "24/24 [==============================] - 0s 5ms/step - loss: 1.1738 - accuracy: 0.4861 - val_loss: 1.2084 - val_accuracy: 0.4651\n",
            "Epoch 305/500\n",
            "24/24 [==============================] - 0s 6ms/step - loss: 1.1738 - accuracy: 0.4860 - val_loss: 1.2084 - val_accuracy: 0.4624\n",
            "Epoch 306/500\n",
            "24/24 [==============================] - 0s 4ms/step - loss: 1.1750 - accuracy: 0.4834 - val_loss: 1.2096 - val_accuracy: 0.4617\n",
            "Epoch 307/500\n",
            "24/24 [==============================] - 0s 4ms/step - loss: 1.1741 - accuracy: 0.4821 - val_loss: 1.2077 - val_accuracy: 0.4651\n",
            "Epoch 308/500\n",
            "24/24 [==============================] - 0s 4ms/step - loss: 1.1746 - accuracy: 0.4843 - val_loss: 1.2086 - val_accuracy: 0.4631\n",
            "Epoch 309/500\n",
            "24/24 [==============================] - 0s 4ms/step - loss: 1.1751 - accuracy: 0.4849 - val_loss: 1.2084 - val_accuracy: 0.4631\n",
            "Epoch 310/500\n",
            "24/24 [==============================] - 0s 4ms/step - loss: 1.1743 - accuracy: 0.4841 - val_loss: 1.2081 - val_accuracy: 0.4596\n",
            "Epoch 311/500\n",
            "24/24 [==============================] - 0s 5ms/step - loss: 1.1749 - accuracy: 0.4885 - val_loss: 1.2084 - val_accuracy: 0.4638\n",
            "Epoch 312/500\n",
            "24/24 [==============================] - 0s 5ms/step - loss: 1.1740 - accuracy: 0.4829 - val_loss: 1.2086 - val_accuracy: 0.4600\n",
            "Epoch 313/500\n",
            "24/24 [==============================] - 0s 5ms/step - loss: 1.1742 - accuracy: 0.4856 - val_loss: 1.2076 - val_accuracy: 0.4589\n",
            "Epoch 314/500\n",
            "24/24 [==============================] - 0s 4ms/step - loss: 1.1749 - accuracy: 0.4816 - val_loss: 1.2076 - val_accuracy: 0.4620\n",
            "Epoch 315/500\n",
            "24/24 [==============================] - 0s 4ms/step - loss: 1.1737 - accuracy: 0.4836 - val_loss: 1.2082 - val_accuracy: 0.4603\n",
            "Epoch 316/500\n",
            "24/24 [==============================] - 0s 4ms/step - loss: 1.1734 - accuracy: 0.4848 - val_loss: 1.2096 - val_accuracy: 0.4614\n",
            "Epoch 317/500\n",
            "24/24 [==============================] - 0s 5ms/step - loss: 1.1749 - accuracy: 0.4826 - val_loss: 1.2082 - val_accuracy: 0.4672\n",
            "Epoch 318/500\n",
            "24/24 [==============================] - 0s 4ms/step - loss: 1.1739 - accuracy: 0.4856 - val_loss: 1.2085 - val_accuracy: 0.4655\n",
            "Epoch 319/500\n",
            "24/24 [==============================] - 0s 4ms/step - loss: 1.1736 - accuracy: 0.4829 - val_loss: 1.2083 - val_accuracy: 0.4644\n",
            "Epoch 320/500\n",
            "24/24 [==============================] - 0s 4ms/step - loss: 1.1742 - accuracy: 0.4846 - val_loss: 1.2099 - val_accuracy: 0.4589\n",
            "Epoch 321/500\n",
            "24/24 [==============================] - 0s 4ms/step - loss: 1.1736 - accuracy: 0.4856 - val_loss: 1.2081 - val_accuracy: 0.4631\n",
            "Epoch 322/500\n",
            "24/24 [==============================] - 0s 5ms/step - loss: 1.1735 - accuracy: 0.4848 - val_loss: 1.2079 - val_accuracy: 0.4644\n",
            "Epoch 323/500\n",
            "24/24 [==============================] - 0s 5ms/step - loss: 1.1738 - accuracy: 0.4880 - val_loss: 1.2095 - val_accuracy: 0.4644\n",
            "Epoch 324/500\n",
            "24/24 [==============================] - 0s 5ms/step - loss: 1.1739 - accuracy: 0.4839 - val_loss: 1.2088 - val_accuracy: 0.4624\n",
            "Epoch 325/500\n",
            "24/24 [==============================] - 0s 5ms/step - loss: 1.1738 - accuracy: 0.4866 - val_loss: 1.2088 - val_accuracy: 0.4648\n",
            "Epoch 326/500\n",
            "24/24 [==============================] - 0s 5ms/step - loss: 1.1731 - accuracy: 0.4870 - val_loss: 1.2088 - val_accuracy: 0.4662\n",
            "Epoch 327/500\n",
            "24/24 [==============================] - 0s 4ms/step - loss: 1.1735 - accuracy: 0.4827 - val_loss: 1.2099 - val_accuracy: 0.4662\n",
            "Epoch 328/500\n",
            "24/24 [==============================] - 0s 4ms/step - loss: 1.1736 - accuracy: 0.4863 - val_loss: 1.2081 - val_accuracy: 0.4651\n",
            "Epoch 329/500\n",
            "24/24 [==============================] - 0s 5ms/step - loss: 1.1739 - accuracy: 0.4848 - val_loss: 1.2077 - val_accuracy: 0.4648\n",
            "Epoch 330/500\n",
            "24/24 [==============================] - 0s 5ms/step - loss: 1.1737 - accuracy: 0.4826 - val_loss: 1.2091 - val_accuracy: 0.4641\n",
            "Epoch 331/500\n",
            "24/24 [==============================] - 0s 5ms/step - loss: 1.1739 - accuracy: 0.4846 - val_loss: 1.2079 - val_accuracy: 0.4614\n",
            "Epoch 332/500\n",
            "24/24 [==============================] - 0s 5ms/step - loss: 1.1730 - accuracy: 0.4822 - val_loss: 1.2090 - val_accuracy: 0.4627\n",
            "Epoch 333/500\n",
            "24/24 [==============================] - 0s 4ms/step - loss: 1.1736 - accuracy: 0.4871 - val_loss: 1.2079 - val_accuracy: 0.4610\n",
            "Epoch 334/500\n",
            "24/24 [==============================] - 0s 4ms/step - loss: 1.1735 - accuracy: 0.4831 - val_loss: 1.2087 - val_accuracy: 0.4610\n",
            "Epoch 335/500\n",
            "24/24 [==============================] - 0s 5ms/step - loss: 1.1733 - accuracy: 0.4853 - val_loss: 1.2075 - val_accuracy: 0.4651\n",
            "Epoch 336/500\n",
            "24/24 [==============================] - 0s 5ms/step - loss: 1.1735 - accuracy: 0.4866 - val_loss: 1.2073 - val_accuracy: 0.4638\n",
            "Epoch 337/500\n",
            "24/24 [==============================] - 0s 5ms/step - loss: 1.1741 - accuracy: 0.4834 - val_loss: 1.2090 - val_accuracy: 0.4620\n",
            "Epoch 338/500\n",
            "24/24 [==============================] - 0s 5ms/step - loss: 1.1754 - accuracy: 0.4827 - val_loss: 1.2099 - val_accuracy: 0.4596\n",
            "Epoch 339/500\n",
            "24/24 [==============================] - 0s 5ms/step - loss: 1.1735 - accuracy: 0.4851 - val_loss: 1.2084 - val_accuracy: 0.4617\n",
            "Epoch 340/500\n",
            "24/24 [==============================] - 0s 4ms/step - loss: 1.1726 - accuracy: 0.4866 - val_loss: 1.2077 - val_accuracy: 0.4617\n",
            "Epoch 341/500\n",
            "24/24 [==============================] - 0s 6ms/step - loss: 1.1737 - accuracy: 0.4827 - val_loss: 1.2081 - val_accuracy: 0.4610\n",
            "Epoch 342/500\n",
            "24/24 [==============================] - 0s 4ms/step - loss: 1.1733 - accuracy: 0.4873 - val_loss: 1.2079 - val_accuracy: 0.4655\n",
            "Epoch 343/500\n",
            "24/24 [==============================] - 0s 5ms/step - loss: 1.1732 - accuracy: 0.4848 - val_loss: 1.2076 - val_accuracy: 0.4627\n",
            "Epoch 344/500\n",
            "24/24 [==============================] - 0s 4ms/step - loss: 1.1724 - accuracy: 0.4853 - val_loss: 1.2074 - val_accuracy: 0.4644\n",
            "Epoch 345/500\n",
            "24/24 [==============================] - 0s 5ms/step - loss: 1.1733 - accuracy: 0.4822 - val_loss: 1.2095 - val_accuracy: 0.4603\n",
            "Epoch 346/500\n",
            "24/24 [==============================] - 0s 4ms/step - loss: 1.1737 - accuracy: 0.4860 - val_loss: 1.2078 - val_accuracy: 0.4610\n",
            "Epoch 347/500\n",
            "24/24 [==============================] - 0s 5ms/step - loss: 1.1730 - accuracy: 0.4841 - val_loss: 1.2083 - val_accuracy: 0.4617\n",
            "Epoch 348/500\n",
            "24/24 [==============================] - 0s 5ms/step - loss: 1.1729 - accuracy: 0.4836 - val_loss: 1.2082 - val_accuracy: 0.4627\n",
            "Epoch 349/500\n",
            "24/24 [==============================] - 0s 4ms/step - loss: 1.1729 - accuracy: 0.4851 - val_loss: 1.2080 - val_accuracy: 0.4627\n",
            "Epoch 350/500\n",
            "24/24 [==============================] - 0s 5ms/step - loss: 1.1734 - accuracy: 0.4863 - val_loss: 1.2072 - val_accuracy: 0.4634\n",
            "Epoch 351/500\n",
            "24/24 [==============================] - 0s 5ms/step - loss: 1.1733 - accuracy: 0.4888 - val_loss: 1.2067 - val_accuracy: 0.4624\n",
            "Epoch 352/500\n",
            "24/24 [==============================] - 0s 4ms/step - loss: 1.1730 - accuracy: 0.4848 - val_loss: 1.2076 - val_accuracy: 0.4634\n",
            "Epoch 353/500\n",
            "24/24 [==============================] - 0s 4ms/step - loss: 1.1734 - accuracy: 0.4865 - val_loss: 1.2081 - val_accuracy: 0.4631\n",
            "Epoch 354/500\n",
            "24/24 [==============================] - 0s 4ms/step - loss: 1.1726 - accuracy: 0.4812 - val_loss: 1.2081 - val_accuracy: 0.4641\n",
            "Epoch 355/500\n",
            "24/24 [==============================] - 0s 5ms/step - loss: 1.1739 - accuracy: 0.4860 - val_loss: 1.2072 - val_accuracy: 0.4641\n",
            "Epoch 356/500\n",
            "24/24 [==============================] - 0s 4ms/step - loss: 1.1737 - accuracy: 0.4802 - val_loss: 1.2087 - val_accuracy: 0.4610\n",
            "Epoch 357/500\n",
            "24/24 [==============================] - 0s 5ms/step - loss: 1.1726 - accuracy: 0.4868 - val_loss: 1.2092 - val_accuracy: 0.4631\n",
            "Epoch 358/500\n",
            "24/24 [==============================] - 0s 4ms/step - loss: 1.1730 - accuracy: 0.4832 - val_loss: 1.2085 - val_accuracy: 0.4634\n",
            "Epoch 359/500\n",
            "24/24 [==============================] - 0s 4ms/step - loss: 1.1732 - accuracy: 0.4832 - val_loss: 1.2080 - val_accuracy: 0.4620\n",
            "Epoch 360/500\n",
            "24/24 [==============================] - 0s 4ms/step - loss: 1.1727 - accuracy: 0.4839 - val_loss: 1.2080 - val_accuracy: 0.4631\n",
            "Epoch 361/500\n",
            "24/24 [==============================] - 0s 4ms/step - loss: 1.1734 - accuracy: 0.4844 - val_loss: 1.2074 - val_accuracy: 0.4634\n",
            "Epoch 362/500\n",
            "24/24 [==============================] - 0s 4ms/step - loss: 1.1721 - accuracy: 0.4851 - val_loss: 1.2071 - val_accuracy: 0.4651\n",
            "Epoch 363/500\n",
            "24/24 [==============================] - 0s 5ms/step - loss: 1.1724 - accuracy: 0.4875 - val_loss: 1.2079 - val_accuracy: 0.4610\n",
            "Epoch 364/500\n",
            "24/24 [==============================] - 0s 5ms/step - loss: 1.1742 - accuracy: 0.4876 - val_loss: 1.2074 - val_accuracy: 0.4638\n",
            "Epoch 365/500\n",
            "24/24 [==============================] - 0s 5ms/step - loss: 1.1735 - accuracy: 0.4822 - val_loss: 1.2082 - val_accuracy: 0.4634\n",
            "Epoch 366/500\n",
            "24/24 [==============================] - 0s 4ms/step - loss: 1.1728 - accuracy: 0.4873 - val_loss: 1.2080 - val_accuracy: 0.4603\n",
            "Epoch 367/500\n",
            "24/24 [==============================] - 0s 4ms/step - loss: 1.1734 - accuracy: 0.4848 - val_loss: 1.2064 - val_accuracy: 0.4655\n",
            "Epoch 368/500\n",
            "24/24 [==============================] - 0s 4ms/step - loss: 1.1729 - accuracy: 0.4841 - val_loss: 1.2083 - val_accuracy: 0.4644\n",
            "Epoch 369/500\n",
            "24/24 [==============================] - 0s 4ms/step - loss: 1.1736 - accuracy: 0.4841 - val_loss: 1.2094 - val_accuracy: 0.4620\n",
            "Epoch 370/500\n",
            "24/24 [==============================] - 0s 5ms/step - loss: 1.1731 - accuracy: 0.4851 - val_loss: 1.2087 - val_accuracy: 0.4679\n",
            "Epoch 371/500\n",
            "24/24 [==============================] - 0s 4ms/step - loss: 1.1727 - accuracy: 0.4875 - val_loss: 1.2077 - val_accuracy: 0.4638\n",
            "Epoch 372/500\n",
            "24/24 [==============================] - 0s 4ms/step - loss: 1.1737 - accuracy: 0.4804 - val_loss: 1.2073 - val_accuracy: 0.4668\n",
            "Epoch 373/500\n",
            "24/24 [==============================] - 0s 4ms/step - loss: 1.1723 - accuracy: 0.4861 - val_loss: 1.2069 - val_accuracy: 0.4655\n",
            "Epoch 374/500\n",
            "24/24 [==============================] - 0s 5ms/step - loss: 1.1725 - accuracy: 0.4846 - val_loss: 1.2070 - val_accuracy: 0.4648\n",
            "Epoch 375/500\n",
            "24/24 [==============================] - 0s 4ms/step - loss: 1.1732 - accuracy: 0.4799 - val_loss: 1.2067 - val_accuracy: 0.4662\n",
            "Epoch 376/500\n",
            "24/24 [==============================] - 0s 5ms/step - loss: 1.1723 - accuracy: 0.4860 - val_loss: 1.2073 - val_accuracy: 0.4658\n",
            "Epoch 377/500\n",
            "24/24 [==============================] - 0s 4ms/step - loss: 1.1728 - accuracy: 0.4892 - val_loss: 1.2076 - val_accuracy: 0.4641\n",
            "Epoch 378/500\n",
            "24/24 [==============================] - 0s 4ms/step - loss: 1.1723 - accuracy: 0.4860 - val_loss: 1.2079 - val_accuracy: 0.4634\n",
            "Epoch 379/500\n",
            "24/24 [==============================] - 0s 5ms/step - loss: 1.1732 - accuracy: 0.4804 - val_loss: 1.2098 - val_accuracy: 0.4607\n",
            "Epoch 380/500\n",
            "24/24 [==============================] - 0s 4ms/step - loss: 1.1725 - accuracy: 0.4849 - val_loss: 1.2075 - val_accuracy: 0.4665\n",
            "Epoch 381/500\n",
            "24/24 [==============================] - 0s 4ms/step - loss: 1.1722 - accuracy: 0.4832 - val_loss: 1.2083 - val_accuracy: 0.4631\n",
            "Epoch 382/500\n",
            "24/24 [==============================] - 0s 5ms/step - loss: 1.1720 - accuracy: 0.4878 - val_loss: 1.2068 - val_accuracy: 0.4672\n",
            "Epoch 383/500\n",
            "24/24 [==============================] - 0s 6ms/step - loss: 1.1719 - accuracy: 0.4826 - val_loss: 1.2073 - val_accuracy: 0.4631\n",
            "Epoch 384/500\n",
            "24/24 [==============================] - 0s 6ms/step - loss: 1.1730 - accuracy: 0.4838 - val_loss: 1.2084 - val_accuracy: 0.4620\n",
            "Epoch 385/500\n",
            "24/24 [==============================] - 0s 6ms/step - loss: 1.1726 - accuracy: 0.4827 - val_loss: 1.2075 - val_accuracy: 0.4648\n",
            "Epoch 386/500\n",
            "24/24 [==============================] - 0s 8ms/step - loss: 1.1722 - accuracy: 0.4829 - val_loss: 1.2074 - val_accuracy: 0.4658\n",
            "Epoch 387/500\n",
            "24/24 [==============================] - 0s 8ms/step - loss: 1.1730 - accuracy: 0.4876 - val_loss: 1.2062 - val_accuracy: 0.4706\n",
            "Epoch 388/500\n",
            "24/24 [==============================] - 0s 7ms/step - loss: 1.1718 - accuracy: 0.4861 - val_loss: 1.2077 - val_accuracy: 0.4644\n",
            "Epoch 389/500\n",
            "24/24 [==============================] - 0s 7ms/step - loss: 1.1717 - accuracy: 0.4875 - val_loss: 1.2069 - val_accuracy: 0.4638\n",
            "Epoch 390/500\n",
            "24/24 [==============================] - 0s 8ms/step - loss: 1.1731 - accuracy: 0.4832 - val_loss: 1.2073 - val_accuracy: 0.4651\n",
            "Epoch 391/500\n",
            "24/24 [==============================] - 0s 7ms/step - loss: 1.1721 - accuracy: 0.4843 - val_loss: 1.2080 - val_accuracy: 0.4648\n",
            "Epoch 392/500\n",
            "24/24 [==============================] - 0s 7ms/step - loss: 1.1721 - accuracy: 0.4826 - val_loss: 1.2077 - val_accuracy: 0.4648\n",
            "Epoch 393/500\n",
            "24/24 [==============================] - 0s 7ms/step - loss: 1.1722 - accuracy: 0.4817 - val_loss: 1.2078 - val_accuracy: 0.4644\n",
            "Epoch 394/500\n",
            "24/24 [==============================] - 0s 6ms/step - loss: 1.1721 - accuracy: 0.4849 - val_loss: 1.2089 - val_accuracy: 0.4648\n",
            "Epoch 395/500\n",
            "24/24 [==============================] - 0s 8ms/step - loss: 1.1732 - accuracy: 0.4814 - val_loss: 1.2079 - val_accuracy: 0.4651\n",
            "Epoch 396/500\n",
            "24/24 [==============================] - 0s 9ms/step - loss: 1.1721 - accuracy: 0.4849 - val_loss: 1.2069 - val_accuracy: 0.4655\n",
            "Epoch 397/500\n",
            "24/24 [==============================] - 0s 8ms/step - loss: 1.1721 - accuracy: 0.4834 - val_loss: 1.2067 - val_accuracy: 0.4648\n",
            "Epoch 398/500\n",
            "24/24 [==============================] - 0s 8ms/step - loss: 1.1725 - accuracy: 0.4821 - val_loss: 1.2068 - val_accuracy: 0.4662\n",
            "Epoch 399/500\n",
            "24/24 [==============================] - 0s 6ms/step - loss: 1.1719 - accuracy: 0.4854 - val_loss: 1.2073 - val_accuracy: 0.4631\n",
            "Epoch 400/500\n",
            "24/24 [==============================] - 0s 6ms/step - loss: 1.1721 - accuracy: 0.4821 - val_loss: 1.2061 - val_accuracy: 0.4648\n",
            "Epoch 401/500\n",
            "24/24 [==============================] - 0s 5ms/step - loss: 1.1728 - accuracy: 0.4822 - val_loss: 1.2073 - val_accuracy: 0.4638\n",
            "Epoch 402/500\n",
            "24/24 [==============================] - 0s 4ms/step - loss: 1.1715 - accuracy: 0.4856 - val_loss: 1.2077 - val_accuracy: 0.4638\n",
            "Epoch 403/500\n",
            "24/24 [==============================] - 0s 4ms/step - loss: 1.1720 - accuracy: 0.4849 - val_loss: 1.2068 - val_accuracy: 0.4655\n",
            "Epoch 404/500\n",
            "24/24 [==============================] - 0s 5ms/step - loss: 1.1718 - accuracy: 0.4836 - val_loss: 1.2069 - val_accuracy: 0.4638\n",
            "Epoch 405/500\n",
            "24/24 [==============================] - 0s 4ms/step - loss: 1.1719 - accuracy: 0.4822 - val_loss: 1.2077 - val_accuracy: 0.4655\n",
            "Epoch 406/500\n",
            "24/24 [==============================] - 0s 5ms/step - loss: 1.1747 - accuracy: 0.4844 - val_loss: 1.2075 - val_accuracy: 0.4614\n",
            "Epoch 407/500\n",
            "24/24 [==============================] - 0s 5ms/step - loss: 1.1717 - accuracy: 0.4839 - val_loss: 1.2071 - val_accuracy: 0.4655\n",
            "Epoch 408/500\n",
            "24/24 [==============================] - 0s 4ms/step - loss: 1.1721 - accuracy: 0.4834 - val_loss: 1.2072 - val_accuracy: 0.4631\n",
            "Epoch 409/500\n",
            "24/24 [==============================] - 0s 5ms/step - loss: 1.1714 - accuracy: 0.4848 - val_loss: 1.2061 - val_accuracy: 0.4651\n",
            "Epoch 410/500\n",
            "24/24 [==============================] - 0s 5ms/step - loss: 1.1717 - accuracy: 0.4843 - val_loss: 1.2070 - val_accuracy: 0.4655\n",
            "Epoch 411/500\n",
            "24/24 [==============================] - 0s 5ms/step - loss: 1.1716 - accuracy: 0.4824 - val_loss: 1.2069 - val_accuracy: 0.4644\n",
            "Epoch 412/500\n",
            "24/24 [==============================] - 0s 5ms/step - loss: 1.1721 - accuracy: 0.4868 - val_loss: 1.2059 - val_accuracy: 0.4675\n",
            "Epoch 413/500\n",
            "24/24 [==============================] - 0s 4ms/step - loss: 1.1721 - accuracy: 0.4843 - val_loss: 1.2068 - val_accuracy: 0.4607\n",
            "Epoch 414/500\n",
            "24/24 [==============================] - 0s 5ms/step - loss: 1.1722 - accuracy: 0.4834 - val_loss: 1.2076 - val_accuracy: 0.4648\n",
            "Epoch 415/500\n",
            "24/24 [==============================] - 0s 4ms/step - loss: 1.1717 - accuracy: 0.4832 - val_loss: 1.2075 - val_accuracy: 0.4620\n",
            "Epoch 416/500\n",
            "24/24 [==============================] - 0s 4ms/step - loss: 1.1719 - accuracy: 0.4880 - val_loss: 1.2069 - val_accuracy: 0.4644\n",
            "Epoch 417/500\n",
            "24/24 [==============================] - 0s 5ms/step - loss: 1.1725 - accuracy: 0.4846 - val_loss: 1.2075 - val_accuracy: 0.4665\n",
            "Epoch 418/500\n",
            "24/24 [==============================] - 0s 7ms/step - loss: 1.1717 - accuracy: 0.4821 - val_loss: 1.2068 - val_accuracy: 0.4641\n",
            "Epoch 419/500\n",
            "24/24 [==============================] - 0s 5ms/step - loss: 1.1720 - accuracy: 0.4821 - val_loss: 1.2076 - val_accuracy: 0.4610\n",
            "Epoch 420/500\n",
            "24/24 [==============================] - 0s 4ms/step - loss: 1.1737 - accuracy: 0.4838 - val_loss: 1.2082 - val_accuracy: 0.4641\n",
            "Epoch 421/500\n",
            "24/24 [==============================] - 0s 5ms/step - loss: 1.1720 - accuracy: 0.4804 - val_loss: 1.2067 - val_accuracy: 0.4662\n",
            "Epoch 422/500\n",
            "24/24 [==============================] - 0s 4ms/step - loss: 1.1718 - accuracy: 0.4844 - val_loss: 1.2068 - val_accuracy: 0.4668\n",
            "Epoch 423/500\n",
            "24/24 [==============================] - 0s 4ms/step - loss: 1.1717 - accuracy: 0.4871 - val_loss: 1.2084 - val_accuracy: 0.4641\n",
            "Epoch 424/500\n",
            "24/24 [==============================] - 0s 4ms/step - loss: 1.1720 - accuracy: 0.4802 - val_loss: 1.2071 - val_accuracy: 0.4658\n",
            "Epoch 425/500\n",
            "24/24 [==============================] - 0s 5ms/step - loss: 1.1714 - accuracy: 0.4849 - val_loss: 1.2072 - val_accuracy: 0.4672\n",
            "Epoch 426/500\n",
            "24/24 [==============================] - 0s 19ms/step - loss: 1.1713 - accuracy: 0.4875 - val_loss: 1.2077 - val_accuracy: 0.4614\n",
            "Epoch 427/500\n",
            "24/24 [==============================] - 0s 10ms/step - loss: 1.1715 - accuracy: 0.4832 - val_loss: 1.2075 - val_accuracy: 0.4651\n",
            "Epoch 428/500\n",
            "24/24 [==============================] - 0s 6ms/step - loss: 1.1716 - accuracy: 0.4866 - val_loss: 1.2065 - val_accuracy: 0.4658\n",
            "Epoch 429/500\n",
            "24/24 [==============================] - 0s 5ms/step - loss: 1.1719 - accuracy: 0.4870 - val_loss: 1.2060 - val_accuracy: 0.4662\n",
            "Epoch 430/500\n",
            "24/24 [==============================] - 0s 5ms/step - loss: 1.1712 - accuracy: 0.4865 - val_loss: 1.2064 - val_accuracy: 0.4655\n",
            "Epoch 431/500\n",
            "24/24 [==============================] - 0s 6ms/step - loss: 1.1716 - accuracy: 0.4822 - val_loss: 1.2063 - val_accuracy: 0.4655\n",
            "Epoch 432/500\n",
            "24/24 [==============================] - 0s 11ms/step - loss: 1.1710 - accuracy: 0.4866 - val_loss: 1.2070 - val_accuracy: 0.4644\n",
            "Epoch 433/500\n",
            "24/24 [==============================] - 0s 11ms/step - loss: 1.1711 - accuracy: 0.4848 - val_loss: 1.2068 - val_accuracy: 0.4624\n",
            "Epoch 434/500\n",
            "24/24 [==============================] - 0s 5ms/step - loss: 1.1710 - accuracy: 0.4849 - val_loss: 1.2057 - val_accuracy: 0.4658\n",
            "Epoch 435/500\n",
            "24/24 [==============================] - 0s 5ms/step - loss: 1.1711 - accuracy: 0.4848 - val_loss: 1.2074 - val_accuracy: 0.4607\n",
            "Epoch 436/500\n",
            "24/24 [==============================] - 0s 5ms/step - loss: 1.1713 - accuracy: 0.4858 - val_loss: 1.2064 - val_accuracy: 0.4624\n",
            "Epoch 437/500\n",
            "24/24 [==============================] - 0s 5ms/step - loss: 1.1718 - accuracy: 0.4853 - val_loss: 1.2087 - val_accuracy: 0.4651\n",
            "Epoch 438/500\n",
            "24/24 [==============================] - 0s 5ms/step - loss: 1.1722 - accuracy: 0.4839 - val_loss: 1.2060 - val_accuracy: 0.4631\n",
            "Epoch 439/500\n",
            "24/24 [==============================] - 0s 5ms/step - loss: 1.1715 - accuracy: 0.4839 - val_loss: 1.2064 - val_accuracy: 0.4644\n",
            "Epoch 440/500\n",
            "24/24 [==============================] - 0s 5ms/step - loss: 1.1722 - accuracy: 0.4832 - val_loss: 1.2075 - val_accuracy: 0.4644\n",
            "Epoch 441/500\n",
            "24/24 [==============================] - 0s 4ms/step - loss: 1.1712 - accuracy: 0.4829 - val_loss: 1.2069 - val_accuracy: 0.4634\n",
            "Epoch 442/500\n",
            "24/24 [==============================] - 0s 4ms/step - loss: 1.1711 - accuracy: 0.4854 - val_loss: 1.2063 - val_accuracy: 0.4641\n",
            "Epoch 443/500\n",
            "24/24 [==============================] - 0s 5ms/step - loss: 1.1712 - accuracy: 0.4851 - val_loss: 1.2081 - val_accuracy: 0.4641\n",
            "Epoch 444/500\n",
            "24/24 [==============================] - 0s 4ms/step - loss: 1.1738 - accuracy: 0.4787 - val_loss: 1.2064 - val_accuracy: 0.4631\n",
            "Epoch 445/500\n",
            "24/24 [==============================] - 0s 4ms/step - loss: 1.1722 - accuracy: 0.4844 - val_loss: 1.2066 - val_accuracy: 0.4638\n",
            "Epoch 446/500\n",
            "24/24 [==============================] - 0s 4ms/step - loss: 1.1717 - accuracy: 0.4821 - val_loss: 1.2057 - val_accuracy: 0.4627\n",
            "Epoch 447/500\n",
            "24/24 [==============================] - 0s 5ms/step - loss: 1.1717 - accuracy: 0.4863 - val_loss: 1.2076 - val_accuracy: 0.4644\n",
            "Epoch 448/500\n",
            "24/24 [==============================] - 0s 5ms/step - loss: 1.1716 - accuracy: 0.4807 - val_loss: 1.2073 - val_accuracy: 0.4638\n",
            "Epoch 449/500\n",
            "24/24 [==============================] - 0s 4ms/step - loss: 1.1712 - accuracy: 0.4848 - val_loss: 1.2076 - val_accuracy: 0.4617\n",
            "Epoch 450/500\n",
            "24/24 [==============================] - 0s 4ms/step - loss: 1.1705 - accuracy: 0.4875 - val_loss: 1.2070 - val_accuracy: 0.4620\n",
            "Epoch 451/500\n",
            "24/24 [==============================] - 0s 4ms/step - loss: 1.1714 - accuracy: 0.4807 - val_loss: 1.2087 - val_accuracy: 0.4610\n",
            "Epoch 452/500\n",
            "24/24 [==============================] - 0s 4ms/step - loss: 1.1722 - accuracy: 0.4865 - val_loss: 1.2071 - val_accuracy: 0.4644\n",
            "Epoch 453/500\n",
            "24/24 [==============================] - 0s 4ms/step - loss: 1.1719 - accuracy: 0.4822 - val_loss: 1.2084 - val_accuracy: 0.4651\n",
            "Epoch 454/500\n",
            "24/24 [==============================] - 0s 5ms/step - loss: 1.1718 - accuracy: 0.4854 - val_loss: 1.2065 - val_accuracy: 0.4627\n",
            "Epoch 455/500\n",
            "24/24 [==============================] - 0s 5ms/step - loss: 1.1708 - accuracy: 0.4838 - val_loss: 1.2076 - val_accuracy: 0.4620\n",
            "Epoch 456/500\n",
            "24/24 [==============================] - 0s 5ms/step - loss: 1.1716 - accuracy: 0.4816 - val_loss: 1.2077 - val_accuracy: 0.4631\n",
            "Epoch 457/500\n",
            "24/24 [==============================] - 0s 5ms/step - loss: 1.1719 - accuracy: 0.4860 - val_loss: 1.2063 - val_accuracy: 0.4689\n",
            "Epoch 458/500\n",
            "24/24 [==============================] - 0s 5ms/step - loss: 1.1714 - accuracy: 0.4838 - val_loss: 1.2071 - val_accuracy: 0.4662\n",
            "Epoch 459/500\n",
            "24/24 [==============================] - 0s 4ms/step - loss: 1.1715 - accuracy: 0.4860 - val_loss: 1.2071 - val_accuracy: 0.4693\n",
            "Epoch 460/500\n",
            "24/24 [==============================] - 0s 5ms/step - loss: 1.1710 - accuracy: 0.4871 - val_loss: 1.2071 - val_accuracy: 0.4624\n",
            "Epoch 461/500\n",
            "24/24 [==============================] - 0s 4ms/step - loss: 1.1704 - accuracy: 0.4810 - val_loss: 1.2083 - val_accuracy: 0.4644\n",
            "Epoch 462/500\n",
            "24/24 [==============================] - 0s 4ms/step - loss: 1.1703 - accuracy: 0.4866 - val_loss: 1.2073 - val_accuracy: 0.4634\n",
            "Epoch 463/500\n",
            "24/24 [==============================] - 0s 5ms/step - loss: 1.1710 - accuracy: 0.4878 - val_loss: 1.2078 - val_accuracy: 0.4644\n",
            "Epoch 464/500\n",
            "24/24 [==============================] - 0s 4ms/step - loss: 1.1709 - accuracy: 0.4846 - val_loss: 1.2064 - val_accuracy: 0.4627\n",
            "Epoch 465/500\n",
            "24/24 [==============================] - 0s 5ms/step - loss: 1.1706 - accuracy: 0.4809 - val_loss: 1.2076 - val_accuracy: 0.4603\n",
            "Epoch 466/500\n",
            "24/24 [==============================] - 0s 5ms/step - loss: 1.1711 - accuracy: 0.4851 - val_loss: 1.2069 - val_accuracy: 0.4614\n",
            "Epoch 467/500\n",
            "24/24 [==============================] - 0s 4ms/step - loss: 1.1712 - accuracy: 0.4853 - val_loss: 1.2073 - val_accuracy: 0.4620\n",
            "Epoch 468/500\n",
            "24/24 [==============================] - 0s 4ms/step - loss: 1.1708 - accuracy: 0.4853 - val_loss: 1.2062 - val_accuracy: 0.4668\n",
            "Epoch 469/500\n",
            "24/24 [==============================] - 0s 4ms/step - loss: 1.1710 - accuracy: 0.4819 - val_loss: 1.2063 - val_accuracy: 0.4631\n",
            "Epoch 470/500\n",
            "24/24 [==============================] - 0s 5ms/step - loss: 1.1708 - accuracy: 0.4882 - val_loss: 1.2071 - val_accuracy: 0.4655\n",
            "Epoch 471/500\n",
            "24/24 [==============================] - 0s 5ms/step - loss: 1.1716 - accuracy: 0.4838 - val_loss: 1.2054 - val_accuracy: 0.4648\n",
            "Epoch 472/500\n",
            "24/24 [==============================] - 0s 7ms/step - loss: 1.1705 - accuracy: 0.4829 - val_loss: 1.2077 - val_accuracy: 0.4631\n",
            "Epoch 473/500\n",
            "24/24 [==============================] - 0s 5ms/step - loss: 1.1706 - accuracy: 0.4778 - val_loss: 1.2066 - val_accuracy: 0.4638\n",
            "Epoch 474/500\n",
            "24/24 [==============================] - 0s 5ms/step - loss: 1.1709 - accuracy: 0.4883 - val_loss: 1.2064 - val_accuracy: 0.4638\n",
            "Epoch 475/500\n",
            "24/24 [==============================] - 0s 4ms/step - loss: 1.1719 - accuracy: 0.4814 - val_loss: 1.2062 - val_accuracy: 0.4638\n",
            "Epoch 476/500\n",
            "24/24 [==============================] - 0s 4ms/step - loss: 1.1712 - accuracy: 0.4866 - val_loss: 1.2060 - val_accuracy: 0.4641\n",
            "Epoch 477/500\n",
            "24/24 [==============================] - 0s 5ms/step - loss: 1.1706 - accuracy: 0.4843 - val_loss: 1.2067 - val_accuracy: 0.4641\n",
            "Epoch 478/500\n",
            "24/24 [==============================] - 0s 7ms/step - loss: 1.1705 - accuracy: 0.4810 - val_loss: 1.2055 - val_accuracy: 0.4620\n",
            "Epoch 479/500\n",
            "24/24 [==============================] - 0s 6ms/step - loss: 1.1705 - accuracy: 0.4826 - val_loss: 1.2060 - val_accuracy: 0.4617\n",
            "Epoch 480/500\n",
            "24/24 [==============================] - 0s 7ms/step - loss: 1.1700 - accuracy: 0.4831 - val_loss: 1.2073 - val_accuracy: 0.4607\n",
            "Epoch 481/500\n",
            "24/24 [==============================] - 0s 7ms/step - loss: 1.1707 - accuracy: 0.4849 - val_loss: 1.2053 - val_accuracy: 0.4641\n",
            "Epoch 482/500\n",
            "24/24 [==============================] - 0s 8ms/step - loss: 1.1709 - accuracy: 0.4826 - val_loss: 1.2061 - val_accuracy: 0.4651\n",
            "Epoch 483/500\n",
            "24/24 [==============================] - 0s 7ms/step - loss: 1.1700 - accuracy: 0.4854 - val_loss: 1.2065 - val_accuracy: 0.4634\n",
            "Epoch 484/500\n",
            "24/24 [==============================] - 0s 9ms/step - loss: 1.1700 - accuracy: 0.4851 - val_loss: 1.2067 - val_accuracy: 0.4627\n",
            "Epoch 485/500\n",
            "24/24 [==============================] - 0s 7ms/step - loss: 1.1703 - accuracy: 0.4839 - val_loss: 1.2070 - val_accuracy: 0.4641\n",
            "Epoch 486/500\n",
            "24/24 [==============================] - 0s 6ms/step - loss: 1.1704 - accuracy: 0.4861 - val_loss: 1.2056 - val_accuracy: 0.4641\n",
            "Epoch 487/500\n",
            "24/24 [==============================] - 0s 9ms/step - loss: 1.1716 - accuracy: 0.4836 - val_loss: 1.2082 - val_accuracy: 0.4603\n",
            "Epoch 488/500\n",
            "24/24 [==============================] - 0s 8ms/step - loss: 1.1717 - accuracy: 0.4856 - val_loss: 1.2066 - val_accuracy: 0.4658\n",
            "Epoch 489/500\n",
            "24/24 [==============================] - 0s 7ms/step - loss: 1.1706 - accuracy: 0.4819 - val_loss: 1.2083 - val_accuracy: 0.4624\n",
            "Epoch 490/500\n",
            "24/24 [==============================] - 0s 8ms/step - loss: 1.1709 - accuracy: 0.4832 - val_loss: 1.2065 - val_accuracy: 0.4631\n",
            "Epoch 491/500\n",
            "24/24 [==============================] - 0s 8ms/step - loss: 1.1707 - accuracy: 0.4854 - val_loss: 1.2054 - val_accuracy: 0.4655\n",
            "Epoch 492/500\n",
            "24/24 [==============================] - 0s 9ms/step - loss: 1.1707 - accuracy: 0.4824 - val_loss: 1.2060 - val_accuracy: 0.4624\n",
            "Epoch 493/500\n",
            "24/24 [==============================] - 0s 6ms/step - loss: 1.1710 - accuracy: 0.4794 - val_loss: 1.2059 - val_accuracy: 0.4624\n",
            "Epoch 494/500\n",
            "24/24 [==============================] - 0s 8ms/step - loss: 1.1701 - accuracy: 0.4866 - val_loss: 1.2070 - val_accuracy: 0.4603\n",
            "Epoch 495/500\n",
            "24/24 [==============================] - 0s 6ms/step - loss: 1.1719 - accuracy: 0.4880 - val_loss: 1.2077 - val_accuracy: 0.4624\n",
            "Epoch 496/500\n",
            "24/24 [==============================] - 0s 5ms/step - loss: 1.1707 - accuracy: 0.4826 - val_loss: 1.2053 - val_accuracy: 0.4614\n",
            "Epoch 497/500\n",
            "24/24 [==============================] - 0s 5ms/step - loss: 1.1701 - accuracy: 0.4831 - val_loss: 1.2064 - val_accuracy: 0.4607\n",
            "Epoch 498/500\n",
            "24/24 [==============================] - 0s 5ms/step - loss: 1.1711 - accuracy: 0.4861 - val_loss: 1.2095 - val_accuracy: 0.4631\n",
            "Epoch 499/500\n",
            "24/24 [==============================] - 0s 7ms/step - loss: 1.1724 - accuracy: 0.4760 - val_loss: 1.2065 - val_accuracy: 0.4631\n",
            "Epoch 500/500\n",
            "24/24 [==============================] - 0s 5ms/step - loss: 1.1714 - accuracy: 0.4873 - val_loss: 1.2056 - val_accuracy: 0.4658\n"
          ]
        },
        {
          "output_type": "execute_result",
          "data": {
            "text/plain": [
              "<keras.callbacks.History at 0x78c2cdf9ae30>"
            ]
          },
          "metadata": {},
          "execution_count": 59
        }
      ],
      "source": [
        "ai_brain.fit(x=X_train_scaled,y=y_train,\n",
        "             epochs=500,batch_size=256,\n",
        "             validation_data=(X_test_scaled,y_test),\n",
        "             )"
      ]
    },
    {
      "cell_type": "code",
      "execution_count": 60,
      "metadata": {
        "id": "XWIYu0cVCMHi"
      },
      "outputs": [],
      "source": [
        "metrics = pd.DataFrame(ai_brain.history.history)"
      ]
    },
    {
      "cell_type": "code",
      "execution_count": 61,
      "metadata": {
        "colab": {
          "base_uri": "https://localhost:8080/",
          "height": 206
        },
        "id": "JoK65PqSCVwA",
        "outputId": "06980502-f8c8-451a-a785-61460de8402b"
      },
      "outputs": [
        {
          "output_type": "execute_result",
          "data": {
            "text/plain": [
              "       loss  accuracy  val_loss  val_accuracy\n",
              "0  1.753549  0.260325  1.539167      0.287874\n",
              "1  1.466868  0.319905  1.442031      0.326005\n",
              "2  1.398820  0.337847  1.395367      0.332188\n",
              "3  1.361242  0.350542  1.365245      0.351769\n",
              "4  1.336723  0.370684  1.344317      0.363793"
            ],
            "text/html": [
              "\n",
              "  <div id=\"df-5027a698-6215-41ad-921e-34ba935f9b60\" class=\"colab-df-container\">\n",
              "    <div>\n",
              "<style scoped>\n",
              "    .dataframe tbody tr th:only-of-type {\n",
              "        vertical-align: middle;\n",
              "    }\n",
              "\n",
              "    .dataframe tbody tr th {\n",
              "        vertical-align: top;\n",
              "    }\n",
              "\n",
              "    .dataframe thead th {\n",
              "        text-align: right;\n",
              "    }\n",
              "</style>\n",
              "<table border=\"1\" class=\"dataframe\">\n",
              "  <thead>\n",
              "    <tr style=\"text-align: right;\">\n",
              "      <th></th>\n",
              "      <th>loss</th>\n",
              "      <th>accuracy</th>\n",
              "      <th>val_loss</th>\n",
              "      <th>val_accuracy</th>\n",
              "    </tr>\n",
              "  </thead>\n",
              "  <tbody>\n",
              "    <tr>\n",
              "      <th>0</th>\n",
              "      <td>1.753549</td>\n",
              "      <td>0.260325</td>\n",
              "      <td>1.539167</td>\n",
              "      <td>0.287874</td>\n",
              "    </tr>\n",
              "    <tr>\n",
              "      <th>1</th>\n",
              "      <td>1.466868</td>\n",
              "      <td>0.319905</td>\n",
              "      <td>1.442031</td>\n",
              "      <td>0.326005</td>\n",
              "    </tr>\n",
              "    <tr>\n",
              "      <th>2</th>\n",
              "      <td>1.398820</td>\n",
              "      <td>0.337847</td>\n",
              "      <td>1.395367</td>\n",
              "      <td>0.332188</td>\n",
              "    </tr>\n",
              "    <tr>\n",
              "      <th>3</th>\n",
              "      <td>1.361242</td>\n",
              "      <td>0.350542</td>\n",
              "      <td>1.365245</td>\n",
              "      <td>0.351769</td>\n",
              "    </tr>\n",
              "    <tr>\n",
              "      <th>4</th>\n",
              "      <td>1.336723</td>\n",
              "      <td>0.370684</td>\n",
              "      <td>1.344317</td>\n",
              "      <td>0.363793</td>\n",
              "    </tr>\n",
              "  </tbody>\n",
              "</table>\n",
              "</div>\n",
              "    <div class=\"colab-df-buttons\">\n",
              "\n",
              "  <div class=\"colab-df-container\">\n",
              "    <button class=\"colab-df-convert\" onclick=\"convertToInteractive('df-5027a698-6215-41ad-921e-34ba935f9b60')\"\n",
              "            title=\"Convert this dataframe to an interactive table.\"\n",
              "            style=\"display:none;\">\n",
              "\n",
              "  <svg xmlns=\"http://www.w3.org/2000/svg\" height=\"24px\" viewBox=\"0 -960 960 960\">\n",
              "    <path d=\"M120-120v-720h720v720H120Zm60-500h600v-160H180v160Zm220 220h160v-160H400v160Zm0 220h160v-160H400v160ZM180-400h160v-160H180v160Zm440 0h160v-160H620v160ZM180-180h160v-160H180v160Zm440 0h160v-160H620v160Z\"/>\n",
              "  </svg>\n",
              "    </button>\n",
              "\n",
              "  <style>\n",
              "    .colab-df-container {\n",
              "      display:flex;\n",
              "      gap: 12px;\n",
              "    }\n",
              "\n",
              "    .colab-df-convert {\n",
              "      background-color: #E8F0FE;\n",
              "      border: none;\n",
              "      border-radius: 50%;\n",
              "      cursor: pointer;\n",
              "      display: none;\n",
              "      fill: #1967D2;\n",
              "      height: 32px;\n",
              "      padding: 0 0 0 0;\n",
              "      width: 32px;\n",
              "    }\n",
              "\n",
              "    .colab-df-convert:hover {\n",
              "      background-color: #E2EBFA;\n",
              "      box-shadow: 0px 1px 2px rgba(60, 64, 67, 0.3), 0px 1px 3px 1px rgba(60, 64, 67, 0.15);\n",
              "      fill: #174EA6;\n",
              "    }\n",
              "\n",
              "    .colab-df-buttons div {\n",
              "      margin-bottom: 4px;\n",
              "    }\n",
              "\n",
              "    [theme=dark] .colab-df-convert {\n",
              "      background-color: #3B4455;\n",
              "      fill: #D2E3FC;\n",
              "    }\n",
              "\n",
              "    [theme=dark] .colab-df-convert:hover {\n",
              "      background-color: #434B5C;\n",
              "      box-shadow: 0px 1px 3px 1px rgba(0, 0, 0, 0.15);\n",
              "      filter: drop-shadow(0px 1px 2px rgba(0, 0, 0, 0.3));\n",
              "      fill: #FFFFFF;\n",
              "    }\n",
              "  </style>\n",
              "\n",
              "    <script>\n",
              "      const buttonEl =\n",
              "        document.querySelector('#df-5027a698-6215-41ad-921e-34ba935f9b60 button.colab-df-convert');\n",
              "      buttonEl.style.display =\n",
              "        google.colab.kernel.accessAllowed ? 'block' : 'none';\n",
              "\n",
              "      async function convertToInteractive(key) {\n",
              "        const element = document.querySelector('#df-5027a698-6215-41ad-921e-34ba935f9b60');\n",
              "        const dataTable =\n",
              "          await google.colab.kernel.invokeFunction('convertToInteractive',\n",
              "                                                    [key], {});\n",
              "        if (!dataTable) return;\n",
              "\n",
              "        const docLinkHtml = 'Like what you see? Visit the ' +\n",
              "          '<a target=\"_blank\" href=https://colab.research.google.com/notebooks/data_table.ipynb>data table notebook</a>'\n",
              "          + ' to learn more about interactive tables.';\n",
              "        element.innerHTML = '';\n",
              "        dataTable['output_type'] = 'display_data';\n",
              "        await google.colab.output.renderOutput(dataTable, element);\n",
              "        const docLink = document.createElement('div');\n",
              "        docLink.innerHTML = docLinkHtml;\n",
              "        element.appendChild(docLink);\n",
              "      }\n",
              "    </script>\n",
              "  </div>\n",
              "\n",
              "\n",
              "<div id=\"df-d1f17af3-a8eb-4085-a2c1-3e0e76999975\">\n",
              "  <button class=\"colab-df-quickchart\" onclick=\"quickchart('df-d1f17af3-a8eb-4085-a2c1-3e0e76999975')\"\n",
              "            title=\"Suggest charts.\"\n",
              "            style=\"display:none;\">\n",
              "\n",
              "<svg xmlns=\"http://www.w3.org/2000/svg\" height=\"24px\"viewBox=\"0 0 24 24\"\n",
              "     width=\"24px\">\n",
              "    <g>\n",
              "        <path d=\"M19 3H5c-1.1 0-2 .9-2 2v14c0 1.1.9 2 2 2h14c1.1 0 2-.9 2-2V5c0-1.1-.9-2-2-2zM9 17H7v-7h2v7zm4 0h-2V7h2v10zm4 0h-2v-4h2v4z\"/>\n",
              "    </g>\n",
              "</svg>\n",
              "  </button>\n",
              "\n",
              "<style>\n",
              "  .colab-df-quickchart {\n",
              "    background-color: #E8F0FE;\n",
              "    border: none;\n",
              "    border-radius: 50%;\n",
              "    cursor: pointer;\n",
              "    display: none;\n",
              "    fill: #1967D2;\n",
              "    height: 32px;\n",
              "    padding: 0 0 0 0;\n",
              "    width: 32px;\n",
              "  }\n",
              "\n",
              "  .colab-df-quickchart:hover {\n",
              "    background-color: #E2EBFA;\n",
              "    box-shadow: 0px 1px 2px rgba(60, 64, 67, 0.3), 0px 1px 3px 1px rgba(60, 64, 67, 0.15);\n",
              "    fill: #174EA6;\n",
              "  }\n",
              "\n",
              "  [theme=dark] .colab-df-quickchart {\n",
              "    background-color: #3B4455;\n",
              "    fill: #D2E3FC;\n",
              "  }\n",
              "\n",
              "  [theme=dark] .colab-df-quickchart:hover {\n",
              "    background-color: #434B5C;\n",
              "    box-shadow: 0px 1px 3px 1px rgba(0, 0, 0, 0.15);\n",
              "    filter: drop-shadow(0px 1px 2px rgba(0, 0, 0, 0.3));\n",
              "    fill: #FFFFFF;\n",
              "  }\n",
              "</style>\n",
              "\n",
              "  <script>\n",
              "    async function quickchart(key) {\n",
              "      const charts = await google.colab.kernel.invokeFunction(\n",
              "          'suggestCharts', [key], {});\n",
              "    }\n",
              "    (() => {\n",
              "      let quickchartButtonEl =\n",
              "        document.querySelector('#df-d1f17af3-a8eb-4085-a2c1-3e0e76999975 button');\n",
              "      quickchartButtonEl.style.display =\n",
              "        google.colab.kernel.accessAllowed ? 'block' : 'none';\n",
              "    })();\n",
              "  </script>\n",
              "</div>\n",
              "    </div>\n",
              "  </div>\n"
            ]
          },
          "metadata": {},
          "execution_count": 61
        }
      ],
      "source": [
        "metrics.head()"
      ]
    },
    {
      "cell_type": "code",
      "execution_count": 62,
      "metadata": {
        "colab": {
          "base_uri": "https://localhost:8080/",
          "height": 452
        },
        "id": "LxuwwyBsRfbM",
        "outputId": "a9d10a26-de4d-4d08-b78a-075247f3cfd4"
      },
      "outputs": [
        {
          "output_type": "execute_result",
          "data": {
            "text/plain": [
              "<Axes: >"
            ]
          },
          "metadata": {},
          "execution_count": 62
        },
        {
          "output_type": "display_data",
          "data": {
            "text/plain": [
              "<Figure size 640x480 with 1 Axes>"
            ],
            "image/png": "[encoded data removed]"
          },
          "metadata": {}
        }
      ],
      "source": [
        "metrics[['accuracy','val_accuracy']].plot()"
      ]
    },
    {
      "cell_type": "code",
      "execution_count": 63,
      "metadata": {
        "colab": {
          "base_uri": "https://localhost:8080/",
          "height": 448
        },
        "id": "jVxfa3AjCdC6",
        "outputId": "06f5a3a4-4cd3-4018-9d22-92cb67059efe"
      },
      "outputs": [
        {
          "output_type": "execute_result",
          "data": {
            "text/plain": [
              "<Axes: >"
            ]
          },
          "metadata": {},
          "execution_count": 63
        },
        {
          "output_type": "display_data",
          "data": {
            "text/plain": [
              "<Figure size 640x480 with 1 Axes>"
            ],
            "image/png": "[encoded data removed]"
          },
          "metadata": {}
        }
      ],
      "source": [
        "metrics[['loss','val_loss']].plot()"
      ]
    },
    {
      "cell_type": "code",
      "execution_count": null,
      "metadata": {
        "id": "e3JPiqIff6xx"
      },
      "outputs": [],
      "source": []
    },
    {
      "cell_type": "code",
      "execution_count": 64,
      "metadata": {
        "colab": {
          "base_uri": "https://localhost:8080/"
        },
        "id": "Xj5YxQEaIHq4",
        "outputId": "6a2967e9-0df9-44a1-b742-a9976de84eac"
      },
      "outputs": [
        {
          "output_type": "stream",
          "name": "stdout",
          "text": [
            "91/91 [==============================] - 0s 1ms/step\n"
          ]
        }
      ],
      "source": [
        "# Sequential predict_classes function is deprecated\n",
        "# predictions = ai_brain.predict_classes(X_test)\n",
        "x_test_predictions = np.argmax(ai_brain.predict(X_test_scaled), axis=1)"
      ]
    },
    {
      "cell_type": "code",
      "execution_count": 65,
      "metadata": {
        "colab": {
          "base_uri": "https://localhost:8080/"
        },
        "id": "XdilP28rHCvQ",
        "outputId": "80814ed1-4e50-476a-89c1-f61006e9e0d5"
      },
      "outputs": [
        {
          "output_type": "execute_result",
          "data": {
            "text/plain": [
              "(2911,)"
            ]
          },
          "metadata": {},
          "execution_count": 65
        }
      ],
      "source": [
        "x_test_predictions.shape"
      ]
    },
    {
      "cell_type": "code",
      "execution_count": 66,
      "metadata": {
        "id": "0vr_nvseHEyw"
      },
      "outputs": [],
      "source": [
        "y_test_truevalue = np.argmax(y_test,axis=1)"
      ]
    },
    {
      "cell_type": "code",
      "execution_count": 67,
      "metadata": {
        "colab": {
          "base_uri": "https://localhost:8080/"
        },
        "id": "HUQG_Ig3HHeh",
        "outputId": "110c53c7-ec81-4c36-d8ef-1896481723d8"
      },
      "outputs": [
        {
          "output_type": "execute_result",
          "data": {
            "text/plain": [
              "(2911,)"
            ]
          },
          "metadata": {},
          "execution_count": 67
        }
      ],
      "source": [
        "y_test_truevalue.shape"
      ]
    },
    {
      "cell_type": "code",
      "execution_count": 68,
      "metadata": {
        "colab": {
          "base_uri": "https://localhost:8080/"
        },
        "id": "OwWh0Yz0PlHH",
        "outputId": "b17397e4-8170-4b81-ede0-128a8ec73a23"
      },
      "outputs": [
        {
          "output_type": "stream",
          "name": "stdout",
          "text": [
            "[[400  91 109 157]\n",
            " [246 133 211  96]\n",
            " [142  94 359  91]\n",
            " [219  46  53 464]]\n"
          ]
        }
      ],
      "source": [
        "print(confusion_matrix(y_test_truevalue,x_test_predictions))"
      ]
    },
    {
      "cell_type": "code",
      "execution_count": 69,
      "metadata": {
        "colab": {
          "base_uri": "https://localhost:8080/"
        },
        "id": "Pv4c-JT1IR-o",
        "outputId": "6b328eeb-d981-4d9b-dd65-a0b590b5dc2d"
      },
      "outputs": [
        {
          "output_type": "stream",
          "name": "stdout",
          "text": [
            "              precision    recall  f1-score   support\n",
            "\n",
            "           0       0.40      0.53      0.45       757\n",
            "           1       0.37      0.19      0.25       686\n",
            "           2       0.49      0.52      0.51       686\n",
            "           3       0.57      0.59      0.58       782\n",
            "\n",
            "    accuracy                           0.47      2911\n",
            "   macro avg       0.46      0.46      0.45      2911\n",
            "weighted avg       0.46      0.47      0.45      2911\n",
            "\n"
          ]
        }
      ],
      "source": [
        "print(classification_report(y_test_truevalue,x_test_predictions))"
      ]
    },
    {
      "cell_type": "code",
      "execution_count": 70,
      "metadata": {
        "id": "bXg_g_BiIlrQ"
      },
      "outputs": [],
      "source": [
        "# Saving the Model\n",
        "ai_brain.save('customer_classification_model.h5')"
      ]
    },
    {
      "cell_type": "code",
      "execution_count": 71,
      "metadata": {
        "id": "KgVwUoISzhax"
      },
      "outputs": [],
      "source": [
        "# Saving the data\n",
        "with open('customer_data.pickle', 'wb') as fh:\n",
        "   pickle.dump([X_train_scaled,y_train,X_test_scaled,y_test,customers_1,customer_df_cleaned,scaler_age,enc,one_hot_enc,le], fh)"
      ]
    },
    {
      "cell_type": "code",
      "execution_count": 72,
      "metadata": {
        "id": "vxLeVT3Jzj0q"
      },
      "outputs": [],
      "source": [
        "# Loading the Model\n",
        "ai_brain = load_model('customer_classification_model.h5')"
      ]
    },
    {
      "cell_type": "code",
      "execution_count": 73,
      "metadata": {
        "id": "REKos33xzlNo"
      },
      "outputs": [],
      "source": [
        "# Loading the data\n",
        "with open('customer_data.pickle', 'rb') as fh:\n",
        "   [X_train_scaled,y_train,X_test_scaled,y_test,customers_1,customer_df_cleaned,scaler_age,enc,one_hot_enc,le]=pickle.load(fh)"
      ]
    },
    {
      "cell_type": "markdown",
      "metadata": {
        "id": "FEQ8rhOO1fqc"
      },
      "source": [
        "# Prediction for a single input"
      ]
    },
    {
      "cell_type": "code",
      "execution_count": 74,
      "metadata": {
        "colab": {
          "base_uri": "https://localhost:8080/"
        },
        "id": "EvoVhV1V1pnP",
        "outputId": "68810e26-141e-4b96-801b-51795ee30217"
      },
      "outputs": [
        {
          "output_type": "stream",
          "name": "stdout",
          "text": [
            "1/1 [==============================] - 0s 58ms/step\n"
          ]
        }
      ],
      "source": [
        "x_single_prediction = np.argmax(ai_brain.predict(X_test_scaled[1:2,:]), axis=1)"
      ]
    },
    {
      "cell_type": "code",
      "execution_count": 75,
      "metadata": {
        "colab": {
          "base_uri": "https://localhost:8080/"
        },
        "id": "-qUTW8Y_10MI",
        "outputId": "c404be3b-9b5b-467f-ae97-2bc55936c331"
      },
      "outputs": [
        {
          "output_type": "stream",
          "name": "stdout",
          "text": [
            "[2]\n"
          ]
        }
      ],
      "source": [
        "print(x_single_prediction)"
      ]
    },
    {
      "cell_type": "code",
      "execution_count": 76,
      "metadata": {
        "colab": {
          "base_uri": "https://localhost:8080/"
        },
        "id": "i94QJpU411-I",
        "outputId": "314293b6-36cf-48bd-9c18-d8ca223e2380"
      },
      "outputs": [
        {
          "output_type": "stream",
          "name": "stdout",
          "text": [
            "['C']\n"
          ]
        }
      ],
      "source": [
        "print(le.inverse_transform(x_single_prediction))"
      ]
    }
  ],
  "metadata": {
    "colab": {
      "provenance": []
    },
    "kernelspec": {
      "display_name": "Python 3",
      "name": "python3"
    },
    "language_info": {
      "name": "python"
    }
  },
  "nbformat": 4,
  "nbformat_minor": 0
}