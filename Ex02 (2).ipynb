{
  "cells": [
    {
      "cell_type": "code",
      "execution_count": null,
      "metadata": {
        "id": "bJ3XTElRk8sG"
      },
      "outputs": [],
      "source": [
        "import pandas as pd\n",
        "from sklearn.model_selection import train_test_split\n",
        "from tensorflow.keras.models import Sequential\n",
        "from tensorflow.keras.models import load_model\n",
        "import pickle\n",
        "from tensorflow.keras.layers import Dense\n",
        "from tensorflow.keras.layers import Dropout\n",
        "from tensorflow.keras.layers import BatchNormalization\n",
        "import tensorflow as tf\n",
        "import seaborn as sns\n",
        "from tensorflow.keras.callbacks import EarlyStopping\n",
        "from sklearn.preprocessing import MinMaxScaler\n",
        "from sklearn.preprocessing import LabelEncoder\n",
        "from sklearn.preprocessing import OneHotEncoder\n",
        "from sklearn.preprocessing import OrdinalEncoder\n",
        "from sklearn.metrics import classification_report,confusion_matrix\n",
        "import numpy as np\n",
        "import matplotlib.pylab as plt"
      ]
    },
    {
      "cell_type": "code",
      "execution_count": null,
      "metadata": {
        "id": "ZNjUGCzqk_XM"
      },
      "outputs": [],
      "source": [
        "customer_df = pd.read_csv('customers.csv')"
      ]
    },
    {
      "cell_type": "markdown",
      "metadata": {
        "id": "bNBGQ7ugpQg6"
      },
      "source": [
        "An automobile company has plans to enter new markets with their existing products. After intensive market research, they’ve decided that the behavior of the new market is similar to their existing market.\n",
        "\n",
        "In their existing market, the sales team has classified all customers into 4 segments (A, B, C, D ). Then, they performed segmented outreach and communication for a different segment of customers. This strategy has work exceptionally well for them. They plan to use the same strategy for the new markets.\n",
        "\n",
        "You are required to help the manager to predict the right group of the new customers."
      ]
    },
    {
      "cell_type": "markdown",
      "metadata": {
        "id": "0yKzMCfonnyH"
      },
      "source": [
        "## Data Exploration"
      ]
    },
    {
      "cell_type": "code",
      "execution_count": null,
      "metadata": {
        "colab": {
          "base_uri": "https://localhost:8080/"
        },
        "id": "TPZNqbLDl24D",
        "outputId": "abfe938d-c2d9-4cdc-9224-f8abfe482baa"
      },
      "outputs": [
        {
          "data": {
            "text/plain": [
              "Index(['ID', 'Gender', 'Ever_Married', 'Age', 'Graduated', 'Profession',\n",
              "       'Work_Experience', 'Spending_Score', 'Family_Size', 'Var_1',\n",
              "       'Segmentation'],\n",
              "      dtype='object')"
            ]
          },
          "execution_count": 4,
          "metadata": {},
          "output_type": "execute_result"
        }
      ],
      "source": [
        "customer_df.columns"
      ]
    },
    {
      "cell_type": "code",
      "execution_count": null,
      "metadata": {
        "colab": {
          "base_uri": "https://localhost:8080/"
        },
        "id": "mjTGOx5xmU2l",
        "outputId": "f99456b9-09ae-41a1-b53f-107e9174823d"
      },
      "outputs": [
        {
          "data": {
            "text/plain": [
              "ID                   int64\n",
              "Gender              object\n",
              "Ever_Married        object\n",
              "Age                  int64\n",
              "Graduated           object\n",
              "Profession          object\n",
              "Work_Experience    float64\n",
              "Spending_Score      object\n",
              "Family_Size        float64\n",
              "Var_1               object\n",
              "Segmentation        object\n",
              "dtype: object"
            ]
          },
          "execution_count": 5,
          "metadata": {},
          "output_type": "execute_result"
        }
      ],
      "source": [
        "customer_df.dtypes"
      ]
    },
    {
      "cell_type": "code",
      "execution_count": null,
      "metadata": {
        "colab": {
          "base_uri": "https://localhost:8080/"
        },
        "id": "9KjcGQXqmxE1",
        "outputId": "011637ef-9d2d-438b-ce18-8b9a7ebc5252"
      },
      "outputs": [
        {
          "data": {
            "text/plain": [
              "(10695, 11)"
            ]
          },
          "execution_count": 6,
          "metadata": {},
          "output_type": "execute_result"
        }
      ],
      "source": [
        "customer_df.shape"
      ]
    },
    {
      "cell_type": "code",
      "execution_count": null,
      "metadata": {
        "colab": {
          "base_uri": "https://localhost:8080/"
        },
        "id": "DJlcuOP5mdkV",
        "outputId": "b74bc12e-c5b9-46cc-b5fe-857f11b3e86f"
      },
      "outputs": [
        {
          "data": {
            "text/plain": [
              "ID                    0\n",
              "Gender                0\n",
              "Ever_Married        190\n",
              "Age                   0\n",
              "Graduated           102\n",
              "Profession          162\n",
              "Work_Experience    1098\n",
              "Spending_Score        0\n",
              "Family_Size         448\n",
              "Var_1               108\n",
              "Segmentation          0\n",
              "dtype: int64"
            ]
          },
          "execution_count": 7,
          "metadata": {},
          "output_type": "execute_result"
        }
      ],
      "source": [
        "customer_df.isnull().sum()"
      ]
    },
    {
      "cell_type": "code",
      "execution_count": null,
      "metadata": {
        "id": "wRXZpLG8oGeE"
      },
      "outputs": [],
      "source": [
        "customer_df_cleaned = customer_df.dropna(axis=0)"
      ]
    },
    {
      "cell_type": "code",
      "execution_count": null,
      "metadata": {
        "colab": {
          "base_uri": "https://localhost:8080/"
        },
        "id": "2ril3hqdoVvU",
        "outputId": "c31e0b1d-259e-480a-ea8f-69add1b6e977"
      },
      "outputs": [
        {
          "data": {
            "text/plain": [
              "ID                 0\n",
              "Gender             0\n",
              "Ever_Married       0\n",
              "Age                0\n",
              "Graduated          0\n",
              "Profession         0\n",
              "Work_Experience    0\n",
              "Spending_Score     0\n",
              "Family_Size        0\n",
              "Var_1              0\n",
              "Segmentation       0\n",
              "dtype: int64"
            ]
          },
          "execution_count": 9,
          "metadata": {},
          "output_type": "execute_result"
        }
      ],
      "source": [
        "customer_df_cleaned.isnull().sum()"
      ]
    },
    {
      "cell_type": "code",
      "execution_count": null,
      "metadata": {
        "colab": {
          "base_uri": "https://localhost:8080/"
        },
        "id": "f91V-qAhobdk",
        "outputId": "b90d64c7-1e21-47b9-b6d9-3da843b5730f"
      },
      "outputs": [
        {
          "data": {
            "text/plain": [
              "(8819, 11)"
            ]
          },
          "execution_count": 14,
          "metadata": {},
          "output_type": "execute_result"
        }
      ],
      "source": [
        "customer_df_cleaned.shape"
      ]
    },
    {
      "cell_type": "code",
      "execution_count": null,
      "metadata": {
        "colab": {
          "base_uri": "https://localhost:8080/"
        },
        "id": "t8OPwyF_r2d1",
        "outputId": "15d29cbe-3082-4947-ffc5-56498101cdc5"
      },
      "outputs": [
        {
          "data": {
            "text/plain": [
              "ID                   int64\n",
              "Gender              object\n",
              "Ever_Married        object\n",
              "Age                  int64\n",
              "Graduated           object\n",
              "Profession          object\n",
              "Work_Experience    float64\n",
              "Spending_Score      object\n",
              "Family_Size        float64\n",
              "Var_1               object\n",
              "Segmentation        object\n",
              "dtype: object"
            ]
          },
          "execution_count": 11,
          "metadata": {},
          "output_type": "execute_result"
        }
      ],
      "source": [
        "customer_df_cleaned.dtypes"
      ]
    },
    {
      "cell_type": "code",
      "execution_count": null,
      "metadata": {
        "colab": {
          "base_uri": "https://localhost:8080/"
        },
        "id": "bM6v8-mAzUkr",
        "outputId": "fc4f485e-74bc-4e6e-c64f-5ff1bd58b143"
      },
      "outputs": [
        {
          "data": {
            "text/plain": [
              "array(['Male', 'Female'], dtype=object)"
            ]
          },
          "execution_count": 12,
          "metadata": {},
          "output_type": "execute_result"
        }
      ],
      "source": [
        "customer_df_cleaned['Gender'].unique()"
      ]
    },
    {
      "cell_type": "code",
      "execution_count": null,
      "metadata": {
        "colab": {
          "base_uri": "https://localhost:8080/"
        },
        "id": "YBgUthpJymO0",
        "outputId": "622c0585-dea5-4502-88cb-1dbff4d59025"
      },
      "outputs": [
        {
          "data": {
            "text/plain": [
              "array(['No', 'Yes'], dtype=object)"
            ]
          },
          "execution_count": 13,
          "metadata": {},
          "output_type": "execute_result"
        }
      ],
      "source": [
        "customer_df_cleaned['Ever_Married'].unique()"
      ]
    },
    {
      "cell_type": "code",
      "execution_count": null,
      "metadata": {
        "colab": {
          "base_uri": "https://localhost:8080/"
        },
        "id": "SMHVOK5izC3C",
        "outputId": "3ffa2e28-4ad2-4a82-b832-83e87c360f77"
      },
      "outputs": [
        {
          "data": {
            "text/plain": [
              "array(['No', 'Yes'], dtype=object)"
            ]
          },
          "execution_count": 15,
          "metadata": {},
          "output_type": "execute_result"
        }
      ],
      "source": [
        "customer_df_cleaned['Graduated'].unique()"
      ]
    },
    {
      "cell_type": "code",
      "execution_count": null,
      "metadata": {
        "colab": {
          "base_uri": "https://localhost:8080/"
        },
        "id": "Heyh0f-8zc1b",
        "outputId": "dd9fa486-b045-4564-e99e-e8f75065c7c8"
      },
      "outputs": [
        {
          "data": {
            "text/plain": [
              "array(['Healthcare', 'Engineer', 'Lawyer', 'Artist', 'Doctor',\n",
              "       'Homemaker', 'Entertainment', 'Marketing', 'Executive'],\n",
              "      dtype=object)"
            ]
          },
          "execution_count": 16,
          "metadata": {},
          "output_type": "execute_result"
        }
      ],
      "source": [
        "customer_df_cleaned['Profession'].unique()"
      ]
    },
    {
      "cell_type": "code",
      "execution_count": null,
      "metadata": {
        "colab": {
          "base_uri": "https://localhost:8080/"
        },
        "id": "jOgI3AvCzxLU",
        "outputId": "7947662b-5695-45b2-d3bd-dff6b5095fee"
      },
      "outputs": [
        {
          "data": {
            "text/plain": [
              "array(['Low', 'High', 'Average'], dtype=object)"
            ]
          },
          "execution_count": 17,
          "metadata": {},
          "output_type": "execute_result"
        }
      ],
      "source": [
        "customer_df_cleaned['Spending_Score'].unique()"
      ]
    },
    {
      "cell_type": "code",
      "execution_count": null,
      "metadata": {
        "colab": {
          "base_uri": "https://localhost:8080/"
        },
        "id": "RFXw-Bp30F0j",
        "outputId": "114c3891-5541-4f86-80fa-dc85ba81ef0d"
      },
      "outputs": [
        {
          "data": {
            "text/plain": [
              "array(['Cat_4', 'Cat_6', 'Cat_7', 'Cat_3', 'Cat_1', 'Cat_2', 'Cat_5'],\n",
              "      dtype=object)"
            ]
          },
          "execution_count": 18,
          "metadata": {},
          "output_type": "execute_result"
        }
      ],
      "source": [
        "customer_df_cleaned['Var_1'].unique()"
      ]
    },
    {
      "cell_type": "code",
      "execution_count": null,
      "metadata": {
        "colab": {
          "base_uri": "https://localhost:8080/"
        },
        "id": "QgyBx2_B0QPb",
        "outputId": "a4a04a80-c5a8-45cf-c4f5-af877ca9105d"
      },
      "outputs": [
        {
          "data": {
            "text/plain": [
              "array(['D', 'B', 'C', 'A'], dtype=object)"
            ]
          },
          "execution_count": 19,
          "metadata": {},
          "output_type": "execute_result"
        }
      ],
      "source": [
        "customer_df_cleaned['Segmentation'].unique()"
      ]
    },
    {
      "cell_type": "code",
      "execution_count": null,
      "metadata": {
        "id": "CxbYbHFj0a0E"
      },
      "outputs": [],
      "source": [
        "categories_list=[['Male', 'Female'],\n",
        "           ['No', 'Yes'],\n",
        "           ['No', 'Yes'],\n",
        "           ['Healthcare', 'Engineer', 'Lawyer', 'Artist', 'Doctor',\n",
        "            'Homemaker', 'Entertainment', 'Marketing', 'Executive'],\n",
        "           ['Low', 'Average', 'High']\n",
        "           ]\n",
        "enc = OrdinalEncoder(categories=categories_list)"
      ]
    },
    {
      "cell_type": "code",
      "execution_count": null,
      "metadata": {
        "id": "1uNtCwbW2A_s"
      },
      "outputs": [],
      "source": [
        "customers_1 = customer_df_cleaned.copy()"
      ]
    },
    {
      "cell_type": "code",
      "execution_count": null,
      "metadata": {
        "id": "rS9lezKn1PTk"
      },
      "outputs": [],
      "source": [
        "customers_1[['Gender',\n",
        "             'Ever_Married',\n",
        "              'Graduated','Profession',\n",
        "              'Spending_Score']] = enc.fit_transform(customers_1[['Gender',\n",
        "                                                                 'Ever_Married',\n",
        "                                                                 'Graduated','Profession',\n",
        "                                                                 'Spending_Score']])"
      ]
    },
    {
      "cell_type": "code",
      "execution_count": null,
      "metadata": {
        "colab": {
          "base_uri": "https://localhost:8080/"
        },
        "id": "YMyqmQXy4dWM",
        "outputId": "f0d5c18c-4a31-4420-bf4e-fba661d915a3"
      },
      "outputs": [
        {
          "data": {
            "text/plain": [
              "ID                   int64\n",
              "Gender             float64\n",
              "Ever_Married       float64\n",
              "Age                  int64\n",
              "Graduated          float64\n",
              "Profession         float64\n",
              "Work_Experience    float64\n",
              "Spending_Score     float64\n",
              "Family_Size        float64\n",
              "Var_1               object\n",
              "Segmentation        object\n",
              "dtype: object"
            ]
          },
          "execution_count": 23,
          "metadata": {},
          "output_type": "execute_result"
        }
      ],
      "source": [
        "customers_1.dtypes"
      ]
    },
    {
      "cell_type": "code",
      "execution_count": null,
      "metadata": {
        "id": "8q4w0B--9Hts"
      },
      "outputs": [],
      "source": [
        "le = LabelEncoder()"
      ]
    },
    {
      "cell_type": "code",
      "execution_count": null,
      "metadata": {
        "id": "jJVTD6pY9PUr"
      },
      "outputs": [],
      "source": [
        "customers_1['Segmentation'] = le.fit_transform(customers_1['Segmentation'])"
      ]
    },
    {
      "cell_type": "code",
      "execution_count": null,
      "metadata": {
        "colab": {
          "base_uri": "https://localhost:8080/"
        },
        "id": "Uewr-HwX-B0M",
        "outputId": "82f60ffa-d083-4c36-bbb8-6a124c9adeab"
      },
      "outputs": [
        {
          "data": {
            "text/plain": [
              "ID                   int64\n",
              "Gender             float64\n",
              "Ever_Married       float64\n",
              "Age                  int64\n",
              "Graduated          float64\n",
              "Profession         float64\n",
              "Work_Experience    float64\n",
              "Spending_Score     float64\n",
              "Family_Size        float64\n",
              "Var_1               object\n",
              "Segmentation         int64\n",
              "dtype: object"
            ]
          },
          "execution_count": 26,
          "metadata": {},
          "output_type": "execute_result"
        }
      ],
      "source": [
        "customers_1.dtypes"
      ]
    },
    {
      "cell_type": "code",
      "execution_count": null,
      "metadata": {
        "id": "Lu6OsQLU8zRb"
      },
      "outputs": [],
      "source": [
        "customers_1 = customers_1.drop('ID',axis=1)\n",
        "customers_1 = customers_1.drop('Var_1',axis=1)"
      ]
    },
    {
      "cell_type": "code",
      "execution_count": null,
      "metadata": {
        "colab": {
          "base_uri": "https://localhost:8080/"
        },
        "id": "dXf-gjsf-ZAk",
        "outputId": "dad5eeaa-b3c9-4243-93e9-8a8c16deb4a3"
      },
      "outputs": [
        {
          "data": {
            "text/plain": [
              "Gender             float64\n",
              "Ever_Married       float64\n",
              "Age                  int64\n",
              "Graduated          float64\n",
              "Profession         float64\n",
              "Work_Experience    float64\n",
              "Spending_Score     float64\n",
              "Family_Size        float64\n",
              "Segmentation         int64\n",
              "dtype: object"
            ]
          },
          "execution_count": 28,
          "metadata": {},
          "output_type": "execute_result"
        }
      ],
      "source": [
        "customers_1.dtypes"
      ]
    },
    {
      "cell_type": "code",
      "execution_count": null,
      "metadata": {
        "colab": {
          "base_uri": "https://localhost:8080/"
        },
        "id": "QuUeD6ch_Wfs",
        "outputId": "21c58dca-dec4-45f0-fcd3-5f2a347d4a96"
      },
      "outputs": [
        {
          "data": {
            "text/plain": [
              "array([3, 1, 2, 0])"
            ]
          },
          "execution_count": 29,
          "metadata": {},
          "output_type": "execute_result"
        }
      ],
      "source": [
        "customers_1['Segmentation'].unique()"
      ]
    },
    {
      "cell_type": "code",
      "execution_count": null,
      "metadata": {
        "id": "-J_YjTMJvtD8"
      },
      "outputs": [],
      "source": [
        "X=customers_1[['Gender','Ever_Married','Age','Graduated','Profession','Work_Experience','Spending_Score','Family_Size']].values"
      ]
    },
    {
      "cell_type": "code",
      "execution_count": null,
      "metadata": {
        "id": "ocTtyqEuvvBc"
      },
      "outputs": [],
      "source": [
        "y1 = customers_1[['Segmentation']].values"
      ]
    },
    {
      "cell_type": "code",
      "execution_count": null,
      "metadata": {
        "id": "pJ3_LQvWtpLV"
      },
      "outputs": [],
      "source": [
        "one_hot_enc = OneHotEncoder()"
      ]
    },
    {
      "cell_type": "code",
      "execution_count": null,
      "metadata": {
        "colab": {
          "base_uri": "https://localhost:8080/",
          "height": 74
        },
        "id": "g7liKwW6tsaU",
        "outputId": "6fe89b84-e6f4-4ffa-c1e5-135a16cecc18"
      },
      "outputs": [
        {
          "data": {
            "text/html": [
              "<style>#sk-container-id-1 {color: black;background-color: white;}#sk-container-id-1 pre{padding: 0;}#sk-container-id-1 div.sk-toggleable {background-color: white;}#sk-container-id-1 label.sk-toggleable__label {cursor: pointer;display: block;width: 100%;margin-bottom: 0;padding: 0.3em;box-sizing: border-box;text-align: center;}#sk-container-id-1 label.sk-toggleable__label-arrow:before {content: \"▸\";float: left;margin-right: 0.25em;color: #696969;}#sk-container-id-1 label.sk-toggleable__label-arrow:hover:before {color: black;}#sk-container-id-1 div.sk-estimator:hover label.sk-toggleable__label-arrow:before {color: black;}#sk-container-id-1 div.sk-toggleable__content {max-height: 0;max-width: 0;overflow: hidden;text-align: left;background-color: #f0f8ff;}#sk-container-id-1 div.sk-toggleable__content pre {margin: 0.2em;color: black;border-radius: 0.25em;background-color: #f0f8ff;}#sk-container-id-1 input.sk-toggleable__control:checked~div.sk-toggleable__content {max-height: 200px;max-width: 100%;overflow: auto;}#sk-container-id-1 input.sk-toggleable__control:checked~label.sk-toggleable__label-arrow:before {content: \"▾\";}#sk-container-id-1 div.sk-estimator input.sk-toggleable__control:checked~label.sk-toggleable__label {background-color: #d4ebff;}#sk-container-id-1 div.sk-label input.sk-toggleable__control:checked~label.sk-toggleable__label {background-color: #d4ebff;}#sk-container-id-1 input.sk-hidden--visually {border: 0;clip: rect(1px 1px 1px 1px);clip: rect(1px, 1px, 1px, 1px);height: 1px;margin: -1px;overflow: hidden;padding: 0;position: absolute;width: 1px;}#sk-container-id-1 div.sk-estimator {font-family: monospace;background-color: #f0f8ff;border: 1px dotted black;border-radius: 0.25em;box-sizing: border-box;margin-bottom: 0.5em;}#sk-container-id-1 div.sk-estimator:hover {background-color: #d4ebff;}#sk-container-id-1 div.sk-parallel-item::after {content: \"\";width: 100%;border-bottom: 1px solid gray;flex-grow: 1;}#sk-container-id-1 div.sk-label:hover label.sk-toggleable__label {background-color: #d4ebff;}#sk-container-id-1 div.sk-serial::before {content: \"\";position: absolute;border-left: 1px solid gray;box-sizing: border-box;top: 0;bottom: 0;left: 50%;z-index: 0;}#sk-container-id-1 div.sk-serial {display: flex;flex-direction: column;align-items: center;background-color: white;padding-right: 0.2em;padding-left: 0.2em;position: relative;}#sk-container-id-1 div.sk-item {position: relative;z-index: 1;}#sk-container-id-1 div.sk-parallel {display: flex;align-items: stretch;justify-content: center;background-color: white;position: relative;}#sk-container-id-1 div.sk-item::before, #sk-container-id-1 div.sk-parallel-item::before {content: \"\";position: absolute;border-left: 1px solid gray;box-sizing: border-box;top: 0;bottom: 0;left: 50%;z-index: -1;}#sk-container-id-1 div.sk-parallel-item {display: flex;flex-direction: column;z-index: 1;position: relative;background-color: white;}#sk-container-id-1 div.sk-parallel-item:first-child::after {align-self: flex-end;width: 50%;}#sk-container-id-1 div.sk-parallel-item:last-child::after {align-self: flex-start;width: 50%;}#sk-container-id-1 div.sk-parallel-item:only-child::after {width: 0;}#sk-container-id-1 div.sk-dashed-wrapped {border: 1px dashed gray;margin: 0 0.4em 0.5em 0.4em;box-sizing: border-box;padding-bottom: 0.4em;background-color: white;}#sk-container-id-1 div.sk-label label {font-family: monospace;font-weight: bold;display: inline-block;line-height: 1.2em;}#sk-container-id-1 div.sk-label-container {text-align: center;}#sk-container-id-1 div.sk-container {/* jupyter's `normalize.less` sets `[hidden] { display: none; }` but bootstrap.min.css set `[hidden] { display: none !important; }` so we also need the `!important` here to be able to override the default hidden behavior on the sphinx rendered scikit-learn.org. See: https://github.com/scikit-learn/scikit-learn/issues/21755 */display: inline-block !important;position: relative;}#sk-container-id-1 div.sk-text-repr-fallback {display: none;}</style><div id=\"sk-container-id-1\" class=\"sk-top-container\"><div class=\"sk-text-repr-fallback\"><pre>OneHotEncoder()</pre><b>In a Jupyter environment, please rerun this cell to show the HTML representation or trust the notebook. <br />On GitHub, the HTML representation is unable to render, please try loading this page with nbviewer.org.</b></div><div class=\"sk-container\" hidden><div class=\"sk-item\"><div class=\"sk-estimator sk-toggleable\"><input class=\"sk-toggleable__control sk-hidden--visually\" id=\"sk-estimator-id-1\" type=\"checkbox\" checked><label for=\"sk-estimator-id-1\" class=\"sk-toggleable__label sk-toggleable__label-arrow\">OneHotEncoder</label><div class=\"sk-toggleable__content\"><pre>OneHotEncoder()</pre></div></div></div></div></div>"
            ],
            "text/plain": [
              "OneHotEncoder()"
            ]
          },
          "execution_count": 33,
          "metadata": {},
          "output_type": "execute_result"
        }
      ],
      "source": [
        "one_hot_enc.fit(y1)"
      ]
    },
    {
      "cell_type": "code",
      "execution_count": null,
      "metadata": {
        "colab": {
          "base_uri": "https://localhost:8080/"
        },
        "id": "e9NIce00wWZ0",
        "outputId": "7e6b9263-b291-407f-bd5e-6910f19d81e9"
      },
      "outputs": [
        {
          "data": {
            "text/plain": [
              "(8819, 1)"
            ]
          },
          "execution_count": 34,
          "metadata": {},
          "output_type": "execute_result"
        }
      ],
      "source": [
        "y1.shape"
      ]
    },
    {
      "cell_type": "code",
      "execution_count": null,
      "metadata": {
        "id": "3JZs07XuwJ0E"
      },
      "outputs": [],
      "source": [
        "y = one_hot_enc.transform(y1).toarray()"
      ]
    },
    {
      "cell_type": "code",
      "execution_count": null,
      "metadata": {
        "colab": {
          "base_uri": "https://localhost:8080/"
        },
        "id": "fXOd9Lw5vPA0",
        "outputId": "01265f19-a9f8-4799-e38b-b5c51f0b9786"
      },
      "outputs": [
        {
          "data": {
            "text/plain": [
              "(8819, 4)"
            ]
          },
          "execution_count": 36,
          "metadata": {},
          "output_type": "execute_result"
        }
      ],
      "source": [
        "y.shape"
      ]
    },
    {
      "cell_type": "code",
      "execution_count": null,
      "metadata": {
        "colab": {
          "base_uri": "https://localhost:8080/"
        },
        "id": "swTRKef2wkCj",
        "outputId": "1d241f3d-a54f-4361-8870-569481423f79"
      },
      "outputs": [
        {
          "data": {
            "text/plain": [
              "array([3])"
            ]
          },
          "execution_count": 37,
          "metadata": {},
          "output_type": "execute_result"
        }
      ],
      "source": [
        "y1[0]"
      ]
    },
    {
      "cell_type": "code",
      "execution_count": null,
      "metadata": {
        "colab": {
          "base_uri": "https://localhost:8080/"
        },
        "id": "fJp7ZZBjwmZD",
        "outputId": "468297ee-da88-495b-f460-078d0eae9397"
      },
      "outputs": [
        {
          "data": {
            "text/plain": [
              "array([0., 0., 0., 1.])"
            ]
          },
          "execution_count": 38,
          "metadata": {},
          "output_type": "execute_result"
        }
      ],
      "source": [
        "y[0]"
      ]
    },
    {
      "cell_type": "code",
      "execution_count": null,
      "metadata": {
        "colab": {
          "base_uri": "https://localhost:8080/"
        },
        "id": "KahHZCLk9s1T",
        "outputId": "3303e49a-b485-4c1a-c8ba-377f414cbbd0"
      },
      "outputs": [
        {
          "data": {
            "text/plain": [
              "(8819, 8)"
            ]
          },
          "execution_count": 39,
          "metadata": {},
          "output_type": "execute_result"
        }
      ],
      "source": [
        "X.shape"
      ]
    },
    {
      "cell_type": "code",
      "execution_count": null,
      "metadata": {
        "id": "rbfaV9m5AcFj"
      },
      "outputs": [],
      "source": [
        "X_train,X_test,y_train,y_test=train_test_split(X,y,\n",
        "                                               test_size=0.33,\n",
        "                                               random_state=50)"
      ]
    },
    {
      "cell_type": "code",
      "execution_count": null,
      "metadata": {
        "colab": {
          "base_uri": "https://localhost:8080/"
        },
        "id": "2_QLZBaIbauo",
        "outputId": "d1d894d6-3aea-4726-9f2a-92cecae50f6b"
      },
      "outputs": [
        {
          "data": {
            "text/plain": [
              "array([ 1.,  1., 85.,  0.,  2.,  0.,  0.,  1.])"
            ]
          },
          "execution_count": 41,
          "metadata": {},
          "output_type": "execute_result"
        }
      ],
      "source": [
        "X_train[0]"
      ]
    },
    {
      "cell_type": "code",
      "execution_count": null,
      "metadata": {
        "colab": {
          "base_uri": "https://localhost:8080/"
        },
        "id": "OIPWUbXvbmwV",
        "outputId": "c5737290-535a-4b5d-f902-b078e9521d62"
      },
      "outputs": [
        {
          "data": {
            "text/plain": [
              "(5908, 8)"
            ]
          },
          "execution_count": 42,
          "metadata": {},
          "output_type": "execute_result"
        }
      ],
      "source": [
        "X_train.shape"
      ]
    },
    {
      "cell_type": "code",
      "execution_count": null,
      "metadata": {
        "id": "Mmjt0F9PaVfg"
      },
      "outputs": [],
      "source": [
        "scaler_age = MinMaxScaler()"
      ]
    },
    {
      "cell_type": "code",
      "execution_count": null,
      "metadata": {
        "colab": {
          "base_uri": "https://localhost:8080/",
          "height": 74
        },
        "id": "SsN7WvXbafRg",
        "outputId": "e3bbce8d-1a3b-40d3-f032-4acce8dd1ca9"
      },
      "outputs": [
        {
          "data": {
            "text/html": [
              "<style>#sk-container-id-2 {color: black;background-color: white;}#sk-container-id-2 pre{padding: 0;}#sk-container-id-2 div.sk-toggleable {background-color: white;}#sk-container-id-2 label.sk-toggleable__label {cursor: pointer;display: block;width: 100%;margin-bottom: 0;padding: 0.3em;box-sizing: border-box;text-align: center;}#sk-container-id-2 label.sk-toggleable__label-arrow:before {content: \"▸\";float: left;margin-right: 0.25em;color: #696969;}#sk-container-id-2 label.sk-toggleable__label-arrow:hover:before {color: black;}#sk-container-id-2 div.sk-estimator:hover label.sk-toggleable__label-arrow:before {color: black;}#sk-container-id-2 div.sk-toggleable__content {max-height: 0;max-width: 0;overflow: hidden;text-align: left;background-color: #f0f8ff;}#sk-container-id-2 div.sk-toggleable__content pre {margin: 0.2em;color: black;border-radius: 0.25em;background-color: #f0f8ff;}#sk-container-id-2 input.sk-toggleable__control:checked~div.sk-toggleable__content {max-height: 200px;max-width: 100%;overflow: auto;}#sk-container-id-2 input.sk-toggleable__control:checked~label.sk-toggleable__label-arrow:before {content: \"▾\";}#sk-container-id-2 div.sk-estimator input.sk-toggleable__control:checked~label.sk-toggleable__label {background-color: #d4ebff;}#sk-container-id-2 div.sk-label input.sk-toggleable__control:checked~label.sk-toggleable__label {background-color: #d4ebff;}#sk-container-id-2 input.sk-hidden--visually {border: 0;clip: rect(1px 1px 1px 1px);clip: rect(1px, 1px, 1px, 1px);height: 1px;margin: -1px;overflow: hidden;padding: 0;position: absolute;width: 1px;}#sk-container-id-2 div.sk-estimator {font-family: monospace;background-color: #f0f8ff;border: 1px dotted black;border-radius: 0.25em;box-sizing: border-box;margin-bottom: 0.5em;}#sk-container-id-2 div.sk-estimator:hover {background-color: #d4ebff;}#sk-container-id-2 div.sk-parallel-item::after {content: \"\";width: 100%;border-bottom: 1px solid gray;flex-grow: 1;}#sk-container-id-2 div.sk-label:hover label.sk-toggleable__label {background-color: #d4ebff;}#sk-container-id-2 div.sk-serial::before {content: \"\";position: absolute;border-left: 1px solid gray;box-sizing: border-box;top: 0;bottom: 0;left: 50%;z-index: 0;}#sk-container-id-2 div.sk-serial {display: flex;flex-direction: column;align-items: center;background-color: white;padding-right: 0.2em;padding-left: 0.2em;position: relative;}#sk-container-id-2 div.sk-item {position: relative;z-index: 1;}#sk-container-id-2 div.sk-parallel {display: flex;align-items: stretch;justify-content: center;background-color: white;position: relative;}#sk-container-id-2 div.sk-item::before, #sk-container-id-2 div.sk-parallel-item::before {content: \"\";position: absolute;border-left: 1px solid gray;box-sizing: border-box;top: 0;bottom: 0;left: 50%;z-index: -1;}#sk-container-id-2 div.sk-parallel-item {display: flex;flex-direction: column;z-index: 1;position: relative;background-color: white;}#sk-container-id-2 div.sk-parallel-item:first-child::after {align-self: flex-end;width: 50%;}#sk-container-id-2 div.sk-parallel-item:last-child::after {align-self: flex-start;width: 50%;}#sk-container-id-2 div.sk-parallel-item:only-child::after {width: 0;}#sk-container-id-2 div.sk-dashed-wrapped {border: 1px dashed gray;margin: 0 0.4em 0.5em 0.4em;box-sizing: border-box;padding-bottom: 0.4em;background-color: white;}#sk-container-id-2 div.sk-label label {font-family: monospace;font-weight: bold;display: inline-block;line-height: 1.2em;}#sk-container-id-2 div.sk-label-container {text-align: center;}#sk-container-id-2 div.sk-container {/* jupyter's `normalize.less` sets `[hidden] { display: none; }` but bootstrap.min.css set `[hidden] { display: none !important; }` so we also need the `!important` here to be able to override the default hidden behavior on the sphinx rendered scikit-learn.org. See: https://github.com/scikit-learn/scikit-learn/issues/21755 */display: inline-block !important;position: relative;}#sk-container-id-2 div.sk-text-repr-fallback {display: none;}</style><div id=\"sk-container-id-2\" class=\"sk-top-container\"><div class=\"sk-text-repr-fallback\"><pre>MinMaxScaler()</pre><b>In a Jupyter environment, please rerun this cell to show the HTML representation or trust the notebook. <br />On GitHub, the HTML representation is unable to render, please try loading this page with nbviewer.org.</b></div><div class=\"sk-container\" hidden><div class=\"sk-item\"><div class=\"sk-estimator sk-toggleable\"><input class=\"sk-toggleable__control sk-hidden--visually\" id=\"sk-estimator-id-2\" type=\"checkbox\" checked><label for=\"sk-estimator-id-2\" class=\"sk-toggleable__label sk-toggleable__label-arrow\">MinMaxScaler</label><div class=\"sk-toggleable__content\"><pre>MinMaxScaler()</pre></div></div></div></div></div>"
            ],
            "text/plain": [
              "MinMaxScaler()"
            ]
          },
          "execution_count": 44,
          "metadata": {},
          "output_type": "execute_result"
        }
      ],
      "source": [
        "scaler_age.fit(X_train[:,2].reshape(-1,1))"
      ]
    },
    {
      "cell_type": "code",
      "execution_count": null,
      "metadata": {
        "id": "aKDlVv9td2Pn"
      },
      "outputs": [],
      "source": [
        "X_train_scaled = np.copy(X_train)\n",
        "X_test_scaled = np.copy(X_test)"
      ]
    },
    {
      "cell_type": "code",
      "execution_count": null,
      "metadata": {
        "id": "_zLQE847alPZ"
      },
      "outputs": [],
      "source": [
        "# To scale the Age column\n",
        "X_train_scaled[:,2] = scaler_age.transform(X_train[:,2].reshape(-1,1)).reshape(-1)\n",
        "X_test_scaled[:,2] = scaler_age.transform(X_test[:,2].reshape(-1,1)).reshape(-1)"
      ]
    },
    {
      "cell_type": "code",
      "execution_count": null,
      "metadata": {
        "id": "6NKfQhCA9mkr"
      },
      "outputs": [],
      "source": [
        "# Creating the model\n",
        "ai_brain = Sequential([\n",
        "  Dense(units = 8, input_shape=[8]),\n",
        "  Dense(units =16, activation='relu'),\n",
        "\n",
        "  Dense(units =4, activation ='softmax')\n",
        "])"
      ]
    },
    {
      "cell_type": "code",
      "execution_count": null,
      "metadata": {
        "id": "3s-Vq8CP_0Ub"
      },
      "outputs": [],
      "source": [
        "ai_brain.compile(optimizer='adam',\n",
        "                 loss='categorical_crossentropy',\n",
        "                 metrics=['accuracy'])"
      ]
    },
    {
      "cell_type": "code",
      "execution_count": null,
      "metadata": {
        "colab": {
          "background_save": true,
          "base_uri": "https://localhost:8080/"
        },
        "id": "jmzdz5JQAYLh",
        "outputId": "3239cfd8-c38a-4678-c438-bcc5df6e6f6c"
      },
      "outputs": [
        {
          "name": "stdout",
          "output_type": "stream",
          "text": [
            "Epoch 1/400\n",
            "24/24 [==============================] - 0s 10ms/step - loss: 1.1570 - accuracy: 0.4882 - val_loss: 1.2002 - val_accuracy: 0.4655\n",
            "Epoch 2/400\n",
            "24/24 [==============================] - 0s 4ms/step - loss: 1.1581 - accuracy: 0.4853 - val_loss: 1.2010 - val_accuracy: 0.4662\n",
            "Epoch 3/400\n",
            "24/24 [==============================] - 0s 4ms/step - loss: 1.1568 - accuracy: 0.4853 - val_loss: 1.1982 - val_accuracy: 0.4662\n",
            "Epoch 4/400\n",
            "24/24 [==============================] - 0s 4ms/step - loss: 1.1571 - accuracy: 0.4861 - val_loss: 1.1990 - val_accuracy: 0.4665\n",
            "Epoch 5/400\n",
            "24/24 [==============================] - 0s 4ms/step - loss: 1.1562 - accuracy: 0.4875 - val_loss: 1.1985 - val_accuracy: 0.4675\n",
            "Epoch 6/400\n",
            "24/24 [==============================] - 0s 4ms/step - loss: 1.1583 - accuracy: 0.4873 - val_loss: 1.1990 - val_accuracy: 0.4648\n",
            "Epoch 7/400\n",
            "24/24 [==============================] - 0s 4ms/step - loss: 1.1572 - accuracy: 0.4882 - val_loss: 1.1999 - val_accuracy: 0.4675\n",
            "Epoch 8/400\n",
            "24/24 [==============================] - 0s 4ms/step - loss: 1.1570 - accuracy: 0.4888 - val_loss: 1.1995 - val_accuracy: 0.4658\n",
            "Epoch 9/400\n",
            "24/24 [==============================] - 0s 6ms/step - loss: 1.1578 - accuracy: 0.4878 - val_loss: 1.1995 - val_accuracy: 0.4658\n",
            "Epoch 10/400\n",
            "24/24 [==============================] - 0s 4ms/step - loss: 1.1565 - accuracy: 0.4858 - val_loss: 1.2005 - val_accuracy: 0.4638\n",
            "Epoch 11/400\n",
            "24/24 [==============================] - 0s 4ms/step - loss: 1.1572 - accuracy: 0.4888 - val_loss: 1.1986 - val_accuracy: 0.4634\n",
            "Epoch 12/400\n",
            "24/24 [==============================] - 0s 4ms/step - loss: 1.1570 - accuracy: 0.4841 - val_loss: 1.1990 - val_accuracy: 0.4699\n",
            "Epoch 13/400\n",
            "24/24 [==============================] - 0s 4ms/step - loss: 1.1568 - accuracy: 0.4887 - val_loss: 1.2000 - val_accuracy: 0.4693\n",
            "Epoch 14/400\n",
            "24/24 [==============================] - 0s 4ms/step - loss: 1.1565 - accuracy: 0.4900 - val_loss: 1.2006 - val_accuracy: 0.4693\n",
            "Epoch 15/400\n",
            "24/24 [==============================] - 0s 4ms/step - loss: 1.1574 - accuracy: 0.4856 - val_loss: 1.2006 - val_accuracy: 0.4672\n",
            "Epoch 16/400\n",
            "24/24 [==============================] - 0s 6ms/step - loss: 1.1565 - accuracy: 0.4883 - val_loss: 1.1990 - val_accuracy: 0.4689\n",
            "Epoch 17/400\n",
            "24/24 [==============================] - 0s 4ms/step - loss: 1.1567 - accuracy: 0.4843 - val_loss: 1.1986 - val_accuracy: 0.4693\n",
            "Epoch 18/400\n",
            "24/24 [==============================] - 0s 4ms/step - loss: 1.1576 - accuracy: 0.4893 - val_loss: 1.2009 - val_accuracy: 0.4693\n",
            "Epoch 19/400\n",
            "24/24 [==============================] - 0s 4ms/step - loss: 1.1566 - accuracy: 0.4880 - val_loss: 1.1994 - val_accuracy: 0.4693\n",
            "Epoch 20/400\n",
            "24/24 [==============================] - 0s 4ms/step - loss: 1.1577 - accuracy: 0.4860 - val_loss: 1.1995 - val_accuracy: 0.4686\n",
            "Epoch 21/400\n",
            "24/24 [==============================] - 0s 4ms/step - loss: 1.1564 - accuracy: 0.4844 - val_loss: 1.1990 - val_accuracy: 0.4644\n",
            "Epoch 22/400\n",
            "24/24 [==============================] - 0s 4ms/step - loss: 1.1568 - accuracy: 0.4849 - val_loss: 1.1988 - val_accuracy: 0.4679\n",
            "Epoch 23/400\n",
            "24/24 [==============================] - 0s 4ms/step - loss: 1.1569 - accuracy: 0.4843 - val_loss: 1.1997 - val_accuracy: 0.4679\n",
            "Epoch 24/400\n",
            "24/24 [==============================] - 0s 4ms/step - loss: 1.1568 - accuracy: 0.4882 - val_loss: 1.1992 - val_accuracy: 0.4675\n",
            "Epoch 25/400\n",
            "24/24 [==============================] - 0s 4ms/step - loss: 1.1572 - accuracy: 0.4897 - val_loss: 1.1998 - val_accuracy: 0.4679\n",
            "Epoch 26/400\n",
            "24/24 [==============================] - 0s 4ms/step - loss: 1.1574 - accuracy: 0.4883 - val_loss: 1.1993 - val_accuracy: 0.4693\n",
            "Epoch 27/400\n",
            "24/24 [==============================] - 0s 4ms/step - loss: 1.1571 - accuracy: 0.4836 - val_loss: 1.2026 - val_accuracy: 0.4675\n",
            "Epoch 28/400\n",
            "24/24 [==============================] - 0s 4ms/step - loss: 1.1564 - accuracy: 0.4856 - val_loss: 1.1977 - val_accuracy: 0.4668\n",
            "Epoch 29/400\n",
            "24/24 [==============================] - 0s 4ms/step - loss: 1.1565 - accuracy: 0.4832 - val_loss: 1.2004 - val_accuracy: 0.4720\n",
            "Epoch 30/400\n",
            "24/24 [==============================] - 0s 3ms/step - loss: 1.1572 - accuracy: 0.4878 - val_loss: 1.2000 - val_accuracy: 0.4693\n",
            "Epoch 31/400\n",
            "24/24 [==============================] - 0s 4ms/step - loss: 1.1567 - accuracy: 0.4853 - val_loss: 1.1999 - val_accuracy: 0.4662\n",
            "Epoch 32/400\n",
            "24/24 [==============================] - 0s 4ms/step - loss: 1.1570 - accuracy: 0.4870 - val_loss: 1.2005 - val_accuracy: 0.4607\n",
            "Epoch 33/400\n",
            "24/24 [==============================] - 0s 4ms/step - loss: 1.1585 - accuracy: 0.4831 - val_loss: 1.1981 - val_accuracy: 0.4696\n",
            "Epoch 34/400\n",
            "24/24 [==============================] - 0s 4ms/step - loss: 1.1570 - accuracy: 0.4851 - val_loss: 1.1993 - val_accuracy: 0.4682\n",
            "Epoch 35/400\n",
            "24/24 [==============================] - 0s 4ms/step - loss: 1.1570 - accuracy: 0.4893 - val_loss: 1.1990 - val_accuracy: 0.4710\n",
            "Epoch 36/400\n",
            "24/24 [==============================] - 0s 4ms/step - loss: 1.1564 - accuracy: 0.4871 - val_loss: 1.1988 - val_accuracy: 0.4699\n",
            "Epoch 37/400\n",
            "24/24 [==============================] - 0s 4ms/step - loss: 1.1570 - accuracy: 0.4860 - val_loss: 1.1985 - val_accuracy: 0.4665\n",
            "Epoch 38/400\n",
            "24/24 [==============================] - 0s 4ms/step - loss: 1.1563 - accuracy: 0.4870 - val_loss: 1.1987 - val_accuracy: 0.4679\n",
            "Epoch 39/400\n",
            "24/24 [==============================] - 0s 6ms/step - loss: 1.1571 - accuracy: 0.4832 - val_loss: 1.1999 - val_accuracy: 0.4696\n",
            "Epoch 40/400\n",
            "24/24 [==============================] - 0s 3ms/step - loss: 1.1572 - accuracy: 0.4892 - val_loss: 1.2014 - val_accuracy: 0.4693\n",
            "Epoch 41/400\n",
            "24/24 [==============================] - 0s 4ms/step - loss: 1.1567 - accuracy: 0.4863 - val_loss: 1.1977 - val_accuracy: 0.4675\n",
            "Epoch 42/400\n",
            "24/24 [==============================] - 0s 4ms/step - loss: 1.1565 - accuracy: 0.4882 - val_loss: 1.1996 - val_accuracy: 0.4693\n",
            "Epoch 43/400\n",
            "24/24 [==============================] - 0s 4ms/step - loss: 1.1570 - accuracy: 0.4875 - val_loss: 1.1971 - val_accuracy: 0.4638\n",
            "Epoch 44/400\n",
            "24/24 [==============================] - 0s 4ms/step - loss: 1.1568 - accuracy: 0.4885 - val_loss: 1.1997 - val_accuracy: 0.4672\n",
            "Epoch 45/400\n",
            "24/24 [==============================] - 0s 4ms/step - loss: 1.1575 - accuracy: 0.4909 - val_loss: 1.1987 - val_accuracy: 0.4672\n",
            "Epoch 46/400\n",
            "24/24 [==============================] - 0s 4ms/step - loss: 1.1573 - accuracy: 0.4888 - val_loss: 1.1998 - val_accuracy: 0.4662\n",
            "Epoch 47/400\n",
            "24/24 [==============================] - 0s 4ms/step - loss: 1.1582 - accuracy: 0.4885 - val_loss: 1.2017 - val_accuracy: 0.4699\n",
            "Epoch 48/400\n",
            "24/24 [==============================] - 0s 4ms/step - loss: 1.1582 - accuracy: 0.4841 - val_loss: 1.1996 - val_accuracy: 0.4662\n",
            "Epoch 49/400\n",
            "24/24 [==============================] - 0s 4ms/step - loss: 1.1569 - accuracy: 0.4882 - val_loss: 1.1973 - val_accuracy: 0.4682\n",
            "Epoch 50/400\n",
            "24/24 [==============================] - 0s 4ms/step - loss: 1.1563 - accuracy: 0.4868 - val_loss: 1.1987 - val_accuracy: 0.4665\n",
            "Epoch 51/400\n",
            "24/24 [==============================] - 0s 4ms/step - loss: 1.1562 - accuracy: 0.4863 - val_loss: 1.1981 - val_accuracy: 0.4679\n",
            "Epoch 52/400\n",
            "24/24 [==============================] - 0s 4ms/step - loss: 1.1564 - accuracy: 0.4876 - val_loss: 1.1983 - val_accuracy: 0.4668\n",
            "Epoch 53/400\n",
            "24/24 [==============================] - 0s 4ms/step - loss: 1.1579 - accuracy: 0.4849 - val_loss: 1.1996 - val_accuracy: 0.4703\n",
            "Epoch 54/400\n",
            "24/24 [==============================] - 0s 4ms/step - loss: 1.1562 - accuracy: 0.4851 - val_loss: 1.1989 - val_accuracy: 0.4641\n",
            "Epoch 55/400\n",
            "24/24 [==============================] - 0s 4ms/step - loss: 1.1576 - accuracy: 0.4868 - val_loss: 1.1994 - val_accuracy: 0.4662\n",
            "Epoch 56/400\n",
            "24/24 [==============================] - 0s 4ms/step - loss: 1.1593 - accuracy: 0.4821 - val_loss: 1.2003 - val_accuracy: 0.4696\n",
            "Epoch 57/400\n",
            "24/24 [==============================] - 0s 4ms/step - loss: 1.1584 - accuracy: 0.4841 - val_loss: 1.1994 - val_accuracy: 0.4651\n",
            "Epoch 58/400\n",
            "24/24 [==============================] - 0s 4ms/step - loss: 1.1586 - accuracy: 0.4883 - val_loss: 1.2003 - val_accuracy: 0.4675\n",
            "Epoch 59/400\n",
            "24/24 [==============================] - 0s 4ms/step - loss: 1.1564 - accuracy: 0.4870 - val_loss: 1.1999 - val_accuracy: 0.4672\n",
            "Epoch 60/400\n",
            "24/24 [==============================] - 0s 4ms/step - loss: 1.1569 - accuracy: 0.4860 - val_loss: 1.1984 - val_accuracy: 0.4682\n",
            "Epoch 61/400\n",
            "24/24 [==============================] - 0s 4ms/step - loss: 1.1561 - accuracy: 0.4858 - val_loss: 1.2002 - val_accuracy: 0.4696\n",
            "Epoch 62/400\n",
            "24/24 [==============================] - 0s 4ms/step - loss: 1.1570 - accuracy: 0.4890 - val_loss: 1.1983 - val_accuracy: 0.4713\n",
            "Epoch 63/400\n",
            "24/24 [==============================] - 0s 4ms/step - loss: 1.1573 - accuracy: 0.4883 - val_loss: 1.1991 - val_accuracy: 0.4686\n",
            "Epoch 64/400\n",
            "24/24 [==============================] - 0s 4ms/step - loss: 1.1568 - accuracy: 0.4885 - val_loss: 1.1981 - val_accuracy: 0.4682\n",
            "Epoch 65/400\n",
            "24/24 [==============================] - 0s 4ms/step - loss: 1.1582 - accuracy: 0.4849 - val_loss: 1.2016 - val_accuracy: 0.4658\n",
            "Epoch 66/400\n",
            "24/24 [==============================] - 0s 4ms/step - loss: 1.1585 - accuracy: 0.4836 - val_loss: 1.1983 - val_accuracy: 0.4662\n",
            "Epoch 67/400\n",
            "24/24 [==============================] - 0s 4ms/step - loss: 1.1570 - accuracy: 0.4876 - val_loss: 1.1985 - val_accuracy: 0.4679\n",
            "Epoch 68/400\n",
            "24/24 [==============================] - 0s 4ms/step - loss: 1.1566 - accuracy: 0.4851 - val_loss: 1.1992 - val_accuracy: 0.4699\n",
            "Epoch 69/400\n",
            "24/24 [==============================] - 0s 5ms/step - loss: 1.1578 - accuracy: 0.4898 - val_loss: 1.1980 - val_accuracy: 0.4679\n",
            "Epoch 70/400\n",
            "24/24 [==============================] - 0s 4ms/step - loss: 1.1593 - accuracy: 0.4839 - val_loss: 1.2006 - val_accuracy: 0.4679\n",
            "Epoch 71/400\n",
            "24/24 [==============================] - 0s 4ms/step - loss: 1.1561 - accuracy: 0.4866 - val_loss: 1.1991 - val_accuracy: 0.4617\n",
            "Epoch 72/400\n",
            "24/24 [==============================] - 0s 4ms/step - loss: 1.1566 - accuracy: 0.4883 - val_loss: 1.1990 - val_accuracy: 0.4675\n",
            "Epoch 73/400\n",
            "24/24 [==============================] - 0s 4ms/step - loss: 1.1563 - accuracy: 0.4893 - val_loss: 1.2007 - val_accuracy: 0.4665\n",
            "Epoch 74/400\n",
            "24/24 [==============================] - 0s 4ms/step - loss: 1.1569 - accuracy: 0.4863 - val_loss: 1.1982 - val_accuracy: 0.4675\n",
            "Epoch 75/400\n",
            "24/24 [==============================] - 0s 4ms/step - loss: 1.1568 - accuracy: 0.4848 - val_loss: 1.2001 - val_accuracy: 0.4665\n",
            "Epoch 76/400\n",
            "24/24 [==============================] - 0s 4ms/step - loss: 1.1574 - accuracy: 0.4885 - val_loss: 1.1991 - val_accuracy: 0.4675\n",
            "Epoch 77/400\n",
            "24/24 [==============================] - 0s 4ms/step - loss: 1.1579 - accuracy: 0.4875 - val_loss: 1.1992 - val_accuracy: 0.4682\n",
            "Epoch 78/400\n",
            "24/24 [==============================] - 0s 4ms/step - loss: 1.1559 - accuracy: 0.4868 - val_loss: 1.1997 - val_accuracy: 0.4679\n",
            "Epoch 79/400\n",
            "24/24 [==============================] - 0s 4ms/step - loss: 1.1573 - accuracy: 0.4885 - val_loss: 1.2002 - val_accuracy: 0.4648\n",
            "Epoch 80/400\n",
            "24/24 [==============================] - 0s 5ms/step - loss: 1.1574 - accuracy: 0.4871 - val_loss: 1.2004 - val_accuracy: 0.4620\n",
            "Epoch 81/400\n",
            "24/24 [==============================] - 0s 4ms/step - loss: 1.1564 - accuracy: 0.4878 - val_loss: 1.2004 - val_accuracy: 0.4706\n",
            "Epoch 82/400\n",
            "24/24 [==============================] - 0s 6ms/step - loss: 1.1583 - accuracy: 0.4851 - val_loss: 1.1998 - val_accuracy: 0.4631\n",
            "Epoch 83/400\n",
            "24/24 [==============================] - 0s 6ms/step - loss: 1.1560 - accuracy: 0.4849 - val_loss: 1.1992 - val_accuracy: 0.4672\n",
            "Epoch 84/400\n",
            "24/24 [==============================] - 0s 8ms/step - loss: 1.1570 - accuracy: 0.4885 - val_loss: 1.2001 - val_accuracy: 0.4665\n",
            "Epoch 85/400\n",
            "24/24 [==============================] - 0s 6ms/step - loss: 1.1568 - accuracy: 0.4888 - val_loss: 1.1977 - val_accuracy: 0.4679\n",
            "Epoch 86/400\n",
            "24/24 [==============================] - 0s 7ms/step - loss: 1.1588 - accuracy: 0.4839 - val_loss: 1.2004 - val_accuracy: 0.4720\n",
            "Epoch 87/400\n",
            "24/24 [==============================] - 0s 8ms/step - loss: 1.1571 - accuracy: 0.4868 - val_loss: 1.1981 - val_accuracy: 0.4655\n",
            "Epoch 88/400\n",
            "24/24 [==============================] - 0s 7ms/step - loss: 1.1567 - accuracy: 0.4878 - val_loss: 1.1991 - val_accuracy: 0.4672\n",
            "Epoch 89/400\n",
            "24/24 [==============================] - 0s 7ms/step - loss: 1.1564 - accuracy: 0.4893 - val_loss: 1.1991 - val_accuracy: 0.4658\n",
            "Epoch 90/400\n",
            "24/24 [==============================] - 0s 6ms/step - loss: 1.1571 - accuracy: 0.4848 - val_loss: 1.1989 - val_accuracy: 0.4648\n",
            "Epoch 91/400\n",
            "24/24 [==============================] - 0s 6ms/step - loss: 1.1566 - accuracy: 0.4882 - val_loss: 1.1992 - val_accuracy: 0.4662\n",
            "Epoch 92/400\n",
            "24/24 [==============================] - 0s 7ms/step - loss: 1.1573 - accuracy: 0.4890 - val_loss: 1.1981 - val_accuracy: 0.4679\n",
            "Epoch 93/400\n",
            "24/24 [==============================] - 0s 7ms/step - loss: 1.1577 - accuracy: 0.4858 - val_loss: 1.1997 - val_accuracy: 0.4672\n",
            "Epoch 94/400\n",
            "24/24 [==============================] - 0s 6ms/step - loss: 1.1581 - accuracy: 0.4871 - val_loss: 1.1988 - val_accuracy: 0.4641\n",
            "Epoch 95/400\n",
            "24/24 [==============================] - 0s 6ms/step - loss: 1.1570 - accuracy: 0.4888 - val_loss: 1.1989 - val_accuracy: 0.4693\n",
            "Epoch 96/400\n",
            "24/24 [==============================] - 0s 8ms/step - loss: 1.1569 - accuracy: 0.4841 - val_loss: 1.1984 - val_accuracy: 0.4713\n",
            "Epoch 97/400\n",
            "24/24 [==============================] - 0s 7ms/step - loss: 1.1566 - accuracy: 0.4885 - val_loss: 1.1996 - val_accuracy: 0.4689\n",
            "Epoch 98/400\n",
            "24/24 [==============================] - 0s 7ms/step - loss: 1.1567 - accuracy: 0.4854 - val_loss: 1.2000 - val_accuracy: 0.4658\n",
            "Epoch 99/400\n",
            "24/24 [==============================] - 0s 4ms/step - loss: 1.1581 - accuracy: 0.4887 - val_loss: 1.1983 - val_accuracy: 0.4686\n",
            "Epoch 100/400\n",
            "24/24 [==============================] - 0s 5ms/step - loss: 1.1572 - accuracy: 0.4839 - val_loss: 1.1972 - val_accuracy: 0.4662\n",
            "Epoch 101/400\n",
            "24/24 [==============================] - 0s 4ms/step - loss: 1.1563 - accuracy: 0.4880 - val_loss: 1.1986 - val_accuracy: 0.4686\n",
            "Epoch 102/400\n",
            "24/24 [==============================] - 0s 4ms/step - loss: 1.1558 - accuracy: 0.4856 - val_loss: 1.1987 - val_accuracy: 0.4665\n",
            "Epoch 103/400\n",
            "24/24 [==============================] - 0s 5ms/step - loss: 1.1569 - accuracy: 0.4873 - val_loss: 1.1993 - val_accuracy: 0.4648\n",
            "Epoch 104/400\n",
            "24/24 [==============================] - 0s 4ms/step - loss: 1.1568 - accuracy: 0.4853 - val_loss: 1.1985 - val_accuracy: 0.4634\n",
            "Epoch 105/400\n",
            "24/24 [==============================] - 0s 4ms/step - loss: 1.1571 - accuracy: 0.4843 - val_loss: 1.1992 - val_accuracy: 0.4689\n",
            "Epoch 106/400\n",
            "24/24 [==============================] - 0s 4ms/step - loss: 1.1574 - accuracy: 0.4846 - val_loss: 1.2004 - val_accuracy: 0.4672\n",
            "Epoch 107/400\n",
            "24/24 [==============================] - 0s 4ms/step - loss: 1.1571 - accuracy: 0.4838 - val_loss: 1.1989 - val_accuracy: 0.4665\n",
            "Epoch 108/400\n",
            "24/24 [==============================] - 0s 4ms/step - loss: 1.1575 - accuracy: 0.4853 - val_loss: 1.2004 - val_accuracy: 0.4679\n",
            "Epoch 109/400\n",
            "24/24 [==============================] - 0s 4ms/step - loss: 1.1565 - accuracy: 0.4892 - val_loss: 1.1989 - val_accuracy: 0.4644\n",
            "Epoch 110/400\n",
            "24/24 [==============================] - 0s 4ms/step - loss: 1.1566 - accuracy: 0.4873 - val_loss: 1.2003 - val_accuracy: 0.4682\n",
            "Epoch 111/400\n",
            "24/24 [==============================] - 0s 4ms/step - loss: 1.1569 - accuracy: 0.4893 - val_loss: 1.1992 - val_accuracy: 0.4699\n",
            "Epoch 112/400\n",
            "24/24 [==============================] - 0s 5ms/step - loss: 1.1559 - accuracy: 0.4860 - val_loss: 1.1988 - val_accuracy: 0.4699\n",
            "Epoch 113/400\n",
            "24/24 [==============================] - 0s 4ms/step - loss: 1.1572 - accuracy: 0.4816 - val_loss: 1.2014 - val_accuracy: 0.4648\n",
            "Epoch 114/400\n",
            "24/24 [==============================] - 0s 4ms/step - loss: 1.1580 - accuracy: 0.4890 - val_loss: 1.1996 - val_accuracy: 0.4672\n",
            "Epoch 115/400\n",
            "24/24 [==============================] - 0s 4ms/step - loss: 1.1579 - accuracy: 0.4851 - val_loss: 1.1985 - val_accuracy: 0.4696\n",
            "Epoch 116/400\n",
            "24/24 [==============================] - 0s 4ms/step - loss: 1.1563 - accuracy: 0.4873 - val_loss: 1.1981 - val_accuracy: 0.4696\n",
            "Epoch 117/400\n",
            "24/24 [==============================] - 0s 4ms/step - loss: 1.1564 - accuracy: 0.4866 - val_loss: 1.1989 - val_accuracy: 0.4710\n",
            "Epoch 118/400\n",
            "24/24 [==============================] - 0s 4ms/step - loss: 1.1571 - accuracy: 0.4878 - val_loss: 1.1986 - val_accuracy: 0.4682\n",
            "Epoch 119/400\n",
            "24/24 [==============================] - 0s 4ms/step - loss: 1.1566 - accuracy: 0.4893 - val_loss: 1.1989 - val_accuracy: 0.4658\n",
            "Epoch 120/400\n",
            "24/24 [==============================] - 0s 4ms/step - loss: 1.1567 - accuracy: 0.4861 - val_loss: 1.1990 - val_accuracy: 0.4675\n",
            "Epoch 121/400\n",
            "24/24 [==============================] - 0s 6ms/step - loss: 1.1601 - accuracy: 0.4868 - val_loss: 1.2006 - val_accuracy: 0.4720\n",
            "Epoch 122/400\n",
            "24/24 [==============================] - 0s 4ms/step - loss: 1.1567 - accuracy: 0.4860 - val_loss: 1.1988 - val_accuracy: 0.4675\n",
            "Epoch 123/400\n",
            "24/24 [==============================] - 0s 4ms/step - loss: 1.1572 - accuracy: 0.4822 - val_loss: 1.1979 - val_accuracy: 0.4675\n",
            "Epoch 124/400\n",
            "24/24 [==============================] - 0s 4ms/step - loss: 1.1571 - accuracy: 0.4860 - val_loss: 1.1982 - val_accuracy: 0.4693\n",
            "Epoch 125/400\n",
            "24/24 [==============================] - 0s 4ms/step - loss: 1.1569 - accuracy: 0.4861 - val_loss: 1.1985 - val_accuracy: 0.4668\n",
            "Epoch 126/400\n",
            "24/24 [==============================] - 0s 5ms/step - loss: 1.1559 - accuracy: 0.4868 - val_loss: 1.1986 - val_accuracy: 0.4655\n",
            "Epoch 127/400\n",
            "24/24 [==============================] - 0s 4ms/step - loss: 1.1565 - accuracy: 0.4856 - val_loss: 1.1987 - val_accuracy: 0.4668\n",
            "Epoch 128/400\n",
            "24/24 [==============================] - 0s 4ms/step - loss: 1.1560 - accuracy: 0.4846 - val_loss: 1.1983 - val_accuracy: 0.4675\n",
            "Epoch 129/400\n",
            "24/24 [==============================] - 0s 4ms/step - loss: 1.1566 - accuracy: 0.4907 - val_loss: 1.1993 - val_accuracy: 0.4675\n",
            "Epoch 130/400\n",
            "24/24 [==============================] - 0s 5ms/step - loss: 1.1569 - accuracy: 0.4870 - val_loss: 1.1983 - val_accuracy: 0.4655\n",
            "Epoch 131/400\n",
            "24/24 [==============================] - 0s 4ms/step - loss: 1.1561 - accuracy: 0.4888 - val_loss: 1.1993 - val_accuracy: 0.4658\n",
            "Epoch 132/400\n",
            "24/24 [==============================] - 0s 4ms/step - loss: 1.1563 - accuracy: 0.4831 - val_loss: 1.1994 - val_accuracy: 0.4631\n",
            "Epoch 133/400\n",
            "24/24 [==============================] - 0s 4ms/step - loss: 1.1563 - accuracy: 0.4887 - val_loss: 1.1987 - val_accuracy: 0.4682\n",
            "Epoch 134/400\n",
            "24/24 [==============================] - 0s 4ms/step - loss: 1.1573 - accuracy: 0.4836 - val_loss: 1.2012 - val_accuracy: 0.4644\n",
            "Epoch 135/400\n",
            "24/24 [==============================] - 0s 4ms/step - loss: 1.1570 - accuracy: 0.4871 - val_loss: 1.1990 - val_accuracy: 0.4651\n",
            "Epoch 136/400\n",
            "24/24 [==============================] - 0s 4ms/step - loss: 1.1565 - accuracy: 0.4890 - val_loss: 1.1997 - val_accuracy: 0.4679\n",
            "Epoch 137/400\n",
            "24/24 [==============================] - 0s 5ms/step - loss: 1.1565 - accuracy: 0.4871 - val_loss: 1.1990 - val_accuracy: 0.4641\n",
            "Epoch 138/400\n",
            "24/24 [==============================] - 0s 4ms/step - loss: 1.1558 - accuracy: 0.4849 - val_loss: 1.2009 - val_accuracy: 0.4655\n",
            "Epoch 139/400\n",
            "24/24 [==============================] - 0s 4ms/step - loss: 1.1568 - accuracy: 0.4875 - val_loss: 1.1990 - val_accuracy: 0.4658\n",
            "Epoch 140/400\n",
            "24/24 [==============================] - 0s 4ms/step - loss: 1.1580 - accuracy: 0.4817 - val_loss: 1.2003 - val_accuracy: 0.4662\n",
            "Epoch 141/400\n",
            "24/24 [==============================] - 0s 4ms/step - loss: 1.1570 - accuracy: 0.4880 - val_loss: 1.1990 - val_accuracy: 0.4689\n",
            "Epoch 142/400\n",
            "24/24 [==============================] - 0s 4ms/step - loss: 1.1559 - accuracy: 0.4878 - val_loss: 1.2032 - val_accuracy: 0.4665\n",
            "Epoch 143/400\n",
            "24/24 [==============================] - 0s 4ms/step - loss: 1.1595 - accuracy: 0.4871 - val_loss: 1.1989 - val_accuracy: 0.4675\n",
            "Epoch 144/400\n",
            "24/24 [==============================] - 0s 4ms/step - loss: 1.1584 - accuracy: 0.4848 - val_loss: 1.1991 - val_accuracy: 0.4686\n",
            "Epoch 145/400\n",
            "24/24 [==============================] - 0s 4ms/step - loss: 1.1575 - accuracy: 0.4882 - val_loss: 1.1995 - val_accuracy: 0.4655\n",
            "Epoch 146/400\n",
            "24/24 [==============================] - 0s 4ms/step - loss: 1.1573 - accuracy: 0.4873 - val_loss: 1.2000 - val_accuracy: 0.4668\n",
            "Epoch 147/400\n",
            "24/24 [==============================] - 0s 4ms/step - loss: 1.1570 - accuracy: 0.4863 - val_loss: 1.1997 - val_accuracy: 0.4648\n",
            "Epoch 148/400\n",
            "24/24 [==============================] - 0s 6ms/step - loss: 1.1569 - accuracy: 0.4856 - val_loss: 1.1992 - val_accuracy: 0.4682\n",
            "Epoch 149/400\n",
            "24/24 [==============================] - 0s 5ms/step - loss: 1.1562 - accuracy: 0.4860 - val_loss: 1.1989 - val_accuracy: 0.4679\n",
            "Epoch 150/400\n",
            "24/24 [==============================] - 0s 6ms/step - loss: 1.1574 - accuracy: 0.4900 - val_loss: 1.1996 - val_accuracy: 0.4717\n",
            "Epoch 151/400\n",
            "24/24 [==============================] - 0s 4ms/step - loss: 1.1571 - accuracy: 0.4895 - val_loss: 1.1981 - val_accuracy: 0.4682\n",
            "Epoch 152/400\n",
            "24/24 [==============================] - 0s 4ms/step - loss: 1.1559 - accuracy: 0.4834 - val_loss: 1.1990 - val_accuracy: 0.4655\n",
            "Epoch 153/400\n",
            "24/24 [==============================] - 0s 4ms/step - loss: 1.1567 - accuracy: 0.4878 - val_loss: 1.2003 - val_accuracy: 0.4620\n",
            "Epoch 154/400\n",
            "24/24 [==============================] - 0s 4ms/step - loss: 1.1568 - accuracy: 0.4885 - val_loss: 1.1995 - val_accuracy: 0.4651\n",
            "Epoch 155/400\n",
            "24/24 [==============================] - 0s 4ms/step - loss: 1.1581 - accuracy: 0.4854 - val_loss: 1.2030 - val_accuracy: 0.4703\n",
            "Epoch 156/400\n",
            "24/24 [==============================] - 0s 4ms/step - loss: 1.1574 - accuracy: 0.4849 - val_loss: 1.1992 - val_accuracy: 0.4668\n",
            "Epoch 157/400\n",
            "24/24 [==============================] - 0s 5ms/step - loss: 1.1571 - accuracy: 0.4885 - val_loss: 1.1988 - val_accuracy: 0.4693\n",
            "Epoch 158/400\n",
            "24/24 [==============================] - 0s 6ms/step - loss: 1.1571 - accuracy: 0.4861 - val_loss: 1.1993 - val_accuracy: 0.4675\n",
            "Epoch 159/400\n",
            "24/24 [==============================] - 0s 4ms/step - loss: 1.1563 - accuracy: 0.4865 - val_loss: 1.1998 - val_accuracy: 0.4641\n",
            "Epoch 160/400\n",
            "24/24 [==============================] - 0s 6ms/step - loss: 1.1567 - accuracy: 0.4851 - val_loss: 1.2008 - val_accuracy: 0.4655\n",
            "Epoch 161/400\n",
            "24/24 [==============================] - 0s 4ms/step - loss: 1.1570 - accuracy: 0.4871 - val_loss: 1.1986 - val_accuracy: 0.4634\n",
            "Epoch 162/400\n",
            "24/24 [==============================] - 0s 4ms/step - loss: 1.1569 - accuracy: 0.4836 - val_loss: 1.1980 - val_accuracy: 0.4648\n",
            "Epoch 163/400\n",
            "24/24 [==============================] - 0s 7ms/step - loss: 1.1566 - accuracy: 0.4831 - val_loss: 1.1997 - val_accuracy: 0.4682\n",
            "Epoch 164/400\n",
            "24/24 [==============================] - 0s 7ms/step - loss: 1.1569 - accuracy: 0.4861 - val_loss: 1.2000 - val_accuracy: 0.4638\n",
            "Epoch 165/400\n",
            "24/24 [==============================] - 0s 8ms/step - loss: 1.1561 - accuracy: 0.4853 - val_loss: 1.1988 - val_accuracy: 0.4644\n",
            "Epoch 166/400\n",
            "24/24 [==============================] - 0s 8ms/step - loss: 1.1569 - accuracy: 0.4892 - val_loss: 1.2003 - val_accuracy: 0.4627\n",
            "Epoch 167/400\n",
            "24/24 [==============================] - 0s 7ms/step - loss: 1.1565 - accuracy: 0.4865 - val_loss: 1.1985 - val_accuracy: 0.4668\n",
            "Epoch 168/400\n",
            "24/24 [==============================] - 0s 8ms/step - loss: 1.1570 - accuracy: 0.4878 - val_loss: 1.1981 - val_accuracy: 0.4620\n",
            "Epoch 169/400\n",
            "24/24 [==============================] - 0s 8ms/step - loss: 1.1566 - accuracy: 0.4866 - val_loss: 1.1998 - val_accuracy: 0.4648\n",
            "Epoch 170/400\n",
            "24/24 [==============================] - 0s 6ms/step - loss: 1.1576 - accuracy: 0.4873 - val_loss: 1.1988 - val_accuracy: 0.4651\n",
            "Epoch 171/400\n",
            "24/24 [==============================] - 0s 8ms/step - loss: 1.1568 - accuracy: 0.4843 - val_loss: 1.1997 - val_accuracy: 0.4631\n",
            "Epoch 172/400\n",
            "24/24 [==============================] - 0s 5ms/step - loss: 1.1561 - accuracy: 0.4871 - val_loss: 1.1987 - val_accuracy: 0.4665\n",
            "Epoch 173/400\n",
            "24/24 [==============================] - 0s 7ms/step - loss: 1.1561 - accuracy: 0.4866 - val_loss: 1.1983 - val_accuracy: 0.4662\n",
            "Epoch 174/400\n",
            "24/24 [==============================] - 0s 7ms/step - loss: 1.1563 - accuracy: 0.4880 - val_loss: 1.2000 - val_accuracy: 0.4665\n",
            "Epoch 175/400\n",
            "24/24 [==============================] - 0s 8ms/step - loss: 1.1563 - accuracy: 0.4885 - val_loss: 1.1986 - val_accuracy: 0.4662\n",
            "Epoch 176/400\n",
            "24/24 [==============================] - 0s 7ms/step - loss: 1.1562 - accuracy: 0.4887 - val_loss: 1.1997 - val_accuracy: 0.4648\n",
            "Epoch 177/400\n",
            "24/24 [==============================] - 0s 6ms/step - loss: 1.1561 - accuracy: 0.4873 - val_loss: 1.2011 - val_accuracy: 0.4620\n",
            "Epoch 178/400\n",
            "24/24 [==============================] - 0s 5ms/step - loss: 1.1578 - accuracy: 0.4866 - val_loss: 1.1975 - val_accuracy: 0.4665\n",
            "Epoch 179/400\n",
            "24/24 [==============================] - 0s 4ms/step - loss: 1.1558 - accuracy: 0.4863 - val_loss: 1.1995 - val_accuracy: 0.4641\n",
            "Epoch 180/400\n",
            "24/24 [==============================] - 0s 4ms/step - loss: 1.1573 - accuracy: 0.4870 - val_loss: 1.2005 - val_accuracy: 0.4620\n",
            "Epoch 181/400\n",
            "24/24 [==============================] - 0s 4ms/step - loss: 1.1568 - accuracy: 0.4866 - val_loss: 1.1993 - val_accuracy: 0.4658\n",
            "Epoch 182/400\n",
            "24/24 [==============================] - 0s 5ms/step - loss: 1.1568 - accuracy: 0.4875 - val_loss: 1.1994 - val_accuracy: 0.4658\n",
            "Epoch 183/400\n",
            "24/24 [==============================] - 0s 7ms/step - loss: 1.1558 - accuracy: 0.4875 - val_loss: 1.1983 - val_accuracy: 0.4648\n",
            "Epoch 184/400\n",
            "24/24 [==============================] - 0s 6ms/step - loss: 1.1561 - accuracy: 0.4909 - val_loss: 1.1983 - val_accuracy: 0.4668\n",
            "Epoch 185/400\n",
            "24/24 [==============================] - 0s 7ms/step - loss: 1.1564 - accuracy: 0.4853 - val_loss: 1.2000 - val_accuracy: 0.4651\n",
            "Epoch 186/400\n",
            "24/24 [==============================] - 0s 8ms/step - loss: 1.1569 - accuracy: 0.4887 - val_loss: 1.1981 - val_accuracy: 0.4675\n",
            "Epoch 187/400\n",
            "24/24 [==============================] - 0s 6ms/step - loss: 1.1571 - accuracy: 0.4873 - val_loss: 1.1989 - val_accuracy: 0.4696\n",
            "Epoch 188/400\n",
            "24/24 [==============================] - 0s 5ms/step - loss: 1.1567 - accuracy: 0.4887 - val_loss: 1.1973 - val_accuracy: 0.4668\n",
            "Epoch 189/400\n",
            "24/24 [==============================] - 0s 6ms/step - loss: 1.1564 - accuracy: 0.4871 - val_loss: 1.1979 - val_accuracy: 0.4672\n",
            "Epoch 190/400\n",
            "24/24 [==============================] - 0s 7ms/step - loss: 1.1585 - accuracy: 0.4822 - val_loss: 1.2005 - val_accuracy: 0.4655\n",
            "Epoch 191/400\n",
            "24/24 [==============================] - 0s 5ms/step - loss: 1.1563 - accuracy: 0.4882 - val_loss: 1.1982 - val_accuracy: 0.4675\n",
            "Epoch 192/400\n",
            "24/24 [==============================] - 0s 6ms/step - loss: 1.1575 - accuracy: 0.4861 - val_loss: 1.1987 - val_accuracy: 0.4634\n",
            "Epoch 193/400\n",
            "24/24 [==============================] - 0s 5ms/step - loss: 1.1571 - accuracy: 0.4892 - val_loss: 1.1995 - val_accuracy: 0.4641\n",
            "Epoch 194/400\n",
            "24/24 [==============================] - 0s 5ms/step - loss: 1.1570 - accuracy: 0.4851 - val_loss: 1.1990 - val_accuracy: 0.4651\n",
            "Epoch 195/400\n",
            "24/24 [==============================] - 0s 7ms/step - loss: 1.1564 - accuracy: 0.4904 - val_loss: 1.1987 - val_accuracy: 0.4668\n",
            "Epoch 196/400\n",
            "24/24 [==============================] - 0s 8ms/step - loss: 1.1564 - accuracy: 0.4875 - val_loss: 1.1971 - val_accuracy: 0.4672\n",
            "Epoch 197/400\n",
            "24/24 [==============================] - 0s 6ms/step - loss: 1.1568 - accuracy: 0.4873 - val_loss: 1.1979 - val_accuracy: 0.4662\n",
            "Epoch 198/400\n",
            "24/24 [==============================] - 0s 6ms/step - loss: 1.1560 - accuracy: 0.4885 - val_loss: 1.1969 - val_accuracy: 0.4675\n",
            "Epoch 199/400\n",
            "24/24 [==============================] - 0s 6ms/step - loss: 1.1591 - accuracy: 0.4848 - val_loss: 1.1974 - val_accuracy: 0.4655\n",
            "Epoch 200/400\n",
            "24/24 [==============================] - 0s 8ms/step - loss: 1.1563 - accuracy: 0.4863 - val_loss: 1.2005 - val_accuracy: 0.4620\n",
            "Epoch 201/400\n",
            "24/24 [==============================] - 0s 5ms/step - loss: 1.1573 - accuracy: 0.4895 - val_loss: 1.1987 - val_accuracy: 0.4655\n",
            "Epoch 202/400\n",
            "24/24 [==============================] - 0s 4ms/step - loss: 1.1569 - accuracy: 0.4860 - val_loss: 1.1982 - val_accuracy: 0.4644\n",
            "Epoch 203/400\n",
            "24/24 [==============================] - 0s 4ms/step - loss: 1.1556 - accuracy: 0.4898 - val_loss: 1.1981 - val_accuracy: 0.4672\n",
            "Epoch 204/400\n",
            "24/24 [==============================] - 0s 4ms/step - loss: 1.1567 - accuracy: 0.4858 - val_loss: 1.1988 - val_accuracy: 0.4644\n",
            "Epoch 205/400\n",
            "24/24 [==============================] - 0s 4ms/step - loss: 1.1582 - accuracy: 0.4822 - val_loss: 1.1991 - val_accuracy: 0.4641\n",
            "Epoch 206/400\n",
            "24/24 [==============================] - 0s 4ms/step - loss: 1.1560 - accuracy: 0.4870 - val_loss: 1.1975 - val_accuracy: 0.4658\n",
            "Epoch 207/400\n",
            "24/24 [==============================] - 0s 6ms/step - loss: 1.1564 - accuracy: 0.4893 - val_loss: 1.1984 - val_accuracy: 0.4717\n",
            "Epoch 208/400\n",
            "24/24 [==============================] - 0s 4ms/step - loss: 1.1569 - accuracy: 0.4870 - val_loss: 1.1991 - val_accuracy: 0.4634\n",
            "Epoch 209/400\n",
            "24/24 [==============================] - 0s 4ms/step - loss: 1.1569 - accuracy: 0.4883 - val_loss: 1.1996 - val_accuracy: 0.4675\n",
            "Epoch 210/400\n",
            "24/24 [==============================] - 0s 4ms/step - loss: 1.1568 - accuracy: 0.4893 - val_loss: 1.1992 - val_accuracy: 0.4593\n",
            "Epoch 211/400\n",
            "24/24 [==============================] - 0s 5ms/step - loss: 1.1565 - accuracy: 0.4895 - val_loss: 1.2001 - val_accuracy: 0.4631\n",
            "Epoch 212/400\n",
            "24/24 [==============================] - 0s 4ms/step - loss: 1.1572 - accuracy: 0.4905 - val_loss: 1.1986 - val_accuracy: 0.4658\n",
            "Epoch 213/400\n",
            "24/24 [==============================] - 0s 4ms/step - loss: 1.1569 - accuracy: 0.4892 - val_loss: 1.2008 - val_accuracy: 0.4651\n",
            "Epoch 214/400\n",
            "24/24 [==============================] - 0s 4ms/step - loss: 1.1583 - accuracy: 0.4853 - val_loss: 1.2008 - val_accuracy: 0.4610\n",
            "Epoch 215/400\n",
            "24/24 [==============================] - 0s 4ms/step - loss: 1.1569 - accuracy: 0.4866 - val_loss: 1.1987 - val_accuracy: 0.4689\n",
            "Epoch 216/400\n",
            "24/24 [==============================] - 0s 4ms/step - loss: 1.1573 - accuracy: 0.4868 - val_loss: 1.1985 - val_accuracy: 0.4696\n",
            "Epoch 217/400\n",
            "24/24 [==============================] - 0s 4ms/step - loss: 1.1584 - accuracy: 0.4834 - val_loss: 1.1984 - val_accuracy: 0.4675\n",
            "Epoch 218/400\n",
            "24/24 [==============================] - 0s 5ms/step - loss: 1.1557 - accuracy: 0.4893 - val_loss: 1.1979 - val_accuracy: 0.4648\n",
            "Epoch 219/400\n",
            "24/24 [==============================] - 0s 4ms/step - loss: 1.1568 - accuracy: 0.4853 - val_loss: 1.1973 - val_accuracy: 0.4668\n",
            "Epoch 220/400\n",
            "24/24 [==============================] - 0s 4ms/step - loss: 1.1574 - accuracy: 0.4875 - val_loss: 1.1982 - val_accuracy: 0.4672\n",
            "Epoch 221/400\n",
            "24/24 [==============================] - 0s 4ms/step - loss: 1.1574 - accuracy: 0.4841 - val_loss: 1.1999 - val_accuracy: 0.4662\n",
            "Epoch 222/400\n",
            "24/24 [==============================] - 0s 4ms/step - loss: 1.1556 - accuracy: 0.4895 - val_loss: 1.1990 - val_accuracy: 0.4641\n",
            "Epoch 223/400\n",
            "24/24 [==============================] - 0s 4ms/step - loss: 1.1558 - accuracy: 0.4878 - val_loss: 1.1998 - val_accuracy: 0.4644\n",
            "Epoch 224/400\n",
            "24/24 [==============================] - 0s 4ms/step - loss: 1.1553 - accuracy: 0.4890 - val_loss: 1.1981 - val_accuracy: 0.4662\n",
            "Epoch 225/400\n",
            "24/24 [==============================] - 0s 4ms/step - loss: 1.1564 - accuracy: 0.4839 - val_loss: 1.1994 - val_accuracy: 0.4665\n",
            "Epoch 226/400\n",
            "24/24 [==============================] - 0s 4ms/step - loss: 1.1565 - accuracy: 0.4865 - val_loss: 1.1999 - val_accuracy: 0.4675\n",
            "Epoch 227/400\n",
            "24/24 [==============================] - 0s 4ms/step - loss: 1.1559 - accuracy: 0.4854 - val_loss: 1.1990 - val_accuracy: 0.4655\n",
            "Epoch 228/400\n",
            "24/24 [==============================] - 0s 4ms/step - loss: 1.1562 - accuracy: 0.4870 - val_loss: 1.2004 - val_accuracy: 0.4641\n",
            "Epoch 229/400\n",
            "24/24 [==============================] - 0s 4ms/step - loss: 1.1567 - accuracy: 0.4858 - val_loss: 1.1986 - val_accuracy: 0.4655\n",
            "Epoch 230/400\n",
            "24/24 [==============================] - 0s 4ms/step - loss: 1.1562 - accuracy: 0.4888 - val_loss: 1.1987 - val_accuracy: 0.4672\n",
            "Epoch 231/400\n",
            "24/24 [==============================] - 0s 4ms/step - loss: 1.1556 - accuracy: 0.4885 - val_loss: 1.1988 - val_accuracy: 0.4617\n",
            "Epoch 232/400\n",
            "24/24 [==============================] - 0s 5ms/step - loss: 1.1564 - accuracy: 0.4873 - val_loss: 1.1990 - val_accuracy: 0.4655\n",
            "Epoch 233/400\n",
            "24/24 [==============================] - 0s 5ms/step - loss: 1.1563 - accuracy: 0.4883 - val_loss: 1.1985 - val_accuracy: 0.4648\n",
            "Epoch 234/400\n",
            "24/24 [==============================] - 0s 5ms/step - loss: 1.1558 - accuracy: 0.4907 - val_loss: 1.1983 - val_accuracy: 0.4655\n",
            "Epoch 235/400\n",
            "24/24 [==============================] - 0s 4ms/step - loss: 1.1567 - accuracy: 0.4851 - val_loss: 1.1993 - val_accuracy: 0.4600\n",
            "Epoch 236/400\n",
            "24/24 [==============================] - 0s 6ms/step - loss: 1.1566 - accuracy: 0.4897 - val_loss: 1.1992 - val_accuracy: 0.4675\n",
            "Epoch 237/400\n",
            "24/24 [==============================] - 0s 6ms/step - loss: 1.1567 - accuracy: 0.4873 - val_loss: 1.1978 - val_accuracy: 0.4624\n",
            "Epoch 238/400\n",
            "24/24 [==============================] - 0s 8ms/step - loss: 1.1566 - accuracy: 0.4875 - val_loss: 1.1985 - val_accuracy: 0.4627\n",
            "Epoch 239/400\n",
            "24/24 [==============================] - 0s 7ms/step - loss: 1.1563 - accuracy: 0.4870 - val_loss: 1.1991 - val_accuracy: 0.4634\n",
            "Epoch 240/400\n",
            "24/24 [==============================] - 0s 8ms/step - loss: 1.1567 - accuracy: 0.4890 - val_loss: 1.1983 - val_accuracy: 0.4610\n",
            "Epoch 241/400\n",
            "24/24 [==============================] - 0s 6ms/step - loss: 1.1558 - accuracy: 0.4885 - val_loss: 1.1976 - val_accuracy: 0.4648\n",
            "Epoch 242/400\n",
            "24/24 [==============================] - 0s 8ms/step - loss: 1.1568 - accuracy: 0.4870 - val_loss: 1.1994 - val_accuracy: 0.4658\n",
            "Epoch 243/400\n",
            "24/24 [==============================] - 0s 6ms/step - loss: 1.1573 - accuracy: 0.4851 - val_loss: 1.1998 - val_accuracy: 0.4589\n",
            "Epoch 244/400\n",
            "24/24 [==============================] - 0s 7ms/step - loss: 1.1568 - accuracy: 0.4902 - val_loss: 1.1989 - val_accuracy: 0.4651\n",
            "Epoch 245/400\n",
            "24/24 [==============================] - 0s 7ms/step - loss: 1.1567 - accuracy: 0.4868 - val_loss: 1.1998 - val_accuracy: 0.4651\n",
            "Epoch 246/400\n",
            "24/24 [==============================] - 0s 5ms/step - loss: 1.1574 - accuracy: 0.4905 - val_loss: 1.1992 - val_accuracy: 0.4668\n",
            "Epoch 247/400\n",
            "24/24 [==============================] - 0s 7ms/step - loss: 1.1566 - accuracy: 0.4849 - val_loss: 1.1991 - val_accuracy: 0.4634\n",
            "Epoch 248/400\n",
            "24/24 [==============================] - 0s 7ms/step - loss: 1.1557 - accuracy: 0.4866 - val_loss: 1.2002 - val_accuracy: 0.4672\n",
            "Epoch 249/400\n",
            "24/24 [==============================] - 0s 8ms/step - loss: 1.1563 - accuracy: 0.4883 - val_loss: 1.1999 - val_accuracy: 0.4651\n",
            "Epoch 250/400\n",
            "24/24 [==============================] - 0s 7ms/step - loss: 1.1573 - accuracy: 0.4824 - val_loss: 1.1988 - val_accuracy: 0.4638\n",
            "Epoch 251/400\n",
            "24/24 [==============================] - 0s 6ms/step - loss: 1.1566 - accuracy: 0.4904 - val_loss: 1.2007 - val_accuracy: 0.4617\n",
            "Epoch 252/400\n",
            "24/24 [==============================] - 0s 6ms/step - loss: 1.1570 - accuracy: 0.4858 - val_loss: 1.1983 - val_accuracy: 0.4651\n",
            "Epoch 253/400\n",
            "24/24 [==============================] - 0s 4ms/step - loss: 1.1561 - accuracy: 0.4883 - val_loss: 1.1988 - val_accuracy: 0.4617\n",
            "Epoch 254/400\n",
            "24/24 [==============================] - 0s 4ms/step - loss: 1.1567 - accuracy: 0.4876 - val_loss: 1.1985 - val_accuracy: 0.4662\n",
            "Epoch 255/400\n",
            "24/24 [==============================] - 0s 6ms/step - loss: 1.1568 - accuracy: 0.4868 - val_loss: 1.1971 - val_accuracy: 0.4644\n",
            "Epoch 256/400\n",
            "24/24 [==============================] - 0s 4ms/step - loss: 1.1579 - accuracy: 0.4843 - val_loss: 1.2013 - val_accuracy: 0.4620\n",
            "Epoch 257/400\n",
            "24/24 [==============================] - 0s 4ms/step - loss: 1.1561 - accuracy: 0.4856 - val_loss: 1.1998 - val_accuracy: 0.4627\n",
            "Epoch 258/400\n",
            "24/24 [==============================] - 0s 4ms/step - loss: 1.1592 - accuracy: 0.4876 - val_loss: 1.1979 - val_accuracy: 0.4631\n",
            "Epoch 259/400\n",
            "24/24 [==============================] - 0s 4ms/step - loss: 1.1561 - accuracy: 0.4866 - val_loss: 1.1979 - val_accuracy: 0.4638\n",
            "Epoch 260/400\n",
            "24/24 [==============================] - 0s 4ms/step - loss: 1.1567 - accuracy: 0.4904 - val_loss: 1.1981 - val_accuracy: 0.4668\n",
            "Epoch 261/400\n",
            "24/24 [==============================] - 0s 4ms/step - loss: 1.1557 - accuracy: 0.4856 - val_loss: 1.1980 - val_accuracy: 0.4638\n",
            "Epoch 262/400\n",
            "24/24 [==============================] - 0s 4ms/step - loss: 1.1563 - accuracy: 0.4890 - val_loss: 1.2005 - val_accuracy: 0.4665\n",
            "Epoch 263/400\n",
            "24/24 [==============================] - 0s 4ms/step - loss: 1.1576 - accuracy: 0.4843 - val_loss: 1.1991 - val_accuracy: 0.4638\n",
            "Epoch 264/400\n",
            "24/24 [==============================] - 0s 4ms/step - loss: 1.1581 - accuracy: 0.4871 - val_loss: 1.2005 - val_accuracy: 0.4668\n",
            "Epoch 265/400\n",
            "24/24 [==============================] - 0s 5ms/step - loss: 1.1568 - accuracy: 0.4907 - val_loss: 1.1973 - val_accuracy: 0.4648\n",
            "Epoch 266/400\n",
            "24/24 [==============================] - 0s 5ms/step - loss: 1.1559 - accuracy: 0.4888 - val_loss: 1.1984 - val_accuracy: 0.4655\n",
            "Epoch 267/400\n",
            "24/24 [==============================] - 0s 4ms/step - loss: 1.1571 - accuracy: 0.4897 - val_loss: 1.1996 - val_accuracy: 0.4693\n",
            "Epoch 268/400\n",
            "24/24 [==============================] - 0s 4ms/step - loss: 1.1574 - accuracy: 0.4885 - val_loss: 1.1984 - val_accuracy: 0.4641\n",
            "Epoch 269/400\n",
            "24/24 [==============================] - 0s 4ms/step - loss: 1.1557 - accuracy: 0.4854 - val_loss: 1.1979 - val_accuracy: 0.4658\n",
            "Epoch 270/400\n",
            "24/24 [==============================] - 0s 4ms/step - loss: 1.1556 - accuracy: 0.4929 - val_loss: 1.1982 - val_accuracy: 0.4638\n",
            "Epoch 271/400\n",
            "24/24 [==============================] - 0s 4ms/step - loss: 1.1573 - accuracy: 0.4875 - val_loss: 1.1979 - val_accuracy: 0.4651\n",
            "Epoch 272/400\n",
            "24/24 [==============================] - 0s 6ms/step - loss: 1.1592 - accuracy: 0.4858 - val_loss: 1.1984 - val_accuracy: 0.4668\n",
            "Epoch 273/400\n",
            "24/24 [==============================] - 0s 4ms/step - loss: 1.1567 - accuracy: 0.4866 - val_loss: 1.1978 - val_accuracy: 0.4662\n",
            "Epoch 274/400\n",
            "24/24 [==============================] - 0s 4ms/step - loss: 1.1561 - accuracy: 0.4856 - val_loss: 1.1975 - val_accuracy: 0.4672\n",
            "Epoch 275/400\n",
            "24/24 [==============================] - 0s 4ms/step - loss: 1.1561 - accuracy: 0.4892 - val_loss: 1.1972 - val_accuracy: 0.4672\n",
            "Epoch 276/400\n",
            "24/24 [==============================] - 0s 4ms/step - loss: 1.1559 - accuracy: 0.4846 - val_loss: 1.1979 - val_accuracy: 0.4668\n",
            "Epoch 277/400\n",
            "24/24 [==============================] - 0s 4ms/step - loss: 1.1556 - accuracy: 0.4875 - val_loss: 1.1982 - val_accuracy: 0.4641\n",
            "Epoch 278/400\n",
            "24/24 [==============================] - 0s 4ms/step - loss: 1.1557 - accuracy: 0.4892 - val_loss: 1.1969 - val_accuracy: 0.4651\n",
            "Epoch 279/400\n",
            "24/24 [==============================] - 0s 4ms/step - loss: 1.1573 - accuracy: 0.4836 - val_loss: 1.1988 - val_accuracy: 0.4644\n",
            "Epoch 280/400\n",
            "24/24 [==============================] - 0s 4ms/step - loss: 1.1575 - accuracy: 0.4860 - val_loss: 1.1976 - val_accuracy: 0.4607\n",
            "Epoch 281/400\n",
            "24/24 [==============================] - 0s 4ms/step - loss: 1.1557 - accuracy: 0.4865 - val_loss: 1.1978 - val_accuracy: 0.4658\n",
            "Epoch 282/400\n",
            "24/24 [==============================] - 0s 4ms/step - loss: 1.1557 - accuracy: 0.4882 - val_loss: 1.1983 - val_accuracy: 0.4655\n",
            "Epoch 283/400\n",
            "24/24 [==============================] - 0s 4ms/step - loss: 1.1557 - accuracy: 0.4893 - val_loss: 1.1993 - val_accuracy: 0.4665\n",
            "Epoch 284/400\n",
            "24/24 [==============================] - 0s 4ms/step - loss: 1.1573 - accuracy: 0.4861 - val_loss: 1.2018 - val_accuracy: 0.4631\n",
            "Epoch 285/400\n",
            "24/24 [==============================] - 0s 6ms/step - loss: 1.1576 - accuracy: 0.4890 - val_loss: 1.1982 - val_accuracy: 0.4624\n",
            "Epoch 286/400\n",
            "24/24 [==============================] - 0s 7ms/step - loss: 1.1568 - accuracy: 0.4887 - val_loss: 1.1975 - val_accuracy: 0.4651\n",
            "Epoch 287/400\n",
            "24/24 [==============================] - 0s 8ms/step - loss: 1.1559 - accuracy: 0.4888 - val_loss: 1.1980 - val_accuracy: 0.4672\n",
            "Epoch 288/400\n",
            "24/24 [==============================] - 0s 18ms/step - loss: 1.1559 - accuracy: 0.4895 - val_loss: 1.1985 - val_accuracy: 0.4631\n",
            "Epoch 289/400\n",
            "24/24 [==============================] - 0s 14ms/step - loss: 1.1572 - accuracy: 0.4871 - val_loss: 1.1979 - val_accuracy: 0.4665\n",
            "Epoch 290/400\n",
            "24/24 [==============================] - 0s 14ms/step - loss: 1.1564 - accuracy: 0.4892 - val_loss: 1.1971 - val_accuracy: 0.4682\n",
            "Epoch 291/400\n",
            "24/24 [==============================] - 0s 13ms/step - loss: 1.1558 - accuracy: 0.4885 - val_loss: 1.1985 - val_accuracy: 0.4641\n",
            "Epoch 292/400\n",
            "24/24 [==============================] - 0s 13ms/step - loss: 1.1559 - accuracy: 0.4922 - val_loss: 1.1975 - val_accuracy: 0.4620\n",
            "Epoch 293/400\n",
            "24/24 [==============================] - 0s 11ms/step - loss: 1.1562 - accuracy: 0.4853 - val_loss: 1.1969 - val_accuracy: 0.4662\n",
            "Epoch 294/400\n",
            "24/24 [==============================] - 0s 18ms/step - loss: 1.1557 - accuracy: 0.4888 - val_loss: 1.1975 - val_accuracy: 0.4679\n",
            "Epoch 295/400\n",
            "24/24 [==============================] - 0s 17ms/step - loss: 1.1564 - accuracy: 0.4912 - val_loss: 1.1971 - val_accuracy: 0.4658\n",
            "Epoch 296/400\n",
            "24/24 [==============================] - 0s 13ms/step - loss: 1.1559 - accuracy: 0.4873 - val_loss: 1.1966 - val_accuracy: 0.4651\n",
            "Epoch 297/400\n",
            "24/24 [==============================] - 0s 8ms/step - loss: 1.1560 - accuracy: 0.4880 - val_loss: 1.1987 - val_accuracy: 0.4641\n",
            "Epoch 298/400\n",
            "24/24 [==============================] - 0s 10ms/step - loss: 1.1560 - accuracy: 0.4873 - val_loss: 1.1987 - val_accuracy: 0.4617\n",
            "Epoch 299/400\n",
            "24/24 [==============================] - 0s 14ms/step - loss: 1.1550 - accuracy: 0.4897 - val_loss: 1.1979 - val_accuracy: 0.4672\n",
            "Epoch 300/400\n",
            "24/24 [==============================] - 0s 9ms/step - loss: 1.1571 - accuracy: 0.4890 - val_loss: 1.1983 - val_accuracy: 0.4614\n",
            "Epoch 301/400\n",
            "24/24 [==============================] - 0s 11ms/step - loss: 1.1556 - accuracy: 0.4895 - val_loss: 1.2000 - val_accuracy: 0.4634\n",
            "Epoch 302/400\n",
            "24/24 [==============================] - 0s 12ms/step - loss: 1.1554 - accuracy: 0.4904 - val_loss: 1.1969 - val_accuracy: 0.4672\n",
            "Epoch 303/400\n",
            "24/24 [==============================] - 0s 9ms/step - loss: 1.1557 - accuracy: 0.4914 - val_loss: 1.1990 - val_accuracy: 0.4648\n",
            "Epoch 304/400\n",
            "24/24 [==============================] - 0s 11ms/step - loss: 1.1556 - accuracy: 0.4892 - val_loss: 1.1981 - val_accuracy: 0.4634\n",
            "Epoch 305/400\n",
            "24/24 [==============================] - 0s 8ms/step - loss: 1.1558 - accuracy: 0.4863 - val_loss: 1.1977 - val_accuracy: 0.4651\n",
            "Epoch 306/400\n",
            "24/24 [==============================] - 0s 12ms/step - loss: 1.1554 - accuracy: 0.4876 - val_loss: 1.1982 - val_accuracy: 0.4644\n",
            "Epoch 307/400\n",
            "24/24 [==============================] - 0s 10ms/step - loss: 1.1567 - accuracy: 0.4898 - val_loss: 1.1980 - val_accuracy: 0.4644\n",
            "Epoch 308/400\n",
            "24/24 [==============================] - 0s 9ms/step - loss: 1.1557 - accuracy: 0.4870 - val_loss: 1.1978 - val_accuracy: 0.4641\n",
            "Epoch 309/400\n",
            "24/24 [==============================] - 0s 16ms/step - loss: 1.1567 - accuracy: 0.4853 - val_loss: 1.1992 - val_accuracy: 0.4651\n",
            "Epoch 310/400\n",
            "24/24 [==============================] - 0s 15ms/step - loss: 1.1556 - accuracy: 0.4875 - val_loss: 1.1968 - val_accuracy: 0.4634\n",
            "Epoch 311/400\n",
            "24/24 [==============================] - 0s 13ms/step - loss: 1.1555 - accuracy: 0.4887 - val_loss: 1.1975 - val_accuracy: 0.4624\n",
            "Epoch 312/400\n",
            "24/24 [==============================] - 0s 4ms/step - loss: 1.1558 - accuracy: 0.4888 - val_loss: 1.1973 - val_accuracy: 0.4651\n",
            "Epoch 313/400\n",
            "24/24 [==============================] - 0s 4ms/step - loss: 1.1551 - accuracy: 0.4912 - val_loss: 1.1977 - val_accuracy: 0.4655\n",
            "Epoch 314/400\n",
            "24/24 [==============================] - 0s 4ms/step - loss: 1.1555 - accuracy: 0.4878 - val_loss: 1.1974 - val_accuracy: 0.4658\n",
            "Epoch 315/400\n",
            "24/24 [==============================] - 0s 4ms/step - loss: 1.1568 - accuracy: 0.4851 - val_loss: 1.1995 - val_accuracy: 0.4614\n",
            "Epoch 316/400\n",
            "24/24 [==============================] - 0s 5ms/step - loss: 1.1562 - accuracy: 0.4890 - val_loss: 1.1986 - val_accuracy: 0.4648\n",
            "Epoch 317/400\n",
            "24/24 [==============================] - 0s 4ms/step - loss: 1.1569 - accuracy: 0.4865 - val_loss: 1.1980 - val_accuracy: 0.4607\n",
            "Epoch 318/400\n",
            "24/24 [==============================] - 0s 4ms/step - loss: 1.1561 - accuracy: 0.4871 - val_loss: 1.1991 - val_accuracy: 0.4648\n",
            "Epoch 319/400\n",
            "24/24 [==============================] - 0s 4ms/step - loss: 1.1568 - accuracy: 0.4882 - val_loss: 1.1977 - val_accuracy: 0.4675\n",
            "Epoch 320/400\n",
            "24/24 [==============================] - 0s 4ms/step - loss: 1.1559 - accuracy: 0.4919 - val_loss: 1.1984 - val_accuracy: 0.4644\n",
            "Epoch 321/400\n",
            "24/24 [==============================] - 0s 4ms/step - loss: 1.1558 - accuracy: 0.4880 - val_loss: 1.1993 - val_accuracy: 0.4644\n",
            "Epoch 322/400\n",
            "24/24 [==============================] - 0s 4ms/step - loss: 1.1554 - accuracy: 0.4883 - val_loss: 1.1980 - val_accuracy: 0.4638\n",
            "Epoch 323/400\n",
            "24/24 [==============================] - 0s 4ms/step - loss: 1.1560 - accuracy: 0.4887 - val_loss: 1.1982 - val_accuracy: 0.4617\n",
            "Epoch 324/400\n",
            "24/24 [==============================] - 0s 4ms/step - loss: 1.1557 - accuracy: 0.4905 - val_loss: 1.1978 - val_accuracy: 0.4710\n",
            "Epoch 325/400\n",
            "24/24 [==============================] - 0s 4ms/step - loss: 1.1560 - accuracy: 0.4905 - val_loss: 1.1995 - val_accuracy: 0.4648\n",
            "Epoch 326/400\n",
            "24/24 [==============================] - 0s 5ms/step - loss: 1.1556 - accuracy: 0.4910 - val_loss: 1.1997 - val_accuracy: 0.4638\n",
            "Epoch 327/400\n",
            "24/24 [==============================] - 0s 5ms/step - loss: 1.1556 - accuracy: 0.4937 - val_loss: 1.1981 - val_accuracy: 0.4682\n",
            "Epoch 328/400\n",
            "24/24 [==============================] - 0s 4ms/step - loss: 1.1561 - accuracy: 0.4883 - val_loss: 1.1975 - val_accuracy: 0.4620\n",
            "Epoch 329/400\n",
            "24/24 [==============================] - 0s 4ms/step - loss: 1.1554 - accuracy: 0.4888 - val_loss: 1.1972 - val_accuracy: 0.4662\n",
            "Epoch 330/400\n",
            "24/24 [==============================] - 0s 4ms/step - loss: 1.1559 - accuracy: 0.4883 - val_loss: 1.1979 - val_accuracy: 0.4651\n",
            "Epoch 331/400\n",
            "24/24 [==============================] - 0s 5ms/step - loss: 1.1566 - accuracy: 0.4854 - val_loss: 1.1980 - val_accuracy: 0.4638\n",
            "Epoch 332/400\n",
            "24/24 [==============================] - 0s 5ms/step - loss: 1.1556 - accuracy: 0.4897 - val_loss: 1.1986 - val_accuracy: 0.4665\n",
            "Epoch 333/400\n",
            "24/24 [==============================] - 0s 5ms/step - loss: 1.1553 - accuracy: 0.4895 - val_loss: 1.1985 - val_accuracy: 0.4617\n",
            "Epoch 334/400\n",
            "24/24 [==============================] - 0s 5ms/step - loss: 1.1558 - accuracy: 0.4856 - val_loss: 1.1974 - val_accuracy: 0.4668\n",
            "Epoch 335/400\n",
            "24/24 [==============================] - 0s 5ms/step - loss: 1.1564 - accuracy: 0.4887 - val_loss: 1.1972 - val_accuracy: 0.4679\n",
            "Epoch 336/400\n",
            "24/24 [==============================] - 0s 4ms/step - loss: 1.1563 - accuracy: 0.4876 - val_loss: 1.1985 - val_accuracy: 0.4617\n",
            "Epoch 337/400\n",
            "24/24 [==============================] - 0s 4ms/step - loss: 1.1565 - accuracy: 0.4904 - val_loss: 1.2001 - val_accuracy: 0.4627\n",
            "Epoch 338/400\n",
            "24/24 [==============================] - 0s 4ms/step - loss: 1.1560 - accuracy: 0.4846 - val_loss: 1.1982 - val_accuracy: 0.4651\n",
            "Epoch 339/400\n",
            "24/24 [==============================] - 0s 4ms/step - loss: 1.1554 - accuracy: 0.4868 - val_loss: 1.1980 - val_accuracy: 0.4665\n",
            "Epoch 340/400\n",
            "24/24 [==============================] - 0s 6ms/step - loss: 1.1579 - accuracy: 0.4851 - val_loss: 1.2008 - val_accuracy: 0.4634\n",
            "Epoch 341/400\n",
            "24/24 [==============================] - 0s 4ms/step - loss: 1.1561 - accuracy: 0.4885 - val_loss: 1.1980 - val_accuracy: 0.4641\n",
            "Epoch 342/400\n",
            "24/24 [==============================] - 0s 7ms/step - loss: 1.1566 - accuracy: 0.4853 - val_loss: 1.2004 - val_accuracy: 0.4614\n",
            "Epoch 343/400\n",
            "24/24 [==============================] - 0s 8ms/step - loss: 1.1562 - accuracy: 0.4878 - val_loss: 1.1987 - val_accuracy: 0.4644\n",
            "Epoch 344/400\n",
            "24/24 [==============================] - 0s 7ms/step - loss: 1.1557 - accuracy: 0.4880 - val_loss: 1.1985 - val_accuracy: 0.4644\n",
            "Epoch 345/400\n",
            "24/24 [==============================] - 0s 7ms/step - loss: 1.1557 - accuracy: 0.4905 - val_loss: 1.1982 - val_accuracy: 0.4668\n",
            "Epoch 346/400\n",
            "24/24 [==============================] - 0s 8ms/step - loss: 1.1564 - accuracy: 0.4936 - val_loss: 1.1997 - val_accuracy: 0.4631\n",
            "Epoch 347/400\n",
            "24/24 [==============================] - 0s 5ms/step - loss: 1.1562 - accuracy: 0.4873 - val_loss: 1.1979 - val_accuracy: 0.4638\n",
            "Epoch 348/400\n",
            "24/24 [==============================] - 0s 7ms/step - loss: 1.1576 - accuracy: 0.4892 - val_loss: 1.1975 - val_accuracy: 0.4682\n",
            "Epoch 349/400\n",
            "24/24 [==============================] - 0s 7ms/step - loss: 1.1577 - accuracy: 0.4932 - val_loss: 1.1979 - val_accuracy: 0.4665\n",
            "Epoch 350/400\n",
            "24/24 [==============================] - 0s 5ms/step - loss: 1.1564 - accuracy: 0.4895 - val_loss: 1.1972 - val_accuracy: 0.4644\n",
            "Epoch 351/400\n",
            "24/24 [==============================] - 0s 7ms/step - loss: 1.1553 - accuracy: 0.4892 - val_loss: 1.1973 - val_accuracy: 0.4641\n",
            "Epoch 352/400\n",
            "24/24 [==============================] - 0s 7ms/step - loss: 1.1567 - accuracy: 0.4875 - val_loss: 1.1972 - val_accuracy: 0.4644\n",
            "Epoch 353/400\n",
            "24/24 [==============================] - 0s 5ms/step - loss: 1.1567 - accuracy: 0.4897 - val_loss: 1.1982 - val_accuracy: 0.4614\n",
            "Epoch 354/400\n",
            "24/24 [==============================] - 0s 7ms/step - loss: 1.1563 - accuracy: 0.4895 - val_loss: 1.1980 - val_accuracy: 0.4634\n",
            "Epoch 355/400\n",
            "24/24 [==============================] - 0s 8ms/step - loss: 1.1568 - accuracy: 0.4849 - val_loss: 1.1986 - val_accuracy: 0.4651\n",
            "Epoch 356/400\n",
            "24/24 [==============================] - 0s 9ms/step - loss: 1.1562 - accuracy: 0.4838 - val_loss: 1.1981 - val_accuracy: 0.4634\n",
            "Epoch 357/400\n",
            "24/24 [==============================] - 0s 8ms/step - loss: 1.1564 - accuracy: 0.4909 - val_loss: 1.1987 - val_accuracy: 0.4627\n",
            "Epoch 358/400\n",
            "24/24 [==============================] - 0s 8ms/step - loss: 1.1565 - accuracy: 0.4902 - val_loss: 1.1974 - val_accuracy: 0.4658\n",
            "Epoch 359/400\n",
            "24/24 [==============================] - 0s 7ms/step - loss: 1.1553 - accuracy: 0.4888 - val_loss: 1.1984 - val_accuracy: 0.4617\n",
            "Epoch 360/400\n",
            "24/24 [==============================] - 0s 8ms/step - loss: 1.1565 - accuracy: 0.4880 - val_loss: 1.2014 - val_accuracy: 0.4603\n",
            "Epoch 361/400\n",
            "24/24 [==============================] - 0s 9ms/step - loss: 1.1584 - accuracy: 0.4892 - val_loss: 1.1979 - val_accuracy: 0.4634\n",
            "Epoch 362/400\n",
            "24/24 [==============================] - 0s 9ms/step - loss: 1.1555 - accuracy: 0.4898 - val_loss: 1.1990 - val_accuracy: 0.4651\n",
            "Epoch 363/400\n",
            "24/24 [==============================] - 0s 7ms/step - loss: 1.1554 - accuracy: 0.4897 - val_loss: 1.1980 - val_accuracy: 0.4658\n",
            "Epoch 364/400\n",
            "24/24 [==============================] - 0s 7ms/step - loss: 1.1553 - accuracy: 0.4895 - val_loss: 1.1973 - val_accuracy: 0.4648\n",
            "Epoch 365/400\n",
            "24/24 [==============================] - 0s 7ms/step - loss: 1.1558 - accuracy: 0.4888 - val_loss: 1.1981 - val_accuracy: 0.4655\n",
            "Epoch 366/400\n",
            "24/24 [==============================] - 0s 8ms/step - loss: 1.1554 - accuracy: 0.4893 - val_loss: 1.1994 - val_accuracy: 0.4620\n",
            "Epoch 367/400\n",
            "24/24 [==============================] - 0s 9ms/step - loss: 1.1557 - accuracy: 0.4892 - val_loss: 1.1972 - val_accuracy: 0.4644\n",
            "Epoch 368/400\n",
            "24/24 [==============================] - 0s 8ms/step - loss: 1.1553 - accuracy: 0.4878 - val_loss: 1.1968 - val_accuracy: 0.4638\n",
            "Epoch 369/400\n",
            "24/24 [==============================] - 0s 8ms/step - loss: 1.1553 - accuracy: 0.4900 - val_loss: 1.1980 - val_accuracy: 0.4634\n",
            "Epoch 370/400\n",
            "24/24 [==============================] - 0s 8ms/step - loss: 1.1561 - accuracy: 0.4898 - val_loss: 1.1981 - val_accuracy: 0.4617\n",
            "Epoch 371/400\n",
            "24/24 [==============================] - 0s 8ms/step - loss: 1.1550 - accuracy: 0.4893 - val_loss: 1.1977 - val_accuracy: 0.4651\n",
            "Epoch 372/400\n",
            "24/24 [==============================] - 0s 9ms/step - loss: 1.1560 - accuracy: 0.4893 - val_loss: 1.1965 - val_accuracy: 0.4662\n",
            "Epoch 373/400\n",
            "24/24 [==============================] - 0s 6ms/step - loss: 1.1555 - accuracy: 0.4871 - val_loss: 1.1974 - val_accuracy: 0.4651\n",
            "Epoch 374/400\n",
            "24/24 [==============================] - 0s 8ms/step - loss: 1.1555 - accuracy: 0.4878 - val_loss: 1.1971 - val_accuracy: 0.4641\n",
            "Epoch 375/400\n",
            "24/24 [==============================] - 0s 8ms/step - loss: 1.1568 - accuracy: 0.4876 - val_loss: 1.1991 - val_accuracy: 0.4693\n",
            "Epoch 376/400\n",
            "24/24 [==============================] - 0s 8ms/step - loss: 1.1566 - accuracy: 0.4843 - val_loss: 1.1992 - val_accuracy: 0.4641\n",
            "Epoch 377/400\n",
            "24/24 [==============================] - 0s 8ms/step - loss: 1.1557 - accuracy: 0.4909 - val_loss: 1.1974 - val_accuracy: 0.4627\n",
            "Epoch 378/400\n",
            "24/24 [==============================] - 0s 8ms/step - loss: 1.1558 - accuracy: 0.4902 - val_loss: 1.1982 - val_accuracy: 0.4641\n",
            "Epoch 379/400\n",
            "24/24 [==============================] - 0s 8ms/step - loss: 1.1556 - accuracy: 0.4890 - val_loss: 1.1969 - val_accuracy: 0.4655\n",
            "Epoch 380/400\n",
            "24/24 [==============================] - 0s 8ms/step - loss: 1.1561 - accuracy: 0.4885 - val_loss: 1.1970 - val_accuracy: 0.4648\n",
            "Epoch 381/400\n",
            "24/24 [==============================] - 0s 8ms/step - loss: 1.1554 - accuracy: 0.4915 - val_loss: 1.1969 - val_accuracy: 0.4624\n",
            "Epoch 382/400\n",
            "24/24 [==============================] - 0s 8ms/step - loss: 1.1557 - accuracy: 0.4880 - val_loss: 1.1972 - val_accuracy: 0.4641\n",
            "Epoch 383/400\n",
            "24/24 [==============================] - 0s 8ms/step - loss: 1.1561 - accuracy: 0.4902 - val_loss: 1.1978 - val_accuracy: 0.4693\n",
            "Epoch 384/400\n",
            "24/24 [==============================] - 0s 8ms/step - loss: 1.1576 - accuracy: 0.4854 - val_loss: 1.1987 - val_accuracy: 0.4658\n",
            "Epoch 385/400\n",
            "24/24 [==============================] - 0s 8ms/step - loss: 1.1561 - accuracy: 0.4880 - val_loss: 1.1982 - val_accuracy: 0.4686\n",
            "Epoch 386/400\n",
            "24/24 [==============================] - 0s 6ms/step - loss: 1.1556 - accuracy: 0.4880 - val_loss: 1.1984 - val_accuracy: 0.4668\n",
            "Epoch 387/400\n",
            "24/24 [==============================] - 0s 7ms/step - loss: 1.1553 - accuracy: 0.4907 - val_loss: 1.1994 - val_accuracy: 0.4631\n",
            "Epoch 388/400\n",
            "24/24 [==============================] - 0s 7ms/step - loss: 1.1560 - accuracy: 0.4931 - val_loss: 1.1986 - val_accuracy: 0.4679\n",
            "Epoch 389/400\n",
            "24/24 [==============================] - 0s 8ms/step - loss: 1.1555 - accuracy: 0.4890 - val_loss: 1.1983 - val_accuracy: 0.4634\n",
            "Epoch 390/400\n",
            "24/24 [==============================] - 0s 6ms/step - loss: 1.1561 - accuracy: 0.4890 - val_loss: 1.1977 - val_accuracy: 0.4675\n",
            "Epoch 391/400\n",
            "24/24 [==============================] - 0s 4ms/step - loss: 1.1550 - accuracy: 0.4936 - val_loss: 1.1983 - val_accuracy: 0.4648\n",
            "Epoch 392/400\n",
            "24/24 [==============================] - 0s 4ms/step - loss: 1.1571 - accuracy: 0.4885 - val_loss: 1.1988 - val_accuracy: 0.4675\n",
            "Epoch 393/400\n",
            "24/24 [==============================] - 0s 4ms/step - loss: 1.1568 - accuracy: 0.4909 - val_loss: 1.1992 - val_accuracy: 0.4610\n",
            "Epoch 394/400\n",
            "24/24 [==============================] - 0s 5ms/step - loss: 1.1555 - accuracy: 0.4900 - val_loss: 1.1991 - val_accuracy: 0.4644\n",
            "Epoch 395/400\n",
            "24/24 [==============================] - 0s 4ms/step - loss: 1.1552 - accuracy: 0.4902 - val_loss: 1.1992 - val_accuracy: 0.4686\n",
            "Epoch 396/400\n",
            "24/24 [==============================] - 0s 4ms/step - loss: 1.1552 - accuracy: 0.4863 - val_loss: 1.1980 - val_accuracy: 0.4644\n",
            "Epoch 397/400\n",
            "24/24 [==============================] - 0s 4ms/step - loss: 1.1573 - accuracy: 0.4878 - val_loss: 1.1984 - val_accuracy: 0.4662\n",
            "Epoch 398/400\n",
            "24/24 [==============================] - 0s 4ms/step - loss: 1.1550 - accuracy: 0.4909 - val_loss: 1.1994 - val_accuracy: 0.4624\n",
            "Epoch 399/400\n",
            "24/24 [==============================] - 0s 6ms/step - loss: 1.1568 - accuracy: 0.4907 - val_loss: 1.1989 - val_accuracy: 0.4668\n",
            "Epoch 400/400\n",
            "24/24 [==============================] - 0s 5ms/step - loss: 1.1560 - accuracy: 0.4897 - val_loss: 1.1991 - val_accuracy: 0.4634\n"
          ]
        },
        {
          "data": {
            "text/plain": [
              "<keras.callbacks.History at 0x7899c20af4f0>"
            ]
          },
          "execution_count": 59,
          "metadata": {},
          "output_type": "execute_result"
        }
      ],
      "source": [
        "ai_brain.fit(x=X_train_scaled,y=y_train,\n",
        "             epochs=500,batch_size=256,\n",
        "             validation_data=(X_test_scaled,y_test),\n",
        "             )"
      ]
    },
    {
      "cell_type": "code",
      "execution_count": null,
      "metadata": {
        "id": "XWIYu0cVCMHi"
      },
      "outputs": [],
      "source": [
        "metrics = pd.DataFrame(ai_brain.history.history)"
      ]
    },
    {
      "cell_type": "code",
      "execution_count": null,
      "metadata": {
        "colab": {
          "base_uri": "https://localhost:8080/",
          "height": 206
        },
        "id": "JoK65PqSCVwA",
        "outputId": "2f9ae960-31aa-4908-e112-dee06a4a3449"
      },
      "outputs": [
        {
          "data": {
            "text/html": [
              "\n",
              "  <div id=\"df-51805ed8-6189-4e54-a12b-e8e66d2b924e\" class=\"colab-df-container\">\n",
              "    <div>\n",
              "<style scoped>\n",
              "    .dataframe tbody tr th:only-of-type {\n",
              "        vertical-align: middle;\n",
              "    }\n",
              "\n",
              "    .dataframe tbody tr th {\n",
              "        vertical-align: top;\n",
              "    }\n",
              "\n",
              "    .dataframe thead th {\n",
              "        text-align: right;\n",
              "    }\n",
              "</style>\n",
              "<table border=\"1\" class=\"dataframe\">\n",
              "  <thead>\n",
              "    <tr style=\"text-align: right;\">\n",
              "      <th></th>\n",
              "      <th>loss</th>\n",
              "      <th>accuracy</th>\n",
              "      <th>val_loss</th>\n",
              "      <th>val_accuracy</th>\n",
              "    </tr>\n",
              "  </thead>\n",
              "  <tbody>\n",
              "    <tr>\n",
              "      <th>0</th>\n",
              "      <td>1.157493</td>\n",
              "      <td>0.487136</td>\n",
              "      <td>1.198848</td>\n",
              "      <td>0.465819</td>\n",
              "    </tr>\n",
              "    <tr>\n",
              "      <th>1</th>\n",
              "      <td>1.158837</td>\n",
              "      <td>0.482397</td>\n",
              "      <td>1.198965</td>\n",
              "      <td>0.465819</td>\n",
              "    </tr>\n",
              "    <tr>\n",
              "      <th>2</th>\n",
              "      <td>1.157597</td>\n",
              "      <td>0.486798</td>\n",
              "      <td>1.199478</td>\n",
              "      <td>0.467880</td>\n",
              "    </tr>\n",
              "    <tr>\n",
              "      <th>3</th>\n",
              "      <td>1.158142</td>\n",
              "      <td>0.482905</td>\n",
              "      <td>1.200812</td>\n",
              "      <td>0.463758</td>\n",
              "    </tr>\n",
              "    <tr>\n",
              "      <th>4</th>\n",
              "      <td>1.157422</td>\n",
              "      <td>0.485274</td>\n",
              "      <td>1.199024</td>\n",
              "      <td>0.467193</td>\n",
              "    </tr>\n",
              "  </tbody>\n",
              "</table>\n",
              "</div>\n",
              "    <div class=\"colab-df-buttons\">\n",
              "\n",
              "  <div class=\"colab-df-container\">\n",
              "    <button class=\"colab-df-convert\" onclick=\"convertToInteractive('df-51805ed8-6189-4e54-a12b-e8e66d2b924e')\"\n",
              "            title=\"Convert this dataframe to an interactive table.\"\n",
              "            style=\"display:none;\">\n",
              "\n",
              "  <svg xmlns=\"http://www.w3.org/2000/svg\" height=\"24px\" viewBox=\"0 -960 960 960\">\n",
              "    <path d=\"M120-120v-720h720v720H120Zm60-500h600v-160H180v160Zm220 220h160v-160H400v160Zm0 220h160v-160H400v160ZM180-400h160v-160H180v160Zm440 0h160v-160H620v160ZM180-180h160v-160H180v160Zm440 0h160v-160H620v160Z\"/>\n",
              "  </svg>\n",
              "    </button>\n",
              "\n",
              "  <style>\n",
              "    .colab-df-container {\n",
              "      display:flex;\n",
              "      gap: 12px;\n",
              "    }\n",
              "\n",
              "    .colab-df-convert {\n",
              "      background-color: #E8F0FE;\n",
              "      border: none;\n",
              "      border-radius: 50%;\n",
              "      cursor: pointer;\n",
              "      display: none;\n",
              "      fill: #1967D2;\n",
              "      height: 32px;\n",
              "      padding: 0 0 0 0;\n",
              "      width: 32px;\n",
              "    }\n",
              "\n",
              "    .colab-df-convert:hover {\n",
              "      background-color: #E2EBFA;\n",
              "      box-shadow: 0px 1px 2px rgba(60, 64, 67, 0.3), 0px 1px 3px 1px rgba(60, 64, 67, 0.15);\n",
              "      fill: #174EA6;\n",
              "    }\n",
              "\n",
              "    .colab-df-buttons div {\n",
              "      margin-bottom: 4px;\n",
              "    }\n",
              "\n",
              "    [theme=dark] .colab-df-convert {\n",
              "      background-color: #3B4455;\n",
              "      fill: #D2E3FC;\n",
              "    }\n",
              "\n",
              "    [theme=dark] .colab-df-convert:hover {\n",
              "      background-color: #434B5C;\n",
              "      box-shadow: 0px 1px 3px 1px rgba(0, 0, 0, 0.15);\n",
              "      filter: drop-shadow(0px 1px 2px rgba(0, 0, 0, 0.3));\n",
              "      fill: #FFFFFF;\n",
              "    }\n",
              "  </style>\n",
              "\n",
              "    <script>\n",
              "      const buttonEl =\n",
              "        document.querySelector('#df-51805ed8-6189-4e54-a12b-e8e66d2b924e button.colab-df-convert');\n",
              "      buttonEl.style.display =\n",
              "        google.colab.kernel.accessAllowed ? 'block' : 'none';\n",
              "\n",
              "      async function convertToInteractive(key) {\n",
              "        const element = document.querySelector('#df-51805ed8-6189-4e54-a12b-e8e66d2b924e');\n",
              "        const dataTable =\n",
              "          await google.colab.kernel.invokeFunction('convertToInteractive',\n",
              "                                                    [key], {});\n",
              "        if (!dataTable) return;\n",
              "\n",
              "        const docLinkHtml = 'Like what you see? Visit the ' +\n",
              "          '<a target=\"_blank\" href=https://colab.research.google.com/notebooks/data_table.ipynb>data table notebook</a>'\n",
              "          + ' to learn more about interactive tables.';\n",
              "        element.innerHTML = '';\n",
              "        dataTable['output_type'] = 'display_data';\n",
              "        await google.colab.output.renderOutput(dataTable, element);\n",
              "        const docLink = document.createElement('div');\n",
              "        docLink.innerHTML = docLinkHtml;\n",
              "        element.appendChild(docLink);\n",
              "      }\n",
              "    </script>\n",
              "  </div>\n",
              "\n",
              "\n",
              "<div id=\"df-60a4cfa5-50c4-4c60-b106-6f8ba25b109b\">\n",
              "  <button class=\"colab-df-quickchart\" onclick=\"quickchart('df-60a4cfa5-50c4-4c60-b106-6f8ba25b109b')\"\n",
              "            title=\"Suggest charts.\"\n",
              "            style=\"display:none;\">\n",
              "\n",
              "<svg xmlns=\"http://www.w3.org/2000/svg\" height=\"24px\"viewBox=\"0 0 24 24\"\n",
              "     width=\"24px\">\n",
              "    <g>\n",
              "        <path d=\"M19 3H5c-1.1 0-2 .9-2 2v14c0 1.1.9 2 2 2h14c1.1 0 2-.9 2-2V5c0-1.1-.9-2-2-2zM9 17H7v-7h2v7zm4 0h-2V7h2v10zm4 0h-2v-4h2v4z\"/>\n",
              "    </g>\n",
              "</svg>\n",
              "  </button>\n",
              "\n",
              "<style>\n",
              "  .colab-df-quickchart {\n",
              "    background-color: #E8F0FE;\n",
              "    border: none;\n",
              "    border-radius: 50%;\n",
              "    cursor: pointer;\n",
              "    display: none;\n",
              "    fill: #1967D2;\n",
              "    height: 32px;\n",
              "    padding: 0 0 0 0;\n",
              "    width: 32px;\n",
              "  }\n",
              "\n",
              "  .colab-df-quickchart:hover {\n",
              "    background-color: #E2EBFA;\n",
              "    box-shadow: 0px 1px 2px rgba(60, 64, 67, 0.3), 0px 1px 3px 1px rgba(60, 64, 67, 0.15);\n",
              "    fill: #174EA6;\n",
              "  }\n",
              "\n",
              "  [theme=dark] .colab-df-quickchart {\n",
              "    background-color: #3B4455;\n",
              "    fill: #D2E3FC;\n",
              "  }\n",
              "\n",
              "  [theme=dark] .colab-df-quickchart:hover {\n",
              "    background-color: #434B5C;\n",
              "    box-shadow: 0px 1px 3px 1px rgba(0, 0, 0, 0.15);\n",
              "    filter: drop-shadow(0px 1px 2px rgba(0, 0, 0, 0.3));\n",
              "    fill: #FFFFFF;\n",
              "  }\n",
              "</style>\n",
              "\n",
              "  <script>\n",
              "    async function quickchart(key) {\n",
              "      const charts = await google.colab.kernel.invokeFunction(\n",
              "          'suggestCharts', [key], {});\n",
              "    }\n",
              "    (() => {\n",
              "      let quickchartButtonEl =\n",
              "        document.querySelector('#df-60a4cfa5-50c4-4c60-b106-6f8ba25b109b button');\n",
              "      quickchartButtonEl.style.display =\n",
              "        google.colab.kernel.accessAllowed ? 'block' : 'none';\n",
              "    })();\n",
              "  </script>\n",
              "</div>\n",
              "    </div>\n",
              "  </div>\n"
            ],
            "text/plain": [
              "       loss  accuracy  val_loss  val_accuracy\n",
              "0  1.157493  0.487136  1.198848      0.465819\n",
              "1  1.158837  0.482397  1.198965      0.465819\n",
              "2  1.157597  0.486798  1.199478      0.467880\n",
              "3  1.158142  0.482905  1.200812      0.463758\n",
              "4  1.157422  0.485274  1.199024      0.467193"
            ]
          },
          "execution_count": 56,
          "metadata": {},
          "output_type": "execute_result"
        }
      ],
      "source": [
        "metrics.head()"
      ]
    },
    {
      "cell_type": "code",
      "execution_count": null,
      "metadata": {
        "colab": {
          "base_uri": "https://localhost:8080/",
          "height": 448
        },
        "id": "LxuwwyBsRfbM",
        "outputId": "846c579a-d833-4adc-c1db-d490eb3959be"
      },
      "outputs": [
        {
          "data": {
            "text/plain": [
              "<Axes: >"
            ]
          },
          "execution_count": 57,
          "metadata": {},
          "output_type": "execute_result"
        },
        {
          "data": {
            "image/png": "[encoded data removed]",
            "text/plain": [
              "<Figure size 640x480 with 1 Axes>"
            ]
          },
          "metadata": {},
          "output_type": "display_data"
        }
      ],
      "source": [
        "metrics[['accuracy','val_accuracy']].plot()"
      ]
    },
    {
      "cell_type": "code",
      "execution_count": null,
      "metadata": {
        "colab": {
          "base_uri": "https://localhost:8080/",
          "height": 448
        },
        "id": "jVxfa3AjCdC6",
        "outputId": "b55d124a-fd5c-4fa4-e9e1-07a20426a0e6"
      },
      "outputs": [
        {
          "data": {
            "text/plain": [
              "<Axes: >"
            ]
          },
          "execution_count": 58,
          "metadata": {},
          "output_type": "execute_result"
        },
        {
          "data": {
            "image/png": "[encoded data removed]",
            "text/plain": [
              "<Figure size 640x480 with 1 Axes>"
            ]
          },
          "metadata": {},
          "output_type": "display_data"
        }
      ],
      "source": [
        "metrics[['loss','val_loss']].plot()"
      ]
    },
    {
      "cell_type": "code",
      "execution_count": null,
      "metadata": {
        "id": "e3JPiqIff6xx"
      },
      "outputs": [],
      "source": []
    },
    {
      "cell_type": "code",
      "execution_count": null,
      "metadata": {
        "colab": {
          "base_uri": "https://localhost:8080/"
        },
        "id": "Xj5YxQEaIHq4",
        "outputId": "919cbec8-cdbd-4ced-ce04-43c64424dc44"
      },
      "outputs": [
        {
          "name": "stdout",
          "output_type": "stream",
          "text": [
            "91/91 [==============================] - 0s 1ms/step\n"
          ]
        }
      ],
      "source": [
        "# Sequential predict_classes function is deprecated\n",
        "# predictions = ai_brain.predict_classes(X_test)\n",
        "x_test_predictions = np.argmax(ai_brain.predict(X_test_scaled), axis=1)"
      ]
    },
    {
      "cell_type": "code",
      "execution_count": null,
      "metadata": {
        "colab": {
          "base_uri": "https://localhost:8080/"
        },
        "id": "XdilP28rHCvQ",
        "outputId": "2d2849da-b9b4-4dfb-8afe-5e924b344096"
      },
      "outputs": [
        {
          "data": {
            "text/plain": [
              "(2911,)"
            ]
          },
          "execution_count": 54,
          "metadata": {},
          "output_type": "execute_result"
        }
      ],
      "source": [
        "x_test_predictions.shape"
      ]
    },
    {
      "cell_type": "code",
      "execution_count": null,
      "metadata": {
        "id": "0vr_nvseHEyw"
      },
      "outputs": [],
      "source": [
        "y_test_truevalue = np.argmax(y_test,axis=1)"
      ]
    },
    {
      "cell_type": "code",
      "execution_count": null,
      "metadata": {
        "colab": {
          "base_uri": "https://localhost:8080/"
        },
        "id": "HUQG_Ig3HHeh",
        "outputId": "ef740d59-a615-46d7-f665-f82a9bc57bb2"
      },
      "outputs": [
        {
          "data": {
            "text/plain": [
              "(2911,)"
            ]
          },
          "execution_count": 56,
          "metadata": {},
          "output_type": "execute_result"
        }
      ],
      "source": [
        "y_test_truevalue.shape"
      ]
    },
    {
      "cell_type": "code",
      "execution_count": null,
      "metadata": {
        "colab": {
          "base_uri": "https://localhost:8080/"
        },
        "id": "OwWh0Yz0PlHH",
        "outputId": "487a1559-dad3-48c6-dcea-f42eb8609134"
      },
      "outputs": [
        {
          "name": "stdout",
          "output_type": "stream",
          "text": [
            "[[332 134 124 167]\n",
            " [203 165 209 109]\n",
            " [119 128 355  84]\n",
            " [167  70  67 478]]\n"
          ]
        }
      ],
      "source": [
        "print(confusion_matrix(y_test_truevalue,x_test_predictions))"
      ]
    },
    {
      "cell_type": "code",
      "execution_count": null,
      "metadata": {
        "colab": {
          "base_uri": "https://localhost:8080/"
        },
        "id": "Pv4c-JT1IR-o",
        "outputId": "8f002af2-8597-46eb-cfb9-00ec425be2a3"
      },
      "outputs": [
        {
          "name": "stdout",
          "output_type": "stream",
          "text": [
            "              precision    recall  f1-score   support\n",
            "\n",
            "           0       0.40      0.44      0.42       757\n",
            "           1       0.33      0.24      0.28       686\n",
            "           2       0.47      0.52      0.49       686\n",
            "           3       0.57      0.61      0.59       782\n",
            "\n",
            "    accuracy                           0.46      2911\n",
            "   macro avg       0.44      0.45      0.45      2911\n",
            "weighted avg       0.45      0.46      0.45      2911\n",
            "\n"
          ]
        }
      ],
      "source": [
        "print(classification_report(y_test_truevalue,x_test_predictions))"
      ]
    },
    {
      "cell_type": "code",
      "execution_count": null,
      "metadata": {
        "id": "bXg_g_BiIlrQ"
      },
      "outputs": [],
      "source": [
        "# Saving the Model\n",
        "ai_brain.save('customer_classification_model.h5')"
      ]
    },
    {
      "cell_type": "code",
      "execution_count": null,
      "metadata": {
        "id": "KgVwUoISzhax"
      },
      "outputs": [],
      "source": [
        "# Saving the data\n",
        "with open('customer_data.pickle', 'wb') as fh:\n",
        "   pickle.dump([X_train_scaled,y_train,X_test_scaled,y_test,customers_1,customer_df_cleaned,scaler_age,enc,one_hot_enc,le], fh)"
      ]
    },
    {
      "cell_type": "code",
      "execution_count": null,
      "metadata": {
        "id": "vxLeVT3Jzj0q"
      },
      "outputs": [],
      "source": [
        "# Loading the Model\n",
        "ai_brain = load_model('customer_classification_model.h5')"
      ]
    },
    {
      "cell_type": "code",
      "execution_count": null,
      "metadata": {
        "id": "REKos33xzlNo"
      },
      "outputs": [],
      "source": [
        "# Loading the data\n",
        "with open('customer_data.pickle', 'rb') as fh:\n",
        "   [X_train_scaled,y_train,X_test_scaled,y_test,customers_1,customer_df_cleaned,scaler_age,enc,one_hot_enc,le]=pickle.load(fh)"
      ]
    },
    {
      "cell_type": "markdown",
      "metadata": {
        "id": "FEQ8rhOO1fqc"
      },
      "source": [
        "# Prediction for a single input"
      ]
    },
    {
      "cell_type": "code",
      "execution_count": null,
      "metadata": {
        "colab": {
          "base_uri": "https://localhost:8080/"
        },
        "id": "EvoVhV1V1pnP",
        "outputId": "0776dd34-34fc-4a6f-eb1c-fec71546299a"
      },
      "outputs": [
        {
          "name": "stdout",
          "output_type": "stream",
          "text": [
            "1/1 [==============================] - 0s 63ms/step\n"
          ]
        }
      ],
      "source": [
        "x_single_prediction = np.argmax(ai_brain.predict(X_test_scaled[1:2,:]), axis=1)"
      ]
    },
    {
      "cell_type": "code",
      "execution_count": null,
      "metadata": {
        "colab": {
          "base_uri": "https://localhost:8080/"
        },
        "id": "-qUTW8Y_10MI",
        "outputId": "a0850461-7eb5-46f0-e91e-fc14c33c954a"
      },
      "outputs": [
        {
          "name": "stdout",
          "output_type": "stream",
          "text": [
            "[2]\n"
          ]
        }
      ],
      "source": [
        "print(x_single_prediction)"
      ]
    },
    {
      "cell_type": "code",
      "execution_count": null,
      "metadata": {
        "colab": {
          "base_uri": "https://localhost:8080/"
        },
        "id": "i94QJpU411-I",
        "outputId": "03176aa5-1f76-4270-abfa-5fe0a7e541e9"
      },
      "outputs": [
        {
          "name": "stdout",
          "output_type": "stream",
          "text": [
            "['C']\n"
          ]
        }
      ],
      "source": [
        "print(le.inverse_transform(x_single_prediction))"
      ]
    }
  ],
  "metadata": {
    "colab": {
      "provenance": []
    },
    "kernelspec": {
      "display_name": "Python 3",
      "name": "python3"
    },
    "language_info": {
      "name": "python"
    }
  },
  "nbformat": 4,
  "nbformat_minor": 0
}